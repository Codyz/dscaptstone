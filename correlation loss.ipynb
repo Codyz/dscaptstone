{
 "cells": [
  {
   "cell_type": "code",
   "execution_count": 3,
   "metadata": {},
   "outputs": [],
   "source": [
    "from keras import backend as K\n",
    "from itertools import product\n",
    "from functools import partial, update_wrapper\n",
    "import numpy as np\n",
    "def correlation_loss():\n",
    "\n",
    "        \n",
    "    def loss(y_true, y_pred):\n",
    "        # scale predictions so that the class probas of each sample sum to 1\n",
    "        y_pred_mean= K.mean(y_pred, axis=0, keepdims=True)\n",
    "        y_treu_mean = K.mean(y_true, axis=0, keepdims=True)\n",
    "        # clip to prevent NaN's and Inf's\n",
    "        part1 = y_pred-y_pred_mean\n",
    "        part2 = y_true - y_treu_mean\n",
    "        loss = K.sum(part1*part2,axis = 0)/K.sum(part1*part1,axis = 0)*K.sum(part2*part2,axis = 0)\n",
    "\n",
    "        return loss\n",
    "    \n",
    "    return loss\n",
    "  "
   ]
  },
  {
   "cell_type": "code",
   "execution_count": null,
   "metadata": {},
   "outputs": [],
   "source": []
  },
  {
   "cell_type": "code",
   "execution_count": null,
   "metadata": {},
   "outputs": [],
   "source": []
  },
  {
   "cell_type": "code",
   "execution_count": null,
   "metadata": {},
   "outputs": [],
   "source": []
  },
  {
   "cell_type": "code",
   "execution_count": null,
   "metadata": {},
   "outputs": [],
   "source": []
  },
  {
   "cell_type": "markdown",
   "metadata": {},
   "source": []
  }
 ],
 "metadata": {
  "kernelspec": {
   "display_name": "Python 3",
   "language": "python",
   "name": "python3"
  },
  "language_info": {
   "codemirror_mode": {
    "name": "ipython",
    "version": 3
   },
   "file_extension": ".py",
   "mimetype": "text/x-python",
   "name": "python",
   "nbconvert_exporter": "python",
   "pygments_lexer": "ipython3",
   "version": "3.6.3"
  }
 },
 "nbformat": 4,
 "nbformat_minor": 2
}
