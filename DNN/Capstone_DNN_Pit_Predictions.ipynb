{
 "cells": [
  {
   "cell_type": "code",
   "execution_count": 1,
   "metadata": {},
   "outputs": [],
   "source": [
    "%%capture\n",
    "import tensorflow as tf\n",
    "from tensorflow import keras\n",
    "from scipy.io import loadmat\n",
    "from tensorflow.keras import regularizers\n",
    "import os\n",
    "import time\n",
    "from IPython.display import HTML, display\n",
    "! pip install tabulate\n",
    "import tabulate\n",
    "import numpy as np\n",
    "import gc\n",
    "from tensorflow.keras.models import model_from_json\n",
    "!pip install tqdm\n",
    "!pip install h5py\n",
    "import zipfile\n",
    "from tqdm import tqdm_notebook\n",
    "import matplotlib.pyplot as plt\n",
    "from tensorflow.keras import backend as K\n",
    "from sklearn.metrics import r2_score\n",
    "from sklearn import preprocessing\n",
    "from tensorflow.keras.models import model_from_json"
   ]
  },
  {
   "cell_type": "code",
   "execution_count": 2,
   "metadata": {},
   "outputs": [],
   "source": [
    "def scale(x):\n",
    "\n",
    "    return (x - np.mean(x)) / np.std(x)"
   ]
  },
  {
   "cell_type": "code",
   "execution_count": 3,
   "metadata": {},
   "outputs": [],
   "source": [
    "def preprocess(x):\n",
    "    \n",
    "    return x[:,:,:int(0.75*x.shape[2])]"
   ]
  },
  {
   "cell_type": "code",
   "execution_count": 4,
   "metadata": {},
   "outputs": [],
   "source": [
    "os.chdir(\"/home/pk2573\")\n",
    "file_path = \"/home/pk2573/Capstone_Data.zip\""
   ]
  },
  {
   "cell_type": "code",
   "execution_count": 5,
   "metadata": {},
   "outputs": [],
   "source": [
    "def un_zip(file_path):\n",
    "    path, fname = os.path.split(file_path)\n",
    "    if (fname.endswith(\"zip\")):\n",
    "        zip_ref = zipfile.ZipFile(fname, 'r')\n",
    "        zip_ref.extractall(path)\n",
    "        zip_ref.close() \n",
    "            \n",
    "    new_path = path + \"/\" + fname.split(\".\")[0]\n",
    "    \n",
    "    return new_path"
   ]
  },
  {
   "cell_type": "code",
   "execution_count": 6,
   "metadata": {},
   "outputs": [
    {
     "name": "stdout",
     "output_type": "stream",
     "text": [
      "/home/pk2573/Capstone_Data\n"
     ]
    }
   ],
   "source": [
    "path = un_zip(file_path)\n",
    "print(path)"
   ]
  },
  {
   "cell_type": "code",
   "execution_count": 7,
   "metadata": {},
   "outputs": [],
   "source": [
    "json_file = open('model_tau_12.json', 'r')\n",
    "loaded_model_json = json_file.read()\n",
    "json_file.close()\n",
    "model_tau_12 = model_from_json(loaded_model_json)\n",
    "model_tau_12.load_weights(\"model_tau_12.h5\")\n",
    "model_tau_12.compile(loss = 'mse', optimizer = tf.train.AdamOptimizer())"
   ]
  },
  {
   "cell_type": "code",
   "execution_count": 8,
   "metadata": {},
   "outputs": [],
   "source": [
    "json_file = open('model_tau_13.json', 'r')\n",
    "loaded_model_json = json_file.read()\n",
    "json_file.close()\n",
    "model_tau_13 = model_from_json(loaded_model_json)\n",
    "model_tau_13.load_weights(\"model_tau_13.h5\")\n",
    "model_tau_13.compile(loss = 'mse', optimizer = tf.train.AdamOptimizer())"
   ]
  },
  {
   "cell_type": "code",
   "execution_count": 9,
   "metadata": {},
   "outputs": [],
   "source": [
    "json_file = open('model_tau_23.json', 'r')\n",
    "loaded_model_json = json_file.read()\n",
    "json_file.close()\n",
    "model_tau_23 = model_from_json(loaded_model_json)\n",
    "model_tau_23.load_weights(\"model_tau_23.h5\")\n",
    "model_tau_23.compile(loss = 'mse', optimizer = tf.train.AdamOptimizer())"
   ]
  },
  {
   "cell_type": "code",
   "execution_count": 10,
   "metadata": {},
   "outputs": [
    {
     "data": {
      "text/plain": [
       "['/home/pk2573/Capstone_Data',\n",
       " '/home/pk2573/Capstone_Data/Re15sh20_DNScoarse16',\n",
       " '/home/pk2573/Capstone_Data/Re15sh2_DNScoarse8',\n",
       " '/home/pk2573/Capstone_Data/Marco_chan1_DNScoarse8',\n",
       " '/home/pk2573/Capstone_Data/Re15sh20_DNScoarse24']"
      ]
     },
     "execution_count": 10,
     "metadata": {},
     "output_type": "execute_result"
    }
   ],
   "source": [
    "subdirs = [subdir for subdir, dirs, files in os.walk(path)]\n",
    "subdirs = subdirs[:2] + subdirs[3:]\n",
    "subdirs"
   ]
  },
  {
   "cell_type": "code",
   "execution_count": 11,
   "metadata": {},
   "outputs": [
    {
     "name": "stdout",
     "output_type": "stream",
     "text": [
      "Running Re15sh20_DNScoarse16\n",
      "Running Re15sh2_DNScoarse8\n",
      "Running Marco_chan1_DNScoarse8\n",
      "Running Re15sh20_DNScoarse24\n"
     ]
    }
   ],
   "source": [
    "out = [[\"Data Source\", \"Tau_12\", \"Tau_13\", \"Tau_23\"]]\n",
    "for path in subdirs[1:]:\n",
    "    print(\"Running \" + path.split(\"/\")[-1])\n",
    "    os.chdir(path)\n",
    "    \n",
    "    u = loadmat('u_F_xyz_T1.mat')\n",
    "    u = preprocess(scale(u[list(u.keys())[-1]]))\n",
    "    v = loadmat('v_F_xyz_T1.mat')\n",
    "    v = preprocess(scale(v[list(v.keys())[-1]]))\n",
    "    w = loadmat('w_F_xyz_T1.mat')\n",
    "    w = preprocess(scale(w[list(w.keys())[-1]]))\n",
    "    tau_12 = loadmat('tau12_xyz_T1.mat')\n",
    "    tau_12 = preprocess(scale(tau_12[list(tau_12.keys())[-1]]))\n",
    "    tau_13 = loadmat('tau13_xyz_T1.mat')\n",
    "    tau_13 = preprocess(scale(tau_13[list(tau_13.keys())[-1]]))\n",
    "    tau_23 = loadmat('tau23_xyz_T1.mat')\n",
    "    tau_23 = preprocess(scale(tau_23[list(tau_23.keys())[-1]]))\n",
    "    \n",
    "    x = np.array([u, v, w])\n",
    "    x = np.transpose(x, [1, 2, 3, 0])\n",
    "    x = np.pad(x, ((3,3), (3,3), (3,3), (0,0)), 'constant', constant_values = 0)\n",
    "    \n",
    "    del u\n",
    "    del v\n",
    "    del w\n",
    "    gc.collect()\n",
    "    \n",
    "    sample = []\n",
    "    size = 3\n",
    "    y_tau_12 = []\n",
    "    y_tau_13 = []\n",
    "    y_tau_23 = []\n",
    "    for i in range(size, x.shape[0] - size):\n",
    "        for j in range(size, x.shape[1] - size):\n",
    "            for k in range(size, x.shape[2] - size):\n",
    "                sample.append(x[i - size: i + size + 1, j - size: j + size + 1, k - size: k + size + 1, :])\n",
    "                y_tau_12.append(tau_12[i - size][j - size][k - size])\n",
    "                y_tau_13.append(tau_13[i - size][j - size][k - size])\n",
    "                y_tau_23.append(tau_23[i - size][j - size][k - size])\n",
    "    \n",
    "    x = np.array(sample)\n",
    "\n",
    "    tau_12 = np.array(y_tau_12)\n",
    "    tau_13 = np.array(y_tau_13)\n",
    "    tau_23 = np.array(y_tau_23)\n",
    "    \n",
    "    del sample\n",
    "    gc.collect()\n",
    "    \n",
    "    output = [(tau_12, \"tau_12\", model_tau_12), (tau_13, \"tau_13\", model_tau_13), (tau_23, \"tau_23\", model_tau_23)]\n",
    "    \n",
    "    corrs = []\n",
    "    for (y_true, name, model) in output:\n",
    "        y_pred = model.predict(x).flatten()\n",
    "        corrs.append(np.corrcoef(y_pred, y_true)[0, 1])\n",
    "    \n",
    "    out.append([path.split(\"/\")[-1], str(np.round(corrs[0], 4)), str(np.round(corrs[1], 4)), str(np.round(corrs[2], 4))])\n",
    "        \n",
    "    del x\n",
    "    del tau_12\n",
    "    del tau_13\n",
    "    del tau_23\n",
    "    del model\n",
    "    del y_pred\n",
    "    del y_true\n",
    "    gc.collect()"
   ]
  },
  {
   "cell_type": "code",
   "execution_count": 14,
   "metadata": {},
   "outputs": [
    {
     "data": {
      "text/html": [
       "<table>\n",
       "<tbody>\n",
       "<tr><td>Data Source           </td><td>Tau_12</td><td>Tau_13</td><td>Tau_23</td></tr>\n",
       "<tr><td>Re15sh20_DNScoarse16  </td><td>0.7249</td><td>0.8303</td><td>0.7898</td></tr>\n",
       "<tr><td>Re15sh2_DNScoarse8    </td><td>0.6966</td><td>0.7721</td><td>0.8014</td></tr>\n",
       "<tr><td>Marco_chan1_DNScoarse8</td><td>0.5666</td><td>0.6008</td><td>0.6397</td></tr>\n",
       "<tr><td>Re15sh20_DNScoarse24  </td><td>0.6551</td><td>0.7887</td><td>0.7221</td></tr>\n",
       "</tbody>\n",
       "</table>"
      ],
      "text/plain": [
       "<IPython.core.display.HTML object>"
      ]
     },
     "metadata": {},
     "output_type": "display_data"
    }
   ],
   "source": [
    "display(HTML(tabulate.tabulate(out, tablefmt = 'html')))"
   ]
  }
 ],
 "metadata": {
  "kernelspec": {
   "display_name": "Python 3",
   "language": "python",
   "name": "python3"
  },
  "language_info": {
   "codemirror_mode": {
    "name": "ipython",
    "version": 3
   },
   "file_extension": ".py",
   "mimetype": "text/x-python",
   "name": "python",
   "nbconvert_exporter": "python",
   "pygments_lexer": "ipython3",
   "version": "3.6.6"
  }
 },
 "nbformat": 4,
 "nbformat_minor": 2
}
