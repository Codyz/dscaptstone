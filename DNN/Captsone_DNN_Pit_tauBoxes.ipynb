{
 "cells": [
  {
   "cell_type": "code",
   "execution_count": 1,
   "metadata": {},
   "outputs": [],
   "source": [
    "%%capture\n",
    "import tensorflow as tf\n",
    "from tensorflow import keras\n",
    "from scipy.io import loadmat\n",
    "from tensorflow.keras import regularizers\n",
    "import os\n",
    "import time\n",
    "import numpy as np\n",
    "import gc\n",
    "from tensorflow.keras.models import model_from_json\n",
    "!pip install tqdm\n",
    "!pip install h5py\n",
    "from tqdm import tqdm_notebook\n",
    "import matplotlib.pyplot as plt\n",
    "from tensorflow.keras import backend as K\n",
    "from sklearn.metrics import r2_score\n",
    "from sklearn import preprocessing"
   ]
  },
  {
   "cell_type": "code",
   "execution_count": 2,
   "metadata": {},
   "outputs": [],
   "source": [
    "def scale(x):\n",
    "\n",
    "    return (x - np.mean(x)) / np.std(x)"
   ]
  },
  {
   "cell_type": "code",
   "execution_count": 3,
   "metadata": {},
   "outputs": [],
   "source": [
    "def preprocess(x):\n",
    "    \n",
    "    return x[:,:,:int(0.75*x.shape[2])]"
   ]
  },
  {
   "cell_type": "code",
   "execution_count": 4,
   "metadata": {},
   "outputs": [],
   "source": [
    "u = preprocess(scale(loadmat('u_F_xyz_T1.mat')[\"u_F\"]))\n",
    "v = preprocess(scale(loadmat('v_F_xyz_T1.mat')[\"v_F\"]))\n",
    "w = preprocess(scale(loadmat('w_F_xyz_T1.mat')[\"w_F\"]))\n",
    "tau_12 = preprocess(scale(loadmat('tau12_xyz_T1.mat')[\"tau12\"]))"
   ]
  },
  {
   "cell_type": "markdown",
   "metadata": {},
   "source": [
    "### 1. Generae Input datasets"
   ]
  },
  {
   "cell_type": "markdown",
   "metadata": {},
   "source": [
    "#### 1.1 Create x_base with dxdxd cubes"
   ]
  },
  {
   "cell_type": "code",
   "execution_count": 5,
   "metadata": {},
   "outputs": [],
   "source": [
    "x = np.array([u, v, w])\n",
    "x = np.transpose(x, [1, 2, 3, 0])\n",
    "x_base = np.pad(x, ((3,3), (3,3), (3,3), (0,0)), 'constant', constant_values = 0)"
   ]
  },
  {
   "cell_type": "code",
   "execution_count": 6,
   "metadata": {},
   "outputs": [
    {
     "data": {
      "application/vnd.jupyter.widget-view+json": {
       "model_id": "01d6c67e678c4c71b9c9a486a68daff2",
       "version_major": 2,
       "version_minor": 0
      },
      "text/plain": [
       "HBox(children=(IntProgress(value=0, max=146), HTML(value='')))"
      ]
     },
     "metadata": {},
     "output_type": "display_data"
    },
    {
     "name": "stdout",
     "output_type": "stream",
     "text": [
      "\n",
      "(784896, 7, 7, 7, 3)\n"
     ]
    },
    {
     "data": {
      "text/plain": [
       "7"
      ]
     },
     "execution_count": 6,
     "metadata": {},
     "output_type": "execute_result"
    }
   ],
   "source": [
    "sample = []\n",
    "size = 3\n",
    "tau_12_base = []\n",
    "\n",
    "for i in tqdm_notebook(range(size, x_base.shape[0] - size)):\n",
    "    for j in range(size, x_base.shape[1] - size):\n",
    "        for k in range(size, x_base.shape[2] - size):\n",
    "            sample.append(x_base[i - size: i + size + 1, j - size: j + size + 1, k - size: k + size + 1, :])\n",
    "            tau_12_base.append(tau_12[i - size][j - size][k - size])\n",
    "\n",
    "x_base = np.stack(sample, axis = 0)\n",
    "tau_12_base = np.array(tau_12_base)\n",
    "print(x_base.shape)\n",
    "\n",
    "del sample\n",
    "gc.collect()"
   ]
  },
  {
   "cell_type": "markdown",
   "metadata": {},
   "source": [
    "#### 1.2 Create x_mod with dxmxn cubes"
   ]
  },
  {
   "cell_type": "code",
   "execution_count": 7,
   "metadata": {},
   "outputs": [],
   "source": [
    "x_mod_1 = np.pad(x,((5,5), (3,3), (2,2), (0,0)), \"constant\", constant_values = 0)"
   ]
  },
  {
   "cell_type": "code",
   "execution_count": 8,
   "metadata": {},
   "outputs": [
    {
     "data": {
      "application/vnd.jupyter.widget-view+json": {
       "model_id": "a97b0bcaf3424fbd954aeffa2d2cdd47",
       "version_major": 2,
       "version_minor": 0
      },
      "text/plain": [
       "HBox(children=(IntProgress(value=0, max=146), HTML(value='')))"
      ]
     },
     "metadata": {},
     "output_type": "display_data"
    },
    {
     "name": "stdout",
     "output_type": "stream",
     "text": [
      "\n",
      "(784896, 11, 7, 5, 3)\n"
     ]
    },
    {
     "data": {
      "text/plain": [
       "0"
      ]
     },
     "execution_count": 8,
     "metadata": {},
     "output_type": "execute_result"
    }
   ],
   "source": [
    "sample = []\n",
    "size_x = 5\n",
    "size_y = 3\n",
    "size_z = 2\n",
    "tau_12_mod_1 = []\n",
    "\n",
    "for i in tqdm_notebook(range(size_x, x_mod_1.shape[0] - size_x)):\n",
    "    for j in range(size_y, x_mod_1.shape[1] - size_y):\n",
    "        for k in range(size_z, x_mod_1.shape[2] - size_z):\n",
    "            sample.append(x_mod_1[i - size_x: i + size_x + 1, j - size_y: j + size_y + 1, k - size_z: k + size_z + 1, :])\n",
    "            tau_12_mod_1.append(tau_12[i - size_x][j - size_y][k - size_z])\n",
    "\n",
    "x_mod_1 = np.stack(sample, axis = 0)\n",
    "tau_12_mod_1 = np.array(tau_12_mod_1)\n",
    "print(x_mod_1.shape)\n",
    "\n",
    "del sample\n",
    "gc.collect()"
   ]
  },
  {
   "cell_type": "code",
   "execution_count": 9,
   "metadata": {},
   "outputs": [],
   "source": [
    "x_mod_2 = np.pad(x,((7,7), (5,5), (1,1), (0,0)), \"constant\", constant_values = 0)"
   ]
  },
  {
   "cell_type": "code",
   "execution_count": 10,
   "metadata": {},
   "outputs": [
    {
     "data": {
      "application/vnd.jupyter.widget-view+json": {
       "model_id": "bee72347e2f4441d841a20cd6c9e7c93",
       "version_major": 2,
       "version_minor": 0
      },
      "text/plain": [
       "HBox(children=(IntProgress(value=0, max=146), HTML(value='')))"
      ]
     },
     "metadata": {},
     "output_type": "display_data"
    },
    {
     "name": "stdout",
     "output_type": "stream",
     "text": [
      "\n",
      "(784896, 15, 11, 3, 3)\n"
     ]
    },
    {
     "data": {
      "text/plain": [
       "0"
      ]
     },
     "execution_count": 10,
     "metadata": {},
     "output_type": "execute_result"
    }
   ],
   "source": [
    "sample = []\n",
    "size_x = 7\n",
    "size_y = 5\n",
    "size_z = 1\n",
    "tau_12_mod_2 = []\n",
    "\n",
    "for i in tqdm_notebook(range(size_x, x_mod_2.shape[0] - size_x)):\n",
    "    for j in range(size_y, x_mod_2.shape[1] - size_y):\n",
    "        for k in range(size_z, x_mod_2.shape[2] - size_z):\n",
    "            sample.append(x_mod_2[i - size_x: i + size_x + 1, j - size_y: j + size_y + 1, k - size_z: k + size_z + 1, :])\n",
    "            tau_12_mod_2.append(tau_12[i - size_x][j - size_y][k - size_z])\n",
    "\n",
    "x_mod_2 = np.stack(sample, axis = 0)\n",
    "tau_12_mod_2 = np.array(tau_12_mod_2)\n",
    "print(x_mod_2.shape)\n",
    "\n",
    "del sample\n",
    "del x\n",
    "gc.collect()"
   ]
  },
  {
   "cell_type": "markdown",
   "metadata": {},
   "source": [
    "### 2. Build Model "
   ]
  },
  {
   "cell_type": "code",
   "execution_count": 11,
   "metadata": {},
   "outputs": [],
   "source": [
    "class DNN(object):\n",
    "    \n",
    "    def __init__(self, activation, x_train, y_train, epochs, batch_size, input_shape, val_split, initializer):\n",
    "        self.activation = activation\n",
    "        self.x_train = x_train\n",
    "        self.y_train = y_train\n",
    "        self.epochs = epochs\n",
    "        self.batch_size = batch_size\n",
    "        self.input_shape = input_shape\n",
    "        self.val_split = val_split\n",
    "        self.initializer = initializer\n",
    "        \n",
    "        pass \n",
    "    \n",
    "    def create_model(self):\n",
    "        model = keras.Sequential([\n",
    "            tf.keras.layers.Flatten(input_shape = self.input_shape),\n",
    "            tf.keras.layers.Dense(128, \n",
    "                             activation = self.activation,\n",
    "                             kernel_initializer = self.initializer),\n",
    "            tf.keras.layers.Dropout(0.2),\n",
    "            tf.keras.layers.Dense(64, \n",
    "                             activation = self.activation,\n",
    "                             kernel_initializer = self.initializer),\n",
    "            tf.keras.layers.Dropout(0.2),\n",
    "            tf.keras.layers.Dense(32, \n",
    "                             activation = self.activation,\n",
    "                             kernel_initializer = self.initializer),\n",
    "            tf.keras.layers.Dense(1)\n",
    "        ])\n",
    "        \n",
    "        return model\n",
    "    \n",
    "    def callbacks(self):\n",
    "        early_stopping = tf.keras.callbacks.EarlyStopping(monitor = 'val_loss',\n",
    "                                               min_delta = 0.001,\n",
    "                                               patience = 0,\n",
    "                                               verbose = 0)\n",
    "        \n",
    "        return early_stopping\n",
    "    \n",
    "    def run_model(self):\n",
    "        model = self.create_model()\n",
    "        model.compile(optimizer = tf.train.AdamOptimizer(), \n",
    "              loss = \"mse\")\n",
    "            \n",
    "        history = model.fit(self.x_train, self.y_train, \n",
    "                    epochs = self.epochs, \n",
    "                    validation_split = self.val_split, \n",
    "                    batch_size =  self.batch_size,\n",
    "                    verbose = 0)\n",
    "                    #callbacks = [self.callbacks()])\n",
    "        \n",
    "        return history, model"
   ]
  },
  {
   "cell_type": "markdown",
   "metadata": {},
   "source": [
    "### 3. Run Model"
   ]
  },
  {
   "cell_type": "code",
   "execution_count": 12,
   "metadata": {},
   "outputs": [
    {
     "name": "stdout",
     "output_type": "stream",
     "text": [
      "Using x_base with box size 7x7x7x3 as input\n",
      "R^2: 0.6631\n",
      "Correlation: 0.8467\n",
      "\n",
      "Using x_mod_1 with box size 11x7x5x3 as input\n",
      "R^2: 0.6760\n",
      "Correlation: 0.8438\n",
      "\n",
      "Using x_mod_2 with box size 15x11x3x3 as input\n",
      "R^2: 0.6523\n",
      "Correlation: 0.8421\n",
      "\n"
     ]
    },
    {
     "data": {
      "image/png": "[encoded data removed]",
      "text/plain": [
       "<Figure size 1440x432 with 3 Axes>"
      ]
     },
     "metadata": {
      "needs_background": "light"
     },
     "output_type": "display_data"
    }
   ],
   "source": [
    "activation = tf.nn.relu\n",
    "epochs = 50\n",
    "initializer = tf.glorot_uniform_initializer\n",
    "batch_size = 1000\n",
    "val_split = 0.2\n",
    "\n",
    "datasets = [(x_base, tau_12_base, \"x_base\", \"7x7x7x3\"), (x_mod_1, tau_12_mod_1, \"x_mod_1\", \"11x7x5x3\"), \n",
    "            (x_mod_2, tau_12_mod_2, \"x_mod_2\", \"15x11x3x3\")]\n",
    "fig = plt.figure(figsize = (20, 6))\n",
    "results = {}\n",
    "i = 1\n",
    "for (x, y, name, size) in datasets:\n",
    "    print(\"Using \" + name + \" with box size \" + size + \" as input\")\n",
    "    mask =  np.random.rand(x.shape[0]) < 0.80\n",
    "    y_train, y_test = y[mask], y[~mask]\n",
    "    x_train, x_test = x[mask,:,:,:,:], x[~mask,:,:,:,:]\n",
    "\n",
    "    input_shape = (x_train.shape[1], x_train.shape[2], x_train.shape[3], x_train.shape[4])\n",
    "    model = DNN(activation, x_train, y_train, epochs, batch_size, input_shape, val_split, initializer)        \n",
    "    history, model = model.run_model()\n",
    "        \n",
    "    del x_train\n",
    "    del y_train\n",
    "    gc.collect()\n",
    "        \n",
    "    fig.add_subplot(1, len(datasets), i)\n",
    "    plt.plot(history.epoch, np.array(history.history['loss']), label = 'Train Loss')\n",
    "    plt.plot(history.epoch, np.array(history.history['val_loss']), label = 'Val loss')\n",
    "    plt.xlabel('Epoch')\n",
    "    plt.ylabel('Mean Square Error')\n",
    "    plt.title(str(\"Box size: \" + size))\n",
    "    plt.legend()\n",
    "\n",
    "    y_pred = model.predict(x_test).flatten()\n",
    "    y_true = y_test\n",
    "    print(\"R^2: %.4f\" % r2_score(y_true, y_pred))\n",
    "    print(\"Correlation: %.4f\\n\" % np.corrcoef(y_pred, y_true)[0, 1])\n",
    "    results[np.corrcoef(y_pred, y_true)[0, 1]] = (x, name)\n",
    "        \n",
    "    del x_test\n",
    "    del y_test\n",
    "    del x\n",
    "    del y_true\n",
    "    del y_pred\n",
    "    del model\n",
    "    gc.collect()\n",
    "    i += 1\n",
    "\n",
    "plt.show()"
   ]
  }
 ],
 "metadata": {
  "kernelspec": {
   "display_name": "Python 3",
   "language": "python",
   "name": "python3"
  },
  "language_info": {
   "codemirror_mode": {
    "name": "ipython",
    "version": 3
   },
   "file_extension": ".py",
   "mimetype": "text/x-python",
   "name": "python",
   "nbconvert_exporter": "python",
   "pygments_lexer": "ipython3",
   "version": "3.6.6"
  }
 },
 "nbformat": 4,
 "nbformat_minor": 2
}
