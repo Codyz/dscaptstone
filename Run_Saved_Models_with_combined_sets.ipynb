{
 "cells": [
  {
   "cell_type": "code",
   "execution_count": 15,
   "metadata": {},
   "outputs": [],
   "source": [
    "%%capture\n",
    "import tensorflow as tf\n",
    "from tensorflow import keras\n",
    "from scipy.io import loadmat\n",
    "from tensorflow.keras import regularizers\n",
    "import os\n",
    "import time\n",
    "import numpy as np\n",
    "import gc\n",
    "from tensorflow.keras.models import model_from_json\n",
    "from tensorflow.keras.models import load_model\n",
    "from tqdm import tqdm_notebook\n",
    "import matplotlib.pyplot as plt\n",
    "from tensorflow.keras import backend as K\n",
    "from sklearn.metrics import r2_score\n",
    "from sklearn import preprocessing\n",
    "import gc\n",
    "import h5py\n",
    "import math\n",
    "from IPython.display import HTML, display\n",
    "import tabulate"
   ]
  },
  {
   "cell_type": "code",
   "execution_count": 16,
   "metadata": {},
   "outputs": [],
   "source": [
    "def scale(x):\n",
    "    return (x -np.mean(x)) / np.std(x)"
   ]
  },
  {
   "cell_type": "code",
   "execution_count": 17,
   "metadata": {},
   "outputs": [],
   "source": [
    "def preprocess(x): \n",
    "    return x[:,:,:int(0.75*x.shape[2])]"
   ]
  },
  {
   "cell_type": "code",
   "execution_count": 20,
   "metadata": {},
   "outputs": [
    {
     "data": {
      "text/plain": [
       "'/home/llin2948/dscaptstone'"
      ]
     },
     "execution_count": 20,
     "metadata": {},
     "output_type": "execute_result"
    }
   ],
   "source": [
    "path = os.getcwd()\n",
    "path"
   ]
  },
  {
   "cell_type": "code",
   "execution_count": 21,
   "metadata": {},
   "outputs": [
    {
     "name": "stdout",
     "output_type": "stream",
     "text": [
      "Loaded model 12 from disk\n",
      "Loaded model 13 from disk\n",
      "Loaded model 23 from disk\n"
     ]
    }
   ],
   "source": [
    "os.chdir(path+\"/Saved_Models_2Sets\")\n",
    "##### Load Model for tau_12\n",
    "json_file = open('model2_Tau_12.json', 'r')\n",
    "loaded_model_json = json_file.read()\n",
    "json_file.close()\n",
    "loaded_model_12 = model_from_json(loaded_model_json)\n",
    "\n",
    "# load weights into new model\n",
    "loaded_model_12.load_weights(\"model2_Tau_12.h5\")\n",
    "print(\"Loaded model 12 from disk\")\n",
    "\n",
    "# evaluate loaded model on test data \n",
    "# Define X_test & Y_test data first\n",
    "loaded_model_12.compile(optimizer = tf.train.AdamOptimizer(), loss = \"mse\")\n",
    "\n",
    "#### Load Model for tau_13\n",
    "json_file = open('model2_Tau_13.json', 'r')\n",
    "loaded_model_json = json_file.read()\n",
    "json_file.close()\n",
    "loaded_model_13 = model_from_json(loaded_model_json)\n",
    "\n",
    "# load weights into new model\n",
    "loaded_model_13.load_weights(\"model2_Tau_13.h5\")\n",
    "print(\"Loaded model 13 from disk\")\n",
    "\n",
    "# evaluate loaded model on test data \n",
    "# Define X_test & Y_test data first\n",
    "loaded_model_13.compile(optimizer = tf.train.AdamOptimizer(), loss = \"mse\")\n",
    "\n",
    "#### Load Model for tau_23\n",
    "json_file = open('model2_Tau_23.json', 'r')\n",
    "loaded_model_json = json_file.read()\n",
    "json_file.close()\n",
    "loaded_model_23 = model_from_json(loaded_model_json)\n",
    "\n",
    "# load weights into new model\n",
    "loaded_model_23.load_weights(\"model2_Tau_23.h5\")\n",
    "print(\"Loaded model 23 from disk\")\n",
    "\n",
    "# evaluate loaded model on test data \n",
    "# Define X_test & Y_test data first\n",
    "loaded_model_23.compile(optimizer = tf.train.AdamOptimizer(), loss = \"mse\")"
   ]
  },
  {
   "cell_type": "code",
   "execution_count": 22,
   "metadata": {},
   "outputs": [
    {
     "name": "stdout",
     "output_type": "stream",
     "text": [
      "Processing /home/llin2948/dscaptstone/Data/Re15sh2_DNScoarse8\n"
     ]
    },
    {
     "data": {
      "application/vnd.jupyter.widget-view+json": {
       "model_id": "34f72060d51246208e0dcfa4219759a4",
       "version_major": 2,
       "version_minor": 0
      },
      "text/plain": [
       "HBox(children=(IntProgress(value=0, max=146), HTML(value='')))"
      ]
     },
     "metadata": {},
     "output_type": "display_data"
    },
    {
     "name": "stdout",
     "output_type": "stream",
     "text": [
      "\n",
      "predicting tau_12\n",
      "predicting tau_13\n",
      "predicting tau_23\n",
      "Processing /home/llin2948/dscaptstone/Data/Re15sh5_DNScoarse8\n"
     ]
    },
    {
     "data": {
      "application/vnd.jupyter.widget-view+json": {
       "model_id": "bca5214d8844493b9cac5d05c662f211",
       "version_major": 2,
       "version_minor": 0
      },
      "text/plain": [
       "HBox(children=(IntProgress(value=0, max=146), HTML(value='')))"
      ]
     },
     "metadata": {},
     "output_type": "display_data"
    },
    {
     "name": "stdout",
     "output_type": "stream",
     "text": [
      "\n",
      "predicting tau_12\n",
      "predicting tau_13\n",
      "predicting tau_23\n",
      "Processing /home/llin2948/dscaptstone/Data/Re15sh20_DNScoarse8\n"
     ]
    },
    {
     "data": {
      "application/vnd.jupyter.widget-view+json": {
       "model_id": "6b994bd7357d49d6adb3ce22d16d1b2d",
       "version_major": 2,
       "version_minor": 0
      },
      "text/plain": [
       "HBox(children=(IntProgress(value=0, max=146), HTML(value='')))"
      ]
     },
     "metadata": {},
     "output_type": "display_data"
    },
    {
     "name": "stdout",
     "output_type": "stream",
     "text": [
      "\n",
      "predicting tau_12\n",
      "predicting tau_13\n",
      "predicting tau_23\n",
      "Processing /home/llin2948/dscaptstone/Data/Marco_chan1_DNScoarse8\n"
     ]
    },
    {
     "data": {
      "application/vnd.jupyter.widget-view+json": {
       "model_id": "6c2a247f5d9443d59fd46f5bace42f7c",
       "version_major": 2,
       "version_minor": 0
      },
      "text/plain": [
       "HBox(children=(IntProgress(value=0, max=93), HTML(value='')))"
      ]
     },
     "metadata": {},
     "output_type": "display_data"
    },
    {
     "name": "stdout",
     "output_type": "stream",
     "text": [
      "\n",
      "predicting tau_12\n",
      "predicting tau_13\n",
      "predicting tau_23\n",
      "Processing /home/llin2948/dscaptstone/Data/Re15sh20_DNScoarse16\n"
     ]
    },
    {
     "data": {
      "application/vnd.jupyter.widget-view+json": {
       "model_id": "ab40c81e7276487dbf148a141270f69c",
       "version_major": 2,
       "version_minor": 0
      },
      "text/plain": [
       "HBox(children=(IntProgress(value=0, max=71), HTML(value='')))"
      ]
     },
     "metadata": {},
     "output_type": "display_data"
    },
    {
     "name": "stdout",
     "output_type": "stream",
     "text": [
      "\n",
      "predicting tau_12\n",
      "predicting tau_13\n",
      "predicting tau_23\n",
      "Processing /home/llin2948/dscaptstone/Data/Re15sh20_DNScoarse24\n"
     ]
    },
    {
     "data": {
      "application/vnd.jupyter.widget-view+json": {
       "model_id": "41d0a8f8bb2149abb3d71ef90ad2421e",
       "version_major": 2,
       "version_minor": 0
      },
      "text/plain": [
       "HBox(children=(IntProgress(value=0, max=46), HTML(value='')))"
      ]
     },
     "metadata": {},
     "output_type": "display_data"
    },
    {
     "name": "stdout",
     "output_type": "stream",
     "text": [
      "\n",
      "predicting tau_12\n",
      "predicting tau_13\n",
      "predicting tau_23\n"
     ]
    },
    {
     "data": {
      "text/html": [
       "<table>\n",
       "<tbody>\n",
       "<tr><td>Data Source           </td><td>Result</td><td>Tau_12</td><td>Tau_13 </td><td>Tau_23</td></tr>\n",
       "<tr><td>Re15sh2_DNScoarse8    </td><td>Corr  </td><td>0.8409</td><td>0.8762 </td><td>0.8892</td></tr>\n",
       "<tr><td>                      </td><td>R^2   </td><td>0.6503</td><td>0.7483 </td><td>0.7742</td></tr>\n",
       "<tr><td>Re15sh5_DNScoarse8    </td><td>Corr  </td><td>0.8186</td><td>0.8493 </td><td>0.8664</td></tr>\n",
       "<tr><td>                      </td><td>R^2   </td><td>0.6054</td><td>0.7013 </td><td>0.7251</td></tr>\n",
       "<tr><td>Re15sh20_DNScoarse8   </td><td>Corr  </td><td>0.8576</td><td>0.9017 </td><td>0.8877</td></tr>\n",
       "<tr><td>                      </td><td>R^2   </td><td>0.5483</td><td>0.7534 </td><td>0.7339</td></tr>\n",
       "<tr><td>Marco_chan1_DNScoarse8</td><td>Corr  </td><td>0.488 </td><td>0.6172 </td><td>0.6896</td></tr>\n",
       "<tr><td>                      </td><td>R^2   </td><td>0.2211</td><td>0.1598 </td><td>0.4728</td></tr>\n",
       "<tr><td>Re15sh20_DNScoarse16  </td><td>Corr  </td><td>0.7529</td><td>0.855  </td><td>0.8115</td></tr>\n",
       "<tr><td>                      </td><td>R^2   </td><td>0.5481</td><td>0.5929 </td><td>0.5982</td></tr>\n",
       "<tr><td>Re15sh20_DNScoarse24  </td><td>Corr  </td><td>0.6944</td><td>0.8166 </td><td>0.7459</td></tr>\n",
       "<tr><td>                      </td><td>R^2   </td><td>0.4751</td><td>-0.1607</td><td>0.142 </td></tr>\n",
       "</tbody>\n",
       "</table>"
      ],
      "text/plain": [
       "<IPython.core.display.HTML object>"
      ]
     },
     "metadata": {},
     "output_type": "display_data"
    }
   ],
   "source": [
    "import math\n",
    "from IPython.display import HTML, display\n",
    "import tabulate\n",
    "out = [[\"Data Source\", \"Result\", \"Tau_12\", \"Tau_13\", \"Tau_23\"]]\n",
    "dirs = [(\"Re15sh2_DNScoarse8\",8),(\"Re15sh5_DNScoarse8\",8),(\"Re15sh20_DNScoarse8\",8),(\"Marco_chan1_DNScoarse8\",8),(\"Re15sh20_DNScoarse16\",16),(\"Re15sh20_DNScoarse24\",24)]\n",
    "for (dataDir, coarse) in dirs:\n",
    "    dirName = path + \"/Data/\" + dataDir\n",
    "    os.chdir(dirName)\n",
    "    print(\"Processing \" + dirName)\n",
    "    if dataDir == \"Marco_chan1_DNScoarse8\":\n",
    "        ext1 = 'F_xyz_T1_new.mat'\n",
    "        ext2 = 'xyz_T1_new.mat'\n",
    "        colext = '_new'\n",
    "    else:\n",
    "        ext1 = 'F_xyz_T1_DNS'+str(coarse)+'.mat'\n",
    "        ext2 = ext1\n",
    "        colext = ''\n",
    "    u = preprocess(scale(loadmat('u_'+ext1)['u_F'+colext]))\n",
    "    v = preprocess(scale(loadmat('v_'+ext1)['v_F'+colext]))\n",
    "    w = preprocess(scale(loadmat('w_'+ext1)['w_F'+colext]))\n",
    "    tau_12 = preprocess(scale(loadmat('tau12_'+ext2)['tau12'+colext]))\n",
    "    tau_13 = preprocess(scale(loadmat('tau13_'+ext2)['tau13'+colext]))\n",
    "    tau_23 = preprocess(scale(loadmat('tau23_'+ext2)['tau23'+colext]))\n",
    "\n",
    "    x = np.array([u, v, w])\n",
    "    x = np.transpose(x, [1, 2, 3, 0])\n",
    "    x = np.pad(x, ((3,3), (3,3), (3,3), (0,0)), 'constant', constant_values = 0)\n",
    "\n",
    "    sample = []\n",
    "    size = 3\n",
    "    y_tau_12 = []\n",
    "    y_tau_13 = []\n",
    "    y_tau_23 = []\n",
    "    for i in tqdm_notebook(range(size, x.shape[0] - size)):\n",
    "        for j in range(size, x.shape[1] - size):\n",
    "            for k in range(size, x.shape[2] - size):\n",
    "                sample.append(x[i - size: i + size + 1, j - size: j + size + 1, k - size: k + size + 1, :])\n",
    "                y_tau_12.append(tau_12[i - size][j - size][k - size])\n",
    "                y_tau_13.append(tau_13[i - size][j - size][k - size])\n",
    "                y_tau_23.append(tau_23[i - size][j - size][k - size])\n",
    "            \n",
    "    x = np.array(sample)\n",
    "    y_tau_12 = np.array(y_tau_12)\n",
    "    y_tau_13 = np.array(y_tau_13)\n",
    "    y_tau_23 = np.array(y_tau_23)\n",
    "    \n",
    "    \n",
    "    print(\"predicting tau_12\")\n",
    "    y_pred_12 = loaded_model_12.predict(x).flatten()\n",
    "\n",
    "    print(\"predicting tau_13\")\n",
    "    y_pred_13 = loaded_model_13.predict(x).flatten()\n",
    "\n",
    "    print(\"predicting tau_23\")\n",
    "    y_pred_23 = loaded_model_23.predict(x).flatten()\n",
    "\n",
    "    out.append([dataDir, 'Corr', str(np.round(np.corrcoef(y_pred_12, y_tau_12)[0, 1], 4)), str(np.round(np.corrcoef(y_pred_13, y_tau_13)[0, 1], 4)), str(np.round(np.corrcoef(y_pred_23, y_tau_23)[0, 1], 4))])\n",
    "    out.append(['', 'R^2', str(np.round(r2_score(y_tau_12, y_pred_12), 4)), str(np.round(r2_score(y_tau_13, y_pred_13), 4)), str(np.round(r2_score(y_tau_23, y_pred_23), 4))])\n",
    "\n",
    "display(HTML(tabulate.tabulate(out, tablefmt = 'html')))"
   ]
  },
  {
   "cell_type": "code",
   "execution_count": null,
   "metadata": {},
   "outputs": [],
   "source": [
    "import math\n",
    "from IPython.display import HTML, display\n",
    "import tabulate\n",
    "out = [[\"Data Source\", \"Result\", \"Tau_12\", \"Tau_13\", \"Tau_23\"]]\n",
    "dirs = [(\"Re15sh20_DNScoarse4\",4)]\n",
    "for (dataDir, coarse) in dirs:\n",
    "    dirName = path + \"/Data/\" + dataDir\n",
    "    os.chdir(dirName)\n",
    "    print(\"Processing \" + dirName)\n",
    "    if dataDir == \"Marco_chan1_DNScoarse8\":\n",
    "        ext1 = 'F_xyz_T1_new.mat'\n",
    "        ext2 = 'xyz_T1_new.mat'\n",
    "        colext = '_new'\n",
    "    else:\n",
    "        ext1 = 'F_xyz_T1_DNS'+str(coarse)+'.mat'\n",
    "        ext2 = ext1\n",
    "        colext = ''\n",
    "    u = preprocess(scale(loadmat('u_'+ext1)['u_F'+colext]))\n",
    "    v = preprocess(scale(loadmat('v_'+ext1)['v_F'+colext]))\n",
    "    w = preprocess(scale(loadmat('w_'+ext1)['w_F'+colext]))\n",
    "    tau_12 = preprocess(scale(loadmat('tau12_'+ext2)['tau12'+colext]))\n",
    "    tau_13 = preprocess(scale(loadmat('tau13_'+ext2)['tau13'+colext]))\n",
    "    tau_23 = preprocess(scale(loadmat('tau23_'+ext2)['tau23'+colext]))\n",
    "\n",
    "    x = np.array([u, v, w])\n",
    "    x = np.transpose(x, [1, 2, 3, 0])\n",
    "    x = np.pad(x, ((3,3), (3,3), (3,3), (0,0)), 'constant', constant_values = 0)\n",
    "\n",
    "    size = 3\n",
    "    y_pred_12 = np.array([])\n",
    "    y_pred_13 = np.array([])\n",
    "    y_pred_23 = np.array([])\n",
    "    y_true_12 = np.array([])\n",
    "    y_true_13 = np.array([])\n",
    "    y_true_23 = np.array([])\n",
    "    u_idx = 0\n",
    "    v_idx = 0\n",
    "    z_idx = 0\n",
    "    for u_idx in range(0, math.ceil(x.shape[0]/151)):\n",
    "        for v_idx in range(0, math.ceil(x.shape[1]/101)):\n",
    "            for z_idx in range(0, math.ceil(x.shape[2]/60)):\n",
    "                u_lowerbound = u_idx*151+size\n",
    "                u_upperbound = x.shape[0] - size if (u_idx+1)*151 >= x.shape[0] else (u_idx+1)*151 - size\n",
    "                v_lowerbound = v_idx*101+size\n",
    "                v_upperbound = x.shape[1] - size if (v_idx+1)*101 >= x.shape[1] else (v_idx+1)*101 - size\n",
    "                z_lowerbound = z_idx*60+size\n",
    "                z_upperbound = x.shape[2] - size if (z_idx+1)*60 >= x.shape[2] else (z_idx+1)*60 - size\n",
    "                print(str(u_lowerbound) + ' ' + str(u_upperbound))\n",
    "                print(str(v_lowerbound) + ' ' + str(v_upperbound))\n",
    "                print(str(z_lowerbound) + ' ' + str(z_upperbound))\n",
    "                sample = []\n",
    "                y_tau_12 = []\n",
    "                y_tau_13 = []\n",
    "                y_tau_23 = []\n",
    "                for i in tqdm_notebook(range(u_lowerbound, u_upperbound)):\n",
    "                    for j in range(v_lowerbound, v_upperbound):\n",
    "                        for k in range(z_lowerbound, z_upperbound):\n",
    "                            sample.append(x[i - size: i + size + 1, j - size: j + size + 1, k - size: k + size + 1, :])\n",
    "                            y_tau_12.append(tau_12[i - size][j - size][k - size])\n",
    "                            y_tau_13.append(tau_13[i - size][j - size][k - size])\n",
    "                            y_tau_23.append(tau_23[i - size][j - size][k - size])\n",
    "\n",
    "                x_part = np.stack(sample, axis = 0)\n",
    "                y_tau_12 = np.array(y_tau_12)\n",
    "                y_tau_13 = np.array(y_tau_13)\n",
    "                y_tau_23 = np.array(y_tau_23)\n",
    "\n",
    "                del sample\n",
    "                gc.collect()\n",
    "\n",
    "                y_pred_12 = np.append(y_pred_12, loaded_model_12.predict(x_part).flatten())\n",
    "                y_true_12 = np.append(y_true_12, y_tau_12)\n",
    "\n",
    "                y_pred_13 = np.append(y_pred_13, loaded_model_13.predict(x_part).flatten())\n",
    "                y_true_13 = np.append(y_true_13, y_tau_13)\n",
    "\n",
    "                y_pred_23 = np.append(y_pred_23, loaded_model_23.predict(x_part).flatten())\n",
    "                y_true_23 = np.append(y_true_23, y_tau_23)\n",
    "\n",
    "                del x_part\n",
    "                del y_tau_12\n",
    "                del y_tau_13\n",
    "                del y_tau_23\n",
    "                gc.collect()\n",
    "\n",
    "    out.append([dataDir, 'Corr', str(np.round(np.corrcoef(y_pred_12, y_true_12)[0, 1], 4)), str(np.round(np.corrcoef(y_pred_13, y_true_13)[0, 1], 4)), str(np.round(np.corrcoef(y_pred_23, y_true_23)[0, 1], 4))])\n",
    "    out.append(['', 'R^2', str(np.round(r2_score(y_true_12, y_pred_12), 4)), str(np.round(r2_score(y_true_13, y_pred_13), 4)), str(np.round(r2_score(y_true_23, y_pred_23), 4))])\n",
    "display(HTML(tabulate.tabulate(out, tablefmt = 'html')))"
   ]
  },
  {
   "cell_type": "code",
   "execution_count": 28,
   "metadata": {},
   "outputs": [
    {
     "data": {
      "text/html": [
       "<table>\n",
       "<tbody>\n",
       "<tr><td>Data Source        </td><td>Result</td><td>Tau_12</td><td>Tau_13</td><td>Tau_23</td></tr>\n",
       "<tr><td>Re15sh20_DNScoarse4</td><td>Corr  </td><td>0.8583</td><td>0.8556</td><td>0.8901</td></tr>\n",
       "<tr><td>                   </td><td>R^2   </td><td>0.367 </td><td>0.4904</td><td>0.5109</td></tr>\n",
       "</tbody>\n",
       "</table>"
      ],
      "text/plain": [
       "<IPython.core.display.HTML object>"
      ]
     },
     "metadata": {},
     "output_type": "display_data"
    }
   ],
   "source": [
    "out.append([dataDir, 'Corr', str(np.round(np.corrcoef(y_pred_12, y_true_12)[0, 1], 4)), str(np.round(np.corrcoef(y_pred_13, y_true_13)[0, 1], 4)), str(np.round(np.corrcoef(y_pred_23, y_true_23)[0, 1], 4))])\n",
    "out.append(['', 'R^2', str(np.round(r2_score(y_true_12, y_pred_12), 4)), str(np.round(r2_score(y_true_13, y_pred_13), 4)), str(np.round(r2_score(y_true_23, y_pred_23), 4))])\n",
    "\n",
    "display(HTML(tabulate.tabulate(out, tablefmt = 'html')))"
   ]
  },
  {
   "cell_type": "code",
   "execution_count": null,
   "metadata": {},
   "outputs": [],
   "source": []
  }
 ],
 "metadata": {
  "kernelspec": {
   "display_name": "Python 3",
   "language": "python",
   "name": "python3"
  },
  "language_info": {
   "codemirror_mode": {
    "name": "ipython",
    "version": 3
   },
   "file_extension": ".py",
   "mimetype": "text/x-python",
   "name": "python",
   "nbconvert_exporter": "python",
   "pygments_lexer": "ipython3",
   "version": "3.6.6"
  }
 },
 "nbformat": 4,
 "nbformat_minor": 2
}
