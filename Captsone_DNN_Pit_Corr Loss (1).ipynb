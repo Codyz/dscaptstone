{
 "cells": [
  {
   "cell_type": "code",
   "execution_count": 1,
   "metadata": {},
   "outputs": [],
   "source": [
    "%%capture\n",
    "import tensorflow as tf\n",
    "from tensorflow import keras\n",
    "from scipy.io import loadmat\n",
    "from tensorflow.keras import regularizers\n",
    "import os\n",
    "from itertools import product\n",
    "from functools import partial, update_wrapper\n",
    "import numpy as np\n",
    "import time\n",
    "import numpy as np\n",
    "import gc\n",
    "from tensorflow.keras.models import model_from_json\n",
    "!pip install tqdm\n",
    "!pip install h5py\n",
    "from tqdm import tqdm_notebook\n",
    "import matplotlib.pyplot as plt\n",
    "from tensorflow.keras import backend as K\n",
    "from sklearn.metrics import r2_score\n",
    "from sklearn import preprocessing"
   ]
  },
  {
   "cell_type": "code",
   "execution_count": 2,
   "metadata": {},
   "outputs": [],
   "source": [
    "def scale(x):\n",
    "\n",
    "    return x / np.max(x)"
   ]
  },
  {
   "cell_type": "code",
   "execution_count": 3,
   "metadata": {},
   "outputs": [],
   "source": [
    "def preprocess(x):\n",
    "    \n",
    "    return x[:,:,:int(0.75*x.shape[2])]"
   ]
  },
  {
   "cell_type": "code",
   "execution_count": 4,
   "metadata": {},
   "outputs": [],
   "source": [
    "#os.chdir(\"/Users/michelkauffmann/Downloads\")\n",
    "u = preprocess(scale(loadmat('u_F_xyz_T1.mat')[\"u_F\"]))\n",
    "v = preprocess(scale(loadmat('v_F_xyz_T1.mat')[\"v_F\"]))\n",
    "w = preprocess(scale(loadmat('w_F_xyz_T1.mat')[\"w_F\"]))\n",
    "tau_11 = preprocess(scale(loadmat('tau11_xyz_T1.mat')[\"tau11\"]))\n",
    "tau_12 = preprocess(scale(loadmat('tau12_xyz_T1.mat')[\"tau12\"]))\n",
    "tau_13 = preprocess(scale(loadmat('tau13_xyz_T1.mat')[\"tau13\"]))\n",
    "tau_22 = preprocess(scale(loadmat('tau22_xyz_T1.mat')[\"tau22\"]))\n",
    "tau_23 = preprocess(scale(loadmat('tau23_xyz_T1.mat')[\"tau23\"]))\n",
    "tau_33 = preprocess(scale(loadmat('tau33_xyz_T1.mat')[\"tau33\"]))\n",
    "tke = preprocess(scale(loadmat(\"TKE_F_xyz_T1.mat\")[\"TKE_F\"]))\n",
    "theta = preprocess(scale(loadmat(\"theta_F_xyz_T1.mat\")[\"theta_F\"]))"
   ]
  },
  {
   "cell_type": "markdown",
   "metadata": {},
   "source": [
    "#### Switches"
   ]
  },
  {
   "cell_type": "code",
   "execution_count": 5,
   "metadata": {},
   "outputs": [],
   "source": [
    "all_taus = False\n",
    "significance = True"
   ]
  },
  {
   "cell_type": "markdown",
   "metadata": {},
   "source": [
    "### 1. Generae Input datasets"
   ]
  },
  {
   "cell_type": "markdown",
   "metadata": {},
   "source": [
    "#### 1.1 Create Input dataset (u, v, w, TKE, $\\theta$)"
   ]
  },
  {
   "cell_type": "code",
   "execution_count": 6,
   "metadata": {},
   "outputs": [],
   "source": [
    "x = np.array([u, v, w, tke, theta])\n",
    "x = np.transpose(x, [1, 2, 3, 0])\n",
    "x = np.pad(x, ((3,3), (3,3), (3,3), (0,0)), 'constant', constant_values = 0)"
   ]
  },
  {
   "cell_type": "code",
   "execution_count": 7,
   "metadata": {},
   "outputs": [
    {
     "data": {
      "application/vnd.jupyter.widget-view+json": {
       "model_id": "82382d1af3054b19917abf3d23a43e3e",
       "version_major": 2,
       "version_minor": 0
      },
      "text/plain": [
       "HBox(children=(IntProgress(value=0, max=146), HTML(value='')))"
      ]
     },
     "metadata": {},
     "output_type": "display_data"
    },
    {
     "name": "stdout",
     "output_type": "stream",
     "text": [
      "\n"
     ]
    }
   ],
   "source": [
    "sample = []\n",
    "size = 3\n",
    "y_tau_11 = []\n",
    "y_tau_12 = []\n",
    "y_tau_13 = []\n",
    "y_tau_22 = []\n",
    "y_tau_23 = []\n",
    "y_tau_33 = []\n",
    "for i in tqdm_notebook(range(size, x.shape[0] - size)):\n",
    "    for j in range(size, x.shape[1] - size):\n",
    "        for k in range(size, x.shape[2] - size):\n",
    "            sample.append(x[i - size: i + size + 1, j - size: j + size + 1, k - size: k + size + 1, :])\n",
    "            y_tau_11.append(tau_11[i - size][j - size][k - size])\n",
    "            y_tau_12.append(tau_12[i - size][j - size][k - size])\n",
    "            y_tau_13.append(tau_13[i - size][j - size][k - size])\n",
    "            y_tau_22.append(tau_22[i - size][j - size][k - size])\n",
    "            y_tau_23.append(tau_23[i - size][j - size][k - size])\n",
    "            y_tau_33.append(tau_33[i - size][j - size][k - size])"
   ]
  },
  {
   "cell_type": "code",
   "execution_count": 8,
   "metadata": {},
   "outputs": [
    {
     "name": "stdout",
     "output_type": "stream",
     "text": [
      "(784896, 7, 7, 7, 5)\n"
     ]
    }
   ],
   "source": [
    "x = np.array(sample)\n",
    "print(x.shape)\n",
    "\n",
    "y_tau_11 = np.array(y_tau_11)\n",
    "y_tau_12 = np.array(y_tau_12)\n",
    "y_tau_13 = np.array(y_tau_13)\n",
    "y_tau_22 = np.array(y_tau_22)\n",
    "y_tau_23 = np.array(y_tau_23)\n",
    "y_tau_33 = np.array(y_tau_33)"
   ]
  },
  {
   "cell_type": "markdown",
   "metadata": {},
   "source": [
    "#### 1.2 Create Input Dataset (u, v, w, $\\theta$)"
   ]
  },
  {
   "cell_type": "code",
   "execution_count": 9,
   "metadata": {},
   "outputs": [
    {
     "name": "stdout",
     "output_type": "stream",
     "text": [
      "(784896, 7, 7, 7, 4)\n"
     ]
    }
   ],
   "source": [
    "x_theta = np.delete(x, 3, 4)\n",
    "print(x_theta.shape)"
   ]
  },
  {
   "cell_type": "markdown",
   "metadata": {},
   "source": [
    "#### 1.3 Create Input Dataset (u, v, w, TKE) "
   ]
  },
  {
   "cell_type": "code",
   "execution_count": 10,
   "metadata": {},
   "outputs": [
    {
     "name": "stdout",
     "output_type": "stream",
     "text": [
      "(784896, 7, 7, 7, 4)\n"
     ]
    }
   ],
   "source": [
    "x_tke = np.delete(x, 4, 4)\n",
    "print(x_tke.shape)"
   ]
  },
  {
   "cell_type": "markdown",
   "metadata": {},
   "source": [
    "#### 1.4 Create Dataset (u, v, w)"
   ]
  },
  {
   "cell_type": "code",
   "execution_count": 11,
   "metadata": {},
   "outputs": [
    {
     "name": "stdout",
     "output_type": "stream",
     "text": [
      "(784896, 7, 7, 7, 3)\n"
     ]
    }
   ],
   "source": [
    "x_base = np.delete(x, (3,4), 4)\n",
    "print(x_base.shape)"
   ]
  },
  {
   "cell_type": "markdown",
   "metadata": {},
   "source": [
    "### 2. Build Model "
   ]
  },
  {
   "cell_type": "code",
   "execution_count": 12,
   "metadata": {},
   "outputs": [],
   "source": [
    "class DNN(object):\n",
    "    \n",
    "    def __init__(self, activation, initializer, regularizer, x_train, y_train, epochs, batch_size, input_shape, val_split):\n",
    "        self.activation = activation\n",
    "        self.initializer = initializer\n",
    "        self.regularizer = regularizer\n",
    "        self.x_train = x_train\n",
    "        self.y_train = y_train\n",
    "        self.epochs = epochs\n",
    "        self.batch_size = batch_size\n",
    "        self.input_shape = input_shape\n",
    "        self.val_split = val_split\n",
    "        \n",
    "        pass \n",
    "    \n",
    "    def create_model(self):\n",
    "        model = keras.Sequential([\n",
    "            tf.keras.layers.Flatten(input_shape = self.input_shape),\n",
    "            #tf.keras.layers.Dense(256, \n",
    "            #                 activation = self.activation, \n",
    "            #                 kernel_regularizer = self.regularizer, \n",
    "            #                 kernel_initializer = self.initializer),\n",
    "            #tf.keras.layers.Dropout(0.1),\n",
    "            tf.keras.layers.Dense(128, \n",
    "                             activation = self.activation, \n",
    "                             kernel_regularizer = self.regularizer, \n",
    "                             kernel_initializer = self.initializer),\n",
    "            tf.keras.layers.Dropout(0.2),\n",
    "            tf.keras.layers.Dense(64, \n",
    "                             activation = self.activation, \n",
    "                             kernel_regularizer = self.regularizer, \n",
    "                             kernel_initializer = self.initializer),\n",
    "            tf.keras.layers.Dropout(0.2),\n",
    "            tf.keras.layers.Dense(32, \n",
    "                             activation = self.activation, \n",
    "                             kernel_regularizer = self.regularizer, \n",
    "                             kernel_initializer = self.initializer),\n",
    "            tf.keras.layers.Dense(1)\n",
    "        ])\n",
    "        \n",
    "        return model\n",
    "    \n",
    "    def callbacks(self):\n",
    "        early_stopping = tf.keras.callbacks.EarlyStopping(monitor = 'val_loss',\n",
    "                                               min_delta = 0.001,\n",
    "                                               patience = 0,\n",
    "                                               verbose = 0)\n",
    "        \n",
    "        return early_stopping\n",
    "    \n",
    "    def correlation_loss(self):\n",
    "        \n",
    "        def loss(y_true, y_pred):\n",
    "            \"\"\"\n",
    "            # scale predictions so that the class probas of each sample sum to 1\n",
    "            y_pred_mean= K.mean(y_pred, axis=0, keepdims=True)\n",
    "            y_treu_mean = K.mean(y_true, axis=0, keepdims=True)\n",
    "            # clip to prevent NaN's and Inf's\n",
    "            part1 = y_pred-y_pred_mean\n",
    "            part2 = y_true - y_treu_mean\n",
    "            loss = K.sum(part1*part2,axis = 0)/K.sum(part1*part1,axis = 0)*K.sum(part2*part2,axis = 0)\n",
    "\n",
    "            return -loss\n",
    "            \"\"\"\n",
    "            x = y_true\n",
    "            y = y_pred\n",
    "            mx = K.mean(x)\n",
    "            my = K.mean(y)\n",
    "            xm, ym = x-mx, y-my\n",
    "            r_num = K.sum(tf.multiply(xm,ym))\n",
    "            r_den = K.sqrt(tf.multiply(K.sum(K.square(xm)), K.sum(K.square(ym))))\n",
    "            r = r_num / r_den\n",
    "\n",
    "            r = K.maximum(K.minimum(r, 1.0), -1.0)\n",
    "            \n",
    "            return 1 - K.square(r)\n",
    "            \n",
    "        return loss\n",
    "    \n",
    "    def run_model(self):\n",
    "        model = self.create_model()\n",
    "        model.compile(optimizer = tf.train.AdamOptimizer(), \n",
    "              loss = self.correlation_loss())\n",
    "              #metrics = ['mse'])\n",
    "        \n",
    "        tf.keras.backend.get_session().run(tf.initialize_all_variables())\n",
    "        history = model.fit(self.x_train, self.y_train, \n",
    "                    epochs = self.epochs, \n",
    "                    validation_split = self.val_split, \n",
    "                    batch_size =  self.batch_size,\n",
    "                    verbose = 1)\n",
    "                    #callbacks = [self.callbacks()])\n",
    "        \n",
    "        return history, model"
   ]
  },
  {
   "cell_type": "markdown",
   "metadata": {},
   "source": [
    "### 3. Run Model"
   ]
  },
  {
   "cell_type": "code",
   "execution_count": 13,
   "metadata": {},
   "outputs": [
    {
     "name": "stdout",
     "output_type": "stream",
     "text": [
      "Using x_base as input\n",
      "Train on 502774 samples, validate on 125694 samples\n",
      "Epoch 1/10\n",
      "502774/502774 [==============================] - 6s 13us/step - loss: 0.4131 - val_loss: 0.3539\n",
      "Epoch 2/10\n",
      "502774/502774 [==============================] - 6s 12us/step - loss: 0.3447 - val_loss: 0.3265\n",
      "Epoch 3/10\n",
      "502774/502774 [==============================] - 6s 12us/step - loss: 0.3158 - val_loss: 0.3099\n",
      "Epoch 4/10\n",
      "502774/502774 [==============================] - 6s 12us/step - loss: 0.2953 - val_loss: 0.2915\n",
      "Epoch 5/10\n",
      "502774/502774 [==============================] - 6s 12us/step - loss: 0.2788 - val_loss: 0.2858\n",
      "Epoch 6/10\n",
      "502774/502774 [==============================] - 6s 12us/step - loss: 0.2674 - val_loss: 0.2820\n",
      "Epoch 7/10\n",
      "502774/502774 [==============================] - 6s 12us/step - loss: 0.2585 - val_loss: 0.2670\n",
      "Epoch 8/10\n",
      "502774/502774 [==============================] - 6s 12us/step - loss: 0.2511 - val_loss: 0.2751\n",
      "Epoch 9/10\n",
      "502774/502774 [==============================] - 6s 12us/step - loss: 0.2442 - val_loss: 0.2593\n",
      "Epoch 10/10\n",
      "502774/502774 [==============================] - 6s 12us/step - loss: 0.2384 - val_loss: 0.2599\n",
      "R^2: -144.6160\n",
      "Correlation: 0.8765\n",
      "\n"
     ]
    },
    {
     "data": {
      "image/png": "[encoded data removed]",
      "text/plain": [
       "<Figure size 1440x432 with 1 Axes>"
      ]
     },
     "metadata": {
      "needs_background": "light"
     },
     "output_type": "display_data"
    }
   ],
   "source": [
    "if significance:\n",
    "    activation = tf.nn.relu\n",
    "    initializer = None\n",
    "    regularizer = None\n",
    "    epochs = 50\n",
    "    batch_size = 1000\n",
    "    val_split = 0.2\n",
    "\n",
    "    datasets = [(x_base, \"x_base\"), (x_tke, \"x_tke\"), (x_theta, \"x_theta\")]\n",
    "    fig = plt.figure(figsize = (20, 6))\n",
    "    results = {}\n",
    "    i = 1\n",
    "    for (x, name) in datasets:\n",
    "        print(\"Using \" + name + \" as input\")\n",
    "        mask =  np.random.rand(x.shape[0]) < 0.80\n",
    "        y_train, y_test = y_tau_11[mask], y_tau_11[~mask]\n",
    "        x_train, x_test = x[mask,:,:,:,:], x[~mask,:,:,:,:]\n",
    "\n",
    "        input_shape = (x_train.shape[1], x_train.shape[2], x_train.shape[3], x_train.shape[4])\n",
    "        model = DNN(activation, initializer, regularizer, x_train, y_train, epochs, batch_size, input_shape, val_split)        \n",
    "        history, model = model.run_model()\n",
    "        \n",
    "        fig.add_subplot(1, len(datasets), i)\n",
    "        plt.plot(history.epoch, np.array(history.history['loss']), label = 'Train Loss')\n",
    "        plt.plot(history.epoch, np.array(history.history['val_loss']), label = 'Val loss')\n",
    "        plt.xlabel('Epoch')\n",
    "        plt.ylabel('Mean Square Error')\n",
    "        #plt.ylim((0, 0.002))\n",
    "        plt.legend()\n",
    "\n",
    "        y_pred = model.predict(x_test).flatten()\n",
    "        y_true = y_test\n",
    "        print(\"R^2: %.4f\" % r2_score(y_true, y_pred))\n",
    "        print(\"Correlation: %.4f\\n\" % np.corrcoef(y_pred, y_true)[0, 1])\n",
    "        results[np.corrcoef(y_pred, y_true)[0, 1]] = x\n",
    "        \n",
    "        del x_train\n",
    "        del x_test\n",
    "        del y_train\n",
    "        del y_test\n",
    "        gc.collect()\n",
    "        i += 1\n",
    "\n",
    "    plt.show()"
   ]
  },
  {
   "cell_type": "code",
   "execution_count": 14,
   "metadata": {},
   "outputs": [],
   "source": [
    "x_best = results[max(results)]"
   ]
  },
  {
   "cell_type": "code",
   "execution_count": 16,
   "metadata": {},
   "outputs": [
    {
     "name": "stdout",
     "output_type": "stream",
     "text": [
      "Predicting tau_12\n",
      "R^2: -37.2639\n",
      "Correlation: -0.7640\n",
      "Saved model to disk\n",
      "\n",
      "Predicting tau_13\n"
     ]
    },
    {
     "ename": "KeyboardInterrupt",
     "evalue": "",
     "output_type": "error",
     "traceback": [
      "\u001b[0;31m---------------------------------------------------------------------------\u001b[0m",
      "\u001b[0;31mKeyboardInterrupt\u001b[0m                         Traceback (most recent call last)",
      "\u001b[0;32m<ipython-input-16-06650ebc0fd8>\u001b[0m in \u001b[0;36m<module>\u001b[0;34m\u001b[0m\n\u001b[1;32m     22\u001b[0m \u001b[0;34m\u001b[0m\u001b[0m\n\u001b[1;32m     23\u001b[0m     \u001b[0mmodel\u001b[0m \u001b[0;34m=\u001b[0m \u001b[0mDNN\u001b[0m\u001b[0;34m(\u001b[0m\u001b[0mactivation\u001b[0m\u001b[0;34m,\u001b[0m \u001b[0minitializer\u001b[0m\u001b[0;34m,\u001b[0m \u001b[0mregularizer\u001b[0m\u001b[0;34m,\u001b[0m \u001b[0mx_train\u001b[0m\u001b[0;34m,\u001b[0m \u001b[0my_train\u001b[0m\u001b[0;34m,\u001b[0m \u001b[0mepochs\u001b[0m\u001b[0;34m,\u001b[0m \u001b[0mbatch_size\u001b[0m\u001b[0;34m,\u001b[0m \u001b[0minput_shape\u001b[0m\u001b[0;34m,\u001b[0m \u001b[0mval_split\u001b[0m\u001b[0;34m)\u001b[0m\u001b[0;34m\u001b[0m\u001b[0m\n\u001b[0;32m---> 24\u001b[0;31m     \u001b[0mhistory\u001b[0m\u001b[0;34m,\u001b[0m \u001b[0mmodel\u001b[0m \u001b[0;34m=\u001b[0m \u001b[0mmodel\u001b[0m\u001b[0;34m.\u001b[0m\u001b[0mrun_model\u001b[0m\u001b[0;34m(\u001b[0m\u001b[0;34m)\u001b[0m\u001b[0;34m\u001b[0m\u001b[0m\n\u001b[0m\u001b[1;32m     25\u001b[0m     \u001b[0mfig\u001b[0m\u001b[0;34m.\u001b[0m\u001b[0madd_subplot\u001b[0m\u001b[0;34m(\u001b[0m\u001b[0;36m2\u001b[0m\u001b[0;34m,\u001b[0m \u001b[0;36m3\u001b[0m\u001b[0;34m,\u001b[0m \u001b[0mi\u001b[0m\u001b[0;34m)\u001b[0m\u001b[0;34m\u001b[0m\u001b[0m\n\u001b[1;32m     26\u001b[0m     \u001b[0mplt\u001b[0m\u001b[0;34m.\u001b[0m\u001b[0mplot\u001b[0m\u001b[0;34m(\u001b[0m\u001b[0mhistory\u001b[0m\u001b[0;34m.\u001b[0m\u001b[0mepoch\u001b[0m\u001b[0;34m,\u001b[0m \u001b[0mnp\u001b[0m\u001b[0;34m.\u001b[0m\u001b[0marray\u001b[0m\u001b[0;34m(\u001b[0m\u001b[0mhistory\u001b[0m\u001b[0;34m.\u001b[0m\u001b[0mhistory\u001b[0m\u001b[0;34m[\u001b[0m\u001b[0;34m'loss'\u001b[0m\u001b[0;34m]\u001b[0m\u001b[0;34m)\u001b[0m\u001b[0;34m,\u001b[0m \u001b[0mlabel\u001b[0m \u001b[0;34m=\u001b[0m \u001b[0;34m'Train Loss'\u001b[0m\u001b[0;34m)\u001b[0m\u001b[0;34m\u001b[0m\u001b[0m\n",
      "\u001b[0;32m<ipython-input-12-a133398fc1c2>\u001b[0m in \u001b[0;36mrun_model\u001b[0;34m(self)\u001b[0m\n\u001b[1;32m     79\u001b[0m                     \u001b[0mvalidation_split\u001b[0m \u001b[0;34m=\u001b[0m \u001b[0mself\u001b[0m\u001b[0;34m.\u001b[0m\u001b[0mval_split\u001b[0m\u001b[0;34m,\u001b[0m\u001b[0;34m\u001b[0m\u001b[0m\n\u001b[1;32m     80\u001b[0m                     \u001b[0mbatch_size\u001b[0m \u001b[0;34m=\u001b[0m  \u001b[0mself\u001b[0m\u001b[0;34m.\u001b[0m\u001b[0mbatch_size\u001b[0m\u001b[0;34m,\u001b[0m\u001b[0;34m\u001b[0m\u001b[0m\n\u001b[0;32m---> 81\u001b[0;31m                     verbose = 0)\n\u001b[0m\u001b[1;32m     82\u001b[0m                     \u001b[0;31m#callbacks = [self.callbacks()])\u001b[0m\u001b[0;34m\u001b[0m\u001b[0;34m\u001b[0m\u001b[0m\n\u001b[1;32m     83\u001b[0m \u001b[0;34m\u001b[0m\u001b[0m\n",
      "\u001b[0;32m~/miniconda3/envs/dlenv/lib/python3.6/site-packages/tensorflow/python/keras/engine/training.py\u001b[0m in \u001b[0;36mfit\u001b[0;34m(self, x, y, batch_size, epochs, verbose, callbacks, validation_split, validation_data, shuffle, class_weight, sample_weight, initial_epoch, steps_per_epoch, validation_steps, max_queue_size, workers, use_multiprocessing, **kwargs)\u001b[0m\n\u001b[1;32m   1637\u001b[0m           \u001b[0minitial_epoch\u001b[0m\u001b[0;34m=\u001b[0m\u001b[0minitial_epoch\u001b[0m\u001b[0;34m,\u001b[0m\u001b[0;34m\u001b[0m\u001b[0m\n\u001b[1;32m   1638\u001b[0m           \u001b[0msteps_per_epoch\u001b[0m\u001b[0;34m=\u001b[0m\u001b[0msteps_per_epoch\u001b[0m\u001b[0;34m,\u001b[0m\u001b[0;34m\u001b[0m\u001b[0m\n\u001b[0;32m-> 1639\u001b[0;31m           validation_steps=validation_steps)\n\u001b[0m\u001b[1;32m   1640\u001b[0m \u001b[0;34m\u001b[0m\u001b[0m\n\u001b[1;32m   1641\u001b[0m   def evaluate(self,\n",
      "\u001b[0;32m~/miniconda3/envs/dlenv/lib/python3.6/site-packages/tensorflow/python/keras/engine/training_arrays.py\u001b[0m in \u001b[0;36mfit_loop\u001b[0;34m(model, inputs, targets, sample_weights, batch_size, epochs, verbose, callbacks, val_inputs, val_targets, val_sample_weights, shuffle, initial_epoch, steps_per_epoch, validation_steps)\u001b[0m\n\u001b[1;32m    213\u001b[0m           \u001b[0mins_batch\u001b[0m\u001b[0;34m[\u001b[0m\u001b[0mi\u001b[0m\u001b[0;34m]\u001b[0m \u001b[0;34m=\u001b[0m \u001b[0mins_batch\u001b[0m\u001b[0;34m[\u001b[0m\u001b[0mi\u001b[0m\u001b[0;34m]\u001b[0m\u001b[0;34m.\u001b[0m\u001b[0mtoarray\u001b[0m\u001b[0;34m(\u001b[0m\u001b[0;34m)\u001b[0m\u001b[0;34m\u001b[0m\u001b[0m\n\u001b[1;32m    214\u001b[0m \u001b[0;34m\u001b[0m\u001b[0m\n\u001b[0;32m--> 215\u001b[0;31m         \u001b[0mouts\u001b[0m \u001b[0;34m=\u001b[0m \u001b[0mf\u001b[0m\u001b[0;34m(\u001b[0m\u001b[0mins_batch\u001b[0m\u001b[0;34m)\u001b[0m\u001b[0;34m\u001b[0m\u001b[0m\n\u001b[0m\u001b[1;32m    216\u001b[0m         \u001b[0;32mif\u001b[0m \u001b[0;32mnot\u001b[0m \u001b[0misinstance\u001b[0m\u001b[0;34m(\u001b[0m\u001b[0mouts\u001b[0m\u001b[0;34m,\u001b[0m \u001b[0mlist\u001b[0m\u001b[0;34m)\u001b[0m\u001b[0;34m:\u001b[0m\u001b[0;34m\u001b[0m\u001b[0m\n\u001b[1;32m    217\u001b[0m           \u001b[0mouts\u001b[0m \u001b[0;34m=\u001b[0m \u001b[0;34m[\u001b[0m\u001b[0mouts\u001b[0m\u001b[0;34m]\u001b[0m\u001b[0;34m\u001b[0m\u001b[0m\n",
      "\u001b[0;32m~/miniconda3/envs/dlenv/lib/python3.6/site-packages/tensorflow/python/keras/backend.py\u001b[0m in \u001b[0;36m__call__\u001b[0;34m(self, inputs)\u001b[0m\n\u001b[1;32m   2984\u001b[0m \u001b[0;34m\u001b[0m\u001b[0m\n\u001b[1;32m   2985\u001b[0m     fetched = self._callable_fn(*array_vals,\n\u001b[0;32m-> 2986\u001b[0;31m                                 run_metadata=self.run_metadata)\n\u001b[0m\u001b[1;32m   2987\u001b[0m     \u001b[0mself\u001b[0m\u001b[0;34m.\u001b[0m\u001b[0m_call_fetch_callbacks\u001b[0m\u001b[0;34m(\u001b[0m\u001b[0mfetched\u001b[0m\u001b[0;34m[\u001b[0m\u001b[0;34m-\u001b[0m\u001b[0mlen\u001b[0m\u001b[0;34m(\u001b[0m\u001b[0mself\u001b[0m\u001b[0;34m.\u001b[0m\u001b[0m_fetches\u001b[0m\u001b[0;34m)\u001b[0m\u001b[0;34m:\u001b[0m\u001b[0;34m]\u001b[0m\u001b[0;34m)\u001b[0m\u001b[0;34m\u001b[0m\u001b[0m\n\u001b[1;32m   2988\u001b[0m     \u001b[0;32mreturn\u001b[0m \u001b[0mfetched\u001b[0m\u001b[0;34m[\u001b[0m\u001b[0;34m:\u001b[0m\u001b[0mlen\u001b[0m\u001b[0;34m(\u001b[0m\u001b[0mself\u001b[0m\u001b[0;34m.\u001b[0m\u001b[0moutputs\u001b[0m\u001b[0;34m)\u001b[0m\u001b[0;34m]\u001b[0m\u001b[0;34m\u001b[0m\u001b[0m\n",
      "\u001b[0;32m~/miniconda3/envs/dlenv/lib/python3.6/site-packages/tensorflow/python/client/session.py\u001b[0m in \u001b[0;36m__call__\u001b[0;34m(self, *args, **kwargs)\u001b[0m\n\u001b[1;32m   1437\u001b[0m           ret = tf_session.TF_SessionRunCallable(\n\u001b[1;32m   1438\u001b[0m               \u001b[0mself\u001b[0m\u001b[0;34m.\u001b[0m\u001b[0m_session\u001b[0m\u001b[0;34m.\u001b[0m\u001b[0m_session\u001b[0m\u001b[0;34m,\u001b[0m \u001b[0mself\u001b[0m\u001b[0;34m.\u001b[0m\u001b[0m_handle\u001b[0m\u001b[0;34m,\u001b[0m \u001b[0margs\u001b[0m\u001b[0;34m,\u001b[0m \u001b[0mstatus\u001b[0m\u001b[0;34m,\u001b[0m\u001b[0;34m\u001b[0m\u001b[0m\n\u001b[0;32m-> 1439\u001b[0;31m               run_metadata_ptr)\n\u001b[0m\u001b[1;32m   1440\u001b[0m         \u001b[0;32mif\u001b[0m \u001b[0mrun_metadata\u001b[0m\u001b[0;34m:\u001b[0m\u001b[0;34m\u001b[0m\u001b[0m\n\u001b[1;32m   1441\u001b[0m           \u001b[0mproto_data\u001b[0m \u001b[0;34m=\u001b[0m \u001b[0mtf_session\u001b[0m\u001b[0;34m.\u001b[0m\u001b[0mTF_GetBuffer\u001b[0m\u001b[0;34m(\u001b[0m\u001b[0mrun_metadata_ptr\u001b[0m\u001b[0;34m)\u001b[0m\u001b[0;34m\u001b[0m\u001b[0m\n",
      "\u001b[0;31mKeyboardInterrupt\u001b[0m: "
     ]
    },
    {
     "data": {
      "image/png": "[encoded data removed]",
      "text/plain": [
       "<Figure size 1440x720 with 1 Axes>"
      ]
     },
     "metadata": {
      "needs_background": "light"
     },
     "output_type": "display_data"
    }
   ],
   "source": [
    "if all_taus:\n",
    "    taus = [(y_tau_11, \"tau_11\"), (y_tau_12, \"tau_12\"), (y_tau_13, \"tau_13\"), (y_tau_22, \"tau_22\"), (y_tau_23, \"tau_23\"), (y_tau_33, \"tau_33\")]\n",
    "else:\n",
    "    taus = [(y_tau_12, \"tau_12\"), (y_tau_13, \"tau_13\"), (y_tau_23, \"tau_23\")]\n",
    "    \n",
    "activation = tf.nn.relu\n",
    "initializer = None\n",
    "regularizer = None\n",
    "epochs = 50\n",
    "batch_size = 1000\n",
    "input_shape = (x_best.shape[1], x_best.shape[2], x_best.shape[3], x_best.shape[4])\n",
    "val_split = 0.2\n",
    "\n",
    "fig = plt.figure(figsize = (20, 10))\n",
    "\n",
    "i = 1\n",
    "for (y, name) in taus:\n",
    "    print(\"Predicting \" + name)\n",
    "    mask =  np.random.rand(x.shape[0]) < 0.80\n",
    "    x_train, x_test = x_best[mask,:,:,:,:], x_best[~mask,:,:,:,:]\n",
    "    y_train, y_test = y[mask], y[~mask]\n",
    "    \n",
    "    model = DNN(activation, initializer, regularizer, x_train, y_train, epochs, batch_size, input_shape, val_split)\n",
    "    history, model = model.run_model()\n",
    "    fig.add_subplot(2, 3, i)\n",
    "    plt.plot(history.epoch, np.array(history.history['loss']), label = 'Train Loss')\n",
    "    plt.plot(history.epoch, np.array(history.history['val_loss']), label = 'Val loss')\n",
    "    plt.xlabel('Epoch')\n",
    "    plt.ylabel('Mean Square Error')\n",
    "    #plt.ylim((0, 0.05))\n",
    "    plt.legend()\n",
    "    \n",
    "    y_pred = model.predict(x_test).flatten()\n",
    "    y_true = y_test\n",
    "    print(\"R^2: %.4f\" % r2_score(y_true, y_pred))\n",
    "    print(\"Correlation: %.4f\" % np.corrcoef(y_pred, y_true)[0, 1])\n",
    "    \n",
    "    model_name_json = \"model_\" + name + \".json\"\n",
    "    model_name_h5 = \"model_\" + name + \".h5\"\n",
    "    model_json = model.to_json()\n",
    "    with open(model_name_json, \"w\") as json_file:\n",
    "        json_file.write(model_json)\n",
    "    model.save_weights(model_name_h5)\n",
    "    print(\"Saved model to disk\\n\")\n",
    "    \n",
    "    del x_train\n",
    "    del x_test\n",
    "    del y_train\n",
    "    del y_test\n",
    "    gc.collect()\n",
    "    i += 1\n",
    "\n",
    "plt.show()"
   ]
  },
  {
   "cell_type": "code",
   "execution_count": null,
   "metadata": {},
   "outputs": [],
   "source": []
  }
 ],
 "metadata": {
  "kernelspec": {
   "display_name": "Python 3",
   "language": "python",
   "name": "python3"
  },
  "language_info": {
   "codemirror_mode": {
    "name": "ipython",
    "version": 3
   },
   "file_extension": ".py",
   "mimetype": "text/x-python",
   "name": "python",
   "nbconvert_exporter": "python",
   "pygments_lexer": "ipython3",
   "version": "3.6.6"
  }
 },
 "nbformat": 4,
 "nbformat_minor": 2
}
