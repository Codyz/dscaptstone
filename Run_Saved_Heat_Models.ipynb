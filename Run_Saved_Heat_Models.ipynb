{
 "cells": [
  {
   "cell_type": "code",
   "execution_count": 1,
   "metadata": {},
   "outputs": [],
   "source": [
    "%%capture\n",
    "import tensorflow as tf\n",
    "from tensorflow import keras\n",
    "from scipy.io import loadmat\n",
    "from tensorflow.keras import regularizers\n",
    "import os\n",
    "import time\n",
    "import numpy as np\n",
    "import gc\n",
    "from tensorflow.keras.models import model_from_json\n",
    "from tensorflow.keras.models import load_model\n",
    "from tqdm import tqdm_notebook\n",
    "import matplotlib.pyplot as plt\n",
    "from tensorflow.keras import backend as K\n",
    "from sklearn.metrics import r2_score\n",
    "from sklearn import preprocessing\n",
    "import gc\n",
    "import h5py\n",
    "import math\n",
    "from IPython.display import HTML, display\n",
    "import tabulate"
   ]
  },
  {
   "cell_type": "code",
   "execution_count": 2,
   "metadata": {},
   "outputs": [],
   "source": [
    "def scale(x):\n",
    "    return (x -np.mean(x)) / np.std(x)"
   ]
  },
  {
   "cell_type": "code",
   "execution_count": 3,
   "metadata": {},
   "outputs": [],
   "source": [
    "def preprocess(x): \n",
    "    return x[:,:,:int(0.75*x.shape[2])]"
   ]
  },
  {
   "cell_type": "code",
   "execution_count": 4,
   "metadata": {},
   "outputs": [
    {
     "name": "stdout",
     "output_type": "stream",
     "text": [
      "Loaded model from disk\n",
      "Loaded model from disk\n",
      "Loaded model from disk\n"
     ]
    }
   ],
   "source": [
    "os.chdir(\"Saved Models\")\n",
    "\n",
    "##### Load Model for heat1\n",
    "json_file = open('model_heat1.json', 'r')\n",
    "loaded_model_json = json_file.read()\n",
    "json_file.close()\n",
    "loaded_model_1 = model_from_json(loaded_model_json)\n",
    "\n",
    "# load weights into new model\n",
    "loaded_model_1.load_weights(\"model_heat1.h5\")\n",
    "print(\"Loaded model from disk\")\n",
    "\n",
    "# evaluate loaded model on test data \n",
    "# Define X_test & Y_test data first\n",
    "loaded_model_1.compile(optimizer = tf.train.AdamOptimizer(), loss = \"mse\")\n",
    "\n",
    "#### Load Model for heat2\n",
    "json_file = open('model_heat2.json', 'r')\n",
    "loaded_model_json = json_file.read()\n",
    "json_file.close()\n",
    "loaded_model_2 = model_from_json(loaded_model_json)\n",
    "\n",
    "# load weights into new model\n",
    "loaded_model_2.load_weights(\"model_heat2.h5\")\n",
    "print(\"Loaded model from disk\")\n",
    "\n",
    "# evaluate loaded model on test data \n",
    "# Define X_test & Y_test data first\n",
    "loaded_model_2.compile(optimizer = tf.train.AdamOptimizer(), loss = \"mse\")\n",
    "\n",
    "#### Load Model for heat3\n",
    "json_file = open('model_heat3.json', 'r')\n",
    "loaded_model_json = json_file.read()\n",
    "json_file.close()\n",
    "loaded_model_3 = model_from_json(loaded_model_json)\n",
    "\n",
    "# load weights into new model\n",
    "loaded_model_3.load_weights(\"model_heat3.h5\")\n",
    "print(\"Loaded model from disk\")\n",
    "\n",
    "# evaluate loaded model on test data \n",
    "# Define X_test & Y_test data first\n",
    "loaded_model_3.compile(optimizer = tf.train.AdamOptimizer(), loss = \"mse\")"
   ]
  },
  {
   "cell_type": "code",
   "execution_count": 5,
   "metadata": {},
   "outputs": [
    {
     "name": "stdout",
     "output_type": "stream",
     "text": [
      "3 148\n",
      "3 98\n",
      "3 57\n"
     ]
    },
    {
     "data": {
      "application/vnd.jupyter.widget-view+json": {
       "model_id": "ed0a79ec997a4cb7bbfd969a2a808a4c",
       "version_major": 2,
       "version_minor": 0
      },
      "text/plain": [
       "HBox(children=(IntProgress(value=0, max=145), HTML(value='')))"
      ]
     },
     "metadata": {},
     "output_type": "display_data"
    },
    {
     "name": "stdout",
     "output_type": "stream",
     "text": [
      "\n",
      "3 148\n",
      "3 98\n",
      "63 117\n"
     ]
    },
    {
     "data": {
      "application/vnd.jupyter.widget-view+json": {
       "model_id": "b16fa13c726b4113a91396c06d6a7981",
       "version_major": 2,
       "version_minor": 0
      },
      "text/plain": [
       "HBox(children=(IntProgress(value=0, max=145), HTML(value='')))"
      ]
     },
     "metadata": {},
     "output_type": "display_data"
    },
    {
     "name": "stdout",
     "output_type": "stream",
     "text": [
      "\n",
      "3 148\n",
      "104 199\n",
      "3 57\n"
     ]
    },
    {
     "data": {
      "application/vnd.jupyter.widget-view+json": {
       "model_id": "c1eee82784314cb1986b44a831e506ad",
       "version_major": 2,
       "version_minor": 0
      },
      "text/plain": [
       "HBox(children=(IntProgress(value=0, max=145), HTML(value='')))"
      ]
     },
     "metadata": {},
     "output_type": "display_data"
    },
    {
     "name": "stdout",
     "output_type": "stream",
     "text": [
      "\n",
      "3 148\n",
      "104 199\n",
      "63 117\n"
     ]
    },
    {
     "data": {
      "application/vnd.jupyter.widget-view+json": {
       "model_id": "4df0098bc3ec47ccbff18454d5be05e5",
       "version_major": 2,
       "version_minor": 0
      },
      "text/plain": [
       "HBox(children=(IntProgress(value=0, max=145), HTML(value='')))"
      ]
     },
     "metadata": {},
     "output_type": "display_data"
    },
    {
     "name": "stdout",
     "output_type": "stream",
     "text": [
      "\n",
      "154 299\n",
      "3 98\n",
      "3 57\n"
     ]
    },
    {
     "data": {
      "application/vnd.jupyter.widget-view+json": {
       "model_id": "287aa05a52ee430dbf3bad99d1c71b61",
       "version_major": 2,
       "version_minor": 0
      },
      "text/plain": [
       "HBox(children=(IntProgress(value=0, max=145), HTML(value='')))"
      ]
     },
     "metadata": {},
     "output_type": "display_data"
    },
    {
     "name": "stdout",
     "output_type": "stream",
     "text": [
      "\n",
      "154 299\n",
      "3 98\n",
      "63 117\n"
     ]
    },
    {
     "data": {
      "application/vnd.jupyter.widget-view+json": {
       "model_id": "54323160148042f58fe6d59ffe9b108e",
       "version_major": 2,
       "version_minor": 0
      },
      "text/plain": [
       "HBox(children=(IntProgress(value=0, max=145), HTML(value='')))"
      ]
     },
     "metadata": {},
     "output_type": "display_data"
    },
    {
     "name": "stdout",
     "output_type": "stream",
     "text": [
      "\n",
      "154 299\n",
      "104 199\n",
      "3 57\n"
     ]
    },
    {
     "data": {
      "application/vnd.jupyter.widget-view+json": {
       "model_id": "2031899dab9a4023b6f07aa7bb4dc927",
       "version_major": 2,
       "version_minor": 0
      },
      "text/plain": [
       "HBox(children=(IntProgress(value=0, max=145), HTML(value='')))"
      ]
     },
     "metadata": {},
     "output_type": "display_data"
    },
    {
     "name": "stdout",
     "output_type": "stream",
     "text": [
      "\n",
      "154 299\n",
      "104 199\n",
      "63 117\n"
     ]
    },
    {
     "data": {
      "application/vnd.jupyter.widget-view+json": {
       "model_id": "96d19943e3934c25b7d5b122bd1c3868",
       "version_major": 2,
       "version_minor": 0
      },
      "text/plain": [
       "HBox(children=(IntProgress(value=0, max=145), HTML(value='')))"
      ]
     },
     "metadata": {},
     "output_type": "display_data"
    },
    {
     "name": "stdout",
     "output_type": "stream",
     "text": [
      "\n"
     ]
    },
    {
     "data": {
      "text/html": [
       "<table>\n",
       "<tbody>\n",
       "<tr><td>Data Source        </td><td>Result</td><td>Heat1 </td><td>Heat2 </td><td>Heat3 </td></tr>\n",
       "<tr><td>Re15sh20_DNScoarse4</td><td>Corr  </td><td>0.8206</td><td>0.5469</td><td>0.6654</td></tr>\n",
       "<tr><td>                   </td><td>R^2   </td><td>0.5564</td><td>0.2591</td><td>0.3065</td></tr>\n",
       "</tbody>\n",
       "</table>"
      ],
      "text/plain": [
       "<IPython.core.display.HTML object>"
      ]
     },
     "metadata": {},
     "output_type": "display_data"
    },
    {
     "name": "stdout",
     "output_type": "stream",
     "text": [
      "3 74\n",
      "3 49\n",
      "3 30\n"
     ]
    },
    {
     "data": {
      "application/vnd.jupyter.widget-view+json": {
       "model_id": "3715e22e3b40464d8c8798a937e19db2",
       "version_major": 2,
       "version_minor": 0
      },
      "text/plain": [
       "HBox(children=(IntProgress(value=0, max=71), HTML(value='')))"
      ]
     },
     "metadata": {},
     "output_type": "display_data"
    },
    {
     "name": "stdout",
     "output_type": "stream",
     "text": [
      "\n"
     ]
    },
    {
     "data": {
      "text/html": [
       "<table>\n",
       "<tbody>\n",
       "<tr><td>Data Source         </td><td>Result</td><td>Heat1 </td><td>Heat2 </td><td>Heat3 </td></tr>\n",
       "<tr><td>Re15sh20_DNScoarse4 </td><td>Corr  </td><td>0.8206</td><td>0.5469</td><td>0.6654</td></tr>\n",
       "<tr><td>                    </td><td>R^2   </td><td>0.5564</td><td>0.2591</td><td>0.3065</td></tr>\n",
       "<tr><td>Re15sh20_DNScoarse16</td><td>Corr  </td><td>0.7433</td><td>0.5964</td><td>0.7964</td></tr>\n",
       "<tr><td>                    </td><td>R^2   </td><td>0.4667</td><td>0.2346</td><td>0.5523</td></tr>\n",
       "</tbody>\n",
       "</table>"
      ],
      "text/plain": [
       "<IPython.core.display.HTML object>"
      ]
     },
     "metadata": {},
     "output_type": "display_data"
    }
   ],
   "source": [
    "out = [[\"Data Source\", \"Result\", \"Heat1\", \"Heat2\", \"Heat3\"]]\n",
    "coarseArray = [4, 16]\n",
    "for coarse in coarseArray:\n",
    "    dirName = \"/home/llin2948/dscaptstone/Re15sh20_DNScoarse\" + str(coarse)\n",
    "    os.chdir(dirName)\n",
    "    u = preprocess(scale(loadmat('u_F_xyz_T1_DNS'+str(coarse)+'.mat')[\"u_F\"]))\n",
    "    v = preprocess(scale(loadmat('v_F_xyz_T1_DNS'+str(coarse)+'.mat')[\"v_F\"]))\n",
    "    w = preprocess(scale(loadmat('w_F_xyz_T1_DNS'+str(coarse)+'.mat')[\"w_F\"]))\n",
    "    heat1 = preprocess(scale(loadmat('Heat1_xyz_T1_DNS'+str(coarse)+'.mat')[\"Heat1\"]))\n",
    "    heat2 = preprocess(scale(loadmat('Heat2_xyz_T1_DNS'+str(coarse)+'.mat')[\"Heat2\"]))\n",
    "    heat3 = preprocess(scale(loadmat('Heat3_xyz_T1_DNS'+str(coarse)+'.mat')[\"Heat3\"]))\n",
    "    #tke = preprocess(scale(loadmat('TKE_F_xyz_T1_DNS'+str(coarse)+'.mat')[\"TKE_F\"]))\n",
    "\n",
    "    x = np.array([u, v, w])\n",
    "    x = np.transpose(x, [1, 2, 3, 0])\n",
    "    x = np.pad(x, ((3,3), (3,3), (3,3), (0,0)), 'constant', constant_values = 0)\n",
    "\n",
    "    size = 3\n",
    "    y_pred_12 = np.array([])\n",
    "    y_pred_13 = np.array([])\n",
    "    y_pred_23 = np.array([])\n",
    "    y_true_12 = np.array([])\n",
    "    y_true_13 = np.array([])\n",
    "    y_true_23 = np.array([])\n",
    "    u_idx = 0\n",
    "    v_idx = 0\n",
    "    z_idx = 0\n",
    "    for u_idx in range(0, math.ceil(x.shape[0]/151)):\n",
    "        for v_idx in range(0, math.ceil(x.shape[1]/101)):\n",
    "            for z_idx in range(0, math.ceil(x.shape[2]/60)):\n",
    "                u_lowerbound = u_idx*151+size\n",
    "                u_upperbound = x.shape[0] - size if (u_idx+1)*151 >= x.shape[0] else (u_idx+1)*151 - size\n",
    "                v_lowerbound = v_idx*101+size\n",
    "                v_upperbound = x.shape[1] - size if (v_idx+1)*101 >= x.shape[1] else (v_idx+1)*101 - size\n",
    "                z_lowerbound = z_idx*60+size\n",
    "                z_upperbound = x.shape[2] - size if (z_idx+1)*60 >= x.shape[2] else (z_idx+1)*60 - size\n",
    "                print(str(u_lowerbound) + ' ' + str(u_upperbound))\n",
    "                print(str(v_lowerbound) + ' ' + str(v_upperbound))\n",
    "                print(str(z_lowerbound) + ' ' + str(z_upperbound))\n",
    "                sample = []\n",
    "                y_heat1 = []\n",
    "                y_heat2 = []\n",
    "                y_heat3 = []\n",
    "                for i in tqdm_notebook(range(u_lowerbound, u_upperbound)):\n",
    "                    for j in range(v_lowerbound, v_upperbound):\n",
    "                        for k in range(z_lowerbound, z_upperbound):\n",
    "                            sample.append(x[i - size: i + size + 1, j - size: j + size + 1, k - size: k + size + 1, :])\n",
    "                            y_heat1.append(heat1[i - size][j - size][k - size])\n",
    "                            y_heat2.append(heat2[i - size][j - size][k - size])\n",
    "                            y_heat3.append(heat3[i - size][j - size][k - size])\n",
    "\n",
    "                x_part = np.stack(sample, axis = 0)\n",
    "                y_heat1 = np.array(y_heat1)\n",
    "                y_heat2 = np.array(y_heat2)\n",
    "                y_heat3 = np.array(y_heat3)\n",
    "\n",
    "                del sample\n",
    "                gc.collect()\n",
    "\n",
    "                y_pred_12 = np.append(y_pred_12, loaded_model_1.predict(x_part).flatten())\n",
    "                y_true_12 = np.append(y_true_12, y_heat1)\n",
    "\n",
    "                y_pred_13 = np.append(y_pred_13, loaded_model_2.predict(x_part).flatten())\n",
    "                y_true_13 = np.append(y_true_13, y_heat2)\n",
    "\n",
    "                y_pred_23 = np.append(y_pred_23, loaded_model_3.predict(x_part).flatten())\n",
    "                y_true_23 = np.append(y_true_23, y_heat3)\n",
    "\n",
    "                del x_part\n",
    "                del y_heat1\n",
    "                del y_heat2\n",
    "                del y_heat3\n",
    "                gc.collect()\n",
    "\n",
    "    out.append(['Re15sh20_DNScoarse' + str(coarse), 'Corr', str(np.round(np.corrcoef(y_pred_12, y_true_12)[0, 1], 4)), str(np.round(np.corrcoef(y_pred_13, y_true_13)[0, 1], 4)), str(np.round(np.corrcoef(y_pred_23, y_true_23)[0, 1], 4))])\n",
    "    out.append(['', 'R^2', str(np.round(r2_score(y_true_12, y_pred_12), 4)), str(np.round(r2_score(y_true_13, y_pred_13), 4)), str(np.round(r2_score(y_true_23, y_pred_23), 4))])\n",
    "    display(HTML(tabulate.tabulate(out, tablefmt = 'html')))"
   ]
  },
  {
   "cell_type": "code",
   "execution_count": null,
   "metadata": {},
   "outputs": [],
   "source": []
  }
 ],
 "metadata": {
  "kernelspec": {
   "display_name": "Python 3",
   "language": "python",
   "name": "python3"
  },
  "language_info": {
   "codemirror_mode": {
    "name": "ipython",
    "version": 3
   },
   "file_extension": ".py",
   "mimetype": "text/x-python",
   "name": "python",
   "nbconvert_exporter": "python",
   "pygments_lexer": "ipython3",
   "version": "3.6.6"
  }
 },
 "nbformat": 4,
 "nbformat_minor": 2
}
