{
  "nbformat": 4,
  "nbformat_minor": 0,
  "metadata": {
    "colab": {
      "name": "capstone.ipynb",
      "version": "0.3.2",
      "provenance": []
    },
    "kernelspec": {
      "name": "python2",
      "display_name": "Python 2"
    },
    "accelerator": "TPU"
  },
  "cells": [
    {
      "metadata": {
        "id": "eWysa2di1PyL",
        "colab_type": "code",
        "colab": {}
      },
      "cell_type": "code",
      "source": [
        "!pip install -U -q PyDrive\n"
      ],
      "execution_count": 0,
      "outputs": []
    },
    {
      "metadata": {
        "id": "JoMOJMJ5rk-5",
        "colab_type": "code",
        "colab": {}
      },
      "cell_type": "code",
      "source": [
        "from pydrive.auth import GoogleAuth\n",
        "\n",
        "from pydrive.drive import GoogleDrive\n",
        "from google.colab import auth\n",
        "from oauth2client.client import GoogleCredentials\n",
        "import os\n",
        "import pandas as pd\n",
        "import scipy.io\n",
        "\n"
      ],
      "execution_count": 0,
      "outputs": []
    },
    {
      "metadata": {
        "id": "_7m4hFYtvNy2",
        "colab_type": "code",
        "colab": {}
      },
      "cell_type": "code",
      "source": [
        "auth.authenticate_user()\n",
        "gauth = GoogleAuth()\n",
        "gauth.credentials = GoogleCredentials.get_application_default()\n",
        "drive = GoogleDrive(gauth)"
      ],
      "execution_count": 0,
      "outputs": []
    },
    {
      "metadata": {
        "id": "UPC0L9uB1dZu",
        "colab_type": "code",
        "colab": {
          "base_uri": "https://localhost:8080/",
          "height": 170
        },
        "outputId": "e79b016d-fddb-4cc0-c635-6ddeb2a769ef"
      },
      "cell_type": "code",
      "source": [
        "dataid = list()\n",
        "listed = drive.ListFile({'q': \"title contains 'u_F_xyz_T1.mat' and '1TwUcH3SRpMkLf5SaKFsuCJUH4kNrHKvA' in parents\"}).GetList()\n",
        "for file in listed:\n",
        "  print('title {}, id {}'.format(file['title'], file['id']))\n",
        "dataid.append(file['id'])\n",
        "listed = drive.ListFile({'q': \"title contains 'v_F_xyz_T1.mat' and '1TwUcH3SRpMkLf5SaKFsuCJUH4kNrHKvA' in parents\"}).GetList()\n",
        "for file in listed:\n",
        "  print('title {}, id {}'.format(file['title'], file['id']))\n",
        "dataid.append(file['id'])  \n",
        "listed = drive.ListFile({'q': \"title contains 'w_F_xyz_T1.mat' and '1TwUcH3SRpMkLf5SaKFsuCJUH4kNrHKvA' in parents\"}).GetList()\n",
        "for file in listed:\n",
        "  print('title {}, id {}'.format(file['title'], file['id']))\n",
        "dataid.append(file['id'])\n",
        "listed = drive.ListFile({'q': \"title contains 'tau11_xyz_T1.mat' and '1TwUcH3SRpMkLf5SaKFsuCJUH4kNrHKvA' in parents\"}).GetList()\n",
        "for file in listed:\n",
        "  print('title {}, id {}'.format(file['title'], file['id']))\n",
        "dataid.append(file['id'])  \n",
        "listed = drive.ListFile({'q': \"title contains 'tau12_xyz_T1.mat' and '1TwUcH3SRpMkLf5SaKFsuCJUH4kNrHKvA' in parents\"}).GetList()\n",
        "for file in listed:\n",
        "  print('title {}, id {}'.format(file['title'], file['id']))\n",
        "dataid.append(file['id'])  \n",
        "listed = drive.ListFile({'q': \"title contains 'tau13_xyz_T1.mat' and '1TwUcH3SRpMkLf5SaKFsuCJUH4kNrHKvA' in parents\"}).GetList()\n",
        "for file in listed:\n",
        "  print('title {}, id {}'.format(file['title'], file['id']))\n",
        "dataid.append(file['id'])  \n",
        "listed = drive.ListFile({'q': \"title contains 'tau22_xyz_T1.mat' and '1TwUcH3SRpMkLf5SaKFsuCJUH4kNrHKvA' in parents\"}).GetList()\n",
        "for file in listed:\n",
        "  print('title {}, id {}'.format(file['title'], file['id']))\n",
        "dataid.append(file['id'])  \n",
        "listed = drive.ListFile({'q': \"title contains 'tau23_xyz_T1.mat' and '1TwUcH3SRpMkLf5SaKFsuCJUH4kNrHKvA' in parents\"}).GetList()\n",
        "for file in listed:\n",
        "  print('title {}, id {}'.format(file['title'], file['id']))\n",
        "dataid.append(file['id'])\n",
        "listed = drive.ListFile({'q': \"title contains 'tau33_xyz_T1.mat' and '1TwUcH3SRpMkLf5SaKFsuCJUH4kNrHKvA' in parents\"}).GetList()\n",
        "for file in listed:\n",
        "  print('title {}, id {}'.format(file['title'], file['id']))\n",
        "dataid.append(file['id'])"
      ],
      "execution_count": 7,
      "outputs": [
        {
          "output_type": "stream",
          "text": [
            "title u_F_xyz_T1.mat, id 1ICNozggYOTaxfwAtjpNnnAqfqrs5uQUV\n",
            "title v_F_xyz_T1.mat, id 1avYmc-XakdRR2RmHBgQeOEd08Lv-VssI\n",
            "title w_F_xyz_T1.mat, id 1WXEQI-Kj1EmQMBVwtlUa5KsuKiCcPY8N\n",
            "title tau11_xyz_T1.mat, id 1Y7wvECOcJZi3Xpnvi7ovLutYbQdVwbMt\n",
            "title tau12_xyz_T1.mat, id 1G0WDcV2zGCcIbUfny3C0ScE8-ueer4Oj\n",
            "title tau13_xyz_T1.mat, id 1pe5Ar-xsjCb12FfBUYbgAQD0AxM2Xhw8\n",
            "title tau22_xyz_T1.mat, id 18G3jk7A6UYq4r2NT7mCOD5RMx9pgvX2W\n",
            "title tau23_xyz_T1.mat, id 160LcM3xj5-x9EFf_Xfqkv8f8StrEspH2\n",
            "title tau33_xyz_T1.mat, id 1Nox_p2L0-msjq8HlQHsqRvZ1BaUWFS0y\n"
          ],
          "name": "stdout"
        }
      ]
    },
    {
      "metadata": {
        "id": "9kYFBSr1wj93",
        "colab_type": "code",
        "colab": {
          "base_uri": "https://localhost:8080/",
          "height": 34
        },
        "outputId": "fa232d37-ab77-4b66-8d10-f6dffca3cde7"
      },
      "cell_type": "code",
      "source": [
        "dataid[1]"
      ],
      "execution_count": 6,
      "outputs": [
        {
          "output_type": "execute_result",
          "data": {
            "text/plain": [
              "u'1avYmc-XakdRR2RmHBgQeOEd08Lv-VssI'"
            ]
          },
          "metadata": {
            "tags": []
          },
          "execution_count": 6
        }
      ]
    },
    {
      "metadata": {
        "id": "HiUlVJ0S1mcu",
        "colab_type": "code",
        "colab": {}
      },
      "cell_type": "code",
      "source": [
        "download_path = os.path.expanduser('~/Capdata')\n",
        "try:\n",
        "  os.makedirs(download_path)\n",
        "except FileExistsError:\n",
        "  pass"
      ],
      "execution_count": 0,
      "outputs": []
    },
    {
      "metadata": {
        "id": "7cvqSbsKzNv0",
        "colab_type": "code",
        "colab": {
          "base_uri": "https://localhost:8080/",
          "height": 34
        },
        "outputId": "554a3cf4-aaab-48a2-8f32-46800a36e671"
      },
      "cell_type": "code",
      "source": [
        "download_path"
      ],
      "execution_count": 8,
      "outputs": [
        {
          "output_type": "execute_result",
          "data": {
            "text/plain": [
              "'/root/Capdata'"
            ]
          },
          "metadata": {
            "tags": []
          },
          "execution_count": 8
        }
      ]
    },
    {
      "metadata": {
        "id": "yd8NFQ1r4Mgd",
        "colab_type": "code",
        "colab": {}
      },
      "cell_type": "code",
      "source": [
        "output_file = os.path.join(download_path, 'u_F_xyz_T1.mat')\n",
        "temp_file = drive.CreateFile({'id': '1ICNozggYOTaxfwAtjpNnnAqfqrs5uQUV'})\n",
        "temp_file.GetContentFile(output_file)"
      ],
      "execution_count": 0,
      "outputs": []
    },
    {
      "metadata": {
        "id": "TG037Zl6u64q",
        "colab_type": "code",
        "colab": {}
      },
      "cell_type": "code",
      "source": [
        "u_F= scipy.io.loadmat(output_file)['u_F']"
      ],
      "execution_count": 0,
      "outputs": []
    },
    {
      "metadata": {
        "id": "7tabYQptvH6F",
        "colab_type": "code",
        "colab": {}
      },
      "cell_type": "code",
      "source": [
        "output_file = os.path.join(download_path, 'v_F_xyz_T1.mat')\n",
        "temp_file = drive.CreateFile({'id': '1avYmc-XakdRR2RmHBgQeOEd08Lv-VssI'})\n",
        "temp_file.GetContentFile(output_file)\n",
        "v_F= scipy.io.loadmat(output_file)['v_F']"
      ],
      "execution_count": 0,
      "outputs": []
    },
    {
      "metadata": {
        "id": "DiXbOlgLxOfm",
        "colab_type": "code",
        "colab": {}
      },
      "cell_type": "code",
      "source": [
        "output_file = os.path.join(download_path, 'w_F_xyz_T1.mat')\n",
        "temp_file = drive.CreateFile({'id': '1WXEQI-Kj1EmQMBVwtlUa5KsuKiCcPY8N'})\n",
        "temp_file.GetContentFile(output_file)\n",
        "w_F= scipy.io.loadmat(output_file)['w_F']"
      ],
      "execution_count": 0,
      "outputs": []
    },
    {
      "metadata": {
        "id": "5F7iadVrxWQb",
        "colab_type": "code",
        "colab": {}
      },
      "cell_type": "code",
      "source": [
        "output_file = os.path.join(download_path, 'tau11_xyz_T1.mat')\n",
        "temp_file = drive.CreateFile({'id': '1Y7wvECOcJZi3Xpnvi7ovLutYbQdVwbMt'})\n",
        "temp_file.GetContentFile(output_file)\n",
        "tau11 = scipy.io.loadmat(output_file)['tau11']\n",
        "\n",
        "output_file = os.path.join(download_path, 'tau12_xyz_T1.mat')\n",
        "temp_file = drive.CreateFile({'id': '1G0WDcV2zGCcIbUfny3C0ScE8-ueer4Oj'})\n",
        "temp_file.GetContentFile(output_file)\n",
        "tau12 = scipy.io.loadmat(output_file)['tau12']\n",
        "\n",
        "output_file = os.path.join(download_path, 'tau13_xyz_T1.mat')\n",
        "temp_file = drive.CreateFile({'id': '1pe5Ar-xsjCb12FfBUYbgAQD0AxM2Xhw8'})\n",
        "temp_file.GetContentFile(output_file)\n",
        "tau13 = scipy.io.loadmat(output_file)['tau13']\n",
        "\n",
        "\n",
        "output_file = os.path.join(download_path, 'tau22_xyz_T1.mat')\n",
        "temp_file = drive.CreateFile({'id': '18G3jk7A6UYq4r2NT7mCOD5RMx9pgvX2W'})\n",
        "temp_file.GetContentFile(output_file)\n",
        "tau22 = scipy.io.loadmat(output_file)['tau22']\n",
        "\n",
        "output_file = os.path.join(download_path, 'tau23_xyz_T1.mat')\n",
        "temp_file = drive.CreateFile({'id': '160LcM3xj5-x9EFf_Xfqkv8f8StrEspH2'})\n",
        "temp_file.GetContentFile(output_file)\n",
        "tau23 = scipy.io.loadmat(output_file)['tau23']\n",
        "\n",
        "output_file = os.path.join(download_path, 'tau33_xyz_T1.mat')\n",
        "temp_file = drive.CreateFile({'id': '1Nox_p2L0-msjq8HlQHsqRvZ1BaUWFS0y'})\n",
        "temp_file.GetContentFile(output_file)\n",
        "tau33 = scipy.io.loadmat(output_file)['tau33']"
      ],
      "execution_count": 0,
      "outputs": []
    },
    {
      "metadata": {
        "id": "oNGviWa-yNaL",
        "colab_type": "code",
        "colab": {}
      },
      "cell_type": "code",
      "source": [
        "import scipy.io\n",
        "import os\n",
        "import numpy as np\n",
        "from numpy import arange\n",
        "from keras.models import Model\n",
        "from PIL import Image\n",
        "from sklearn.preprocessing import LabelEncoder\n",
        "from keras.models import Sequential\n",
        "from keras.layers import Dense, Dropout, Activation, Convolution2D, MaxPooling2D, Flatten,Input\n",
        "from keras.utils import np_utils\n",
        "from keras.layers.merge import concatenate\n",
        "import keras.backend as K\n",
        "\n"
      ],
      "execution_count": 0,
      "outputs": []
    },
    {
      "metadata": {
        "id": "QxAFQN_qq7qa",
        "colab_type": "code",
        "colab": {}
      },
      "cell_type": "code",
      "source": [
        "import keras.backend as K\n",
        "import keras.backend as flatten\n",
        "import tensorflow as tf"
      ],
      "execution_count": 0,
      "outputs": []
    },
    {
      "metadata": {
        "id": "cUlrFw5SoTKO",
        "colab_type": "code",
        "colab": {}
      },
      "cell_type": "code",
      "source": [
        "stride = 1\n",
        "\n",
        "def tranform_to_sampel(raw,new):\n",
        "    num = 0\n",
        "    for i in arange(0,s1,stride):\n",
        "        if i+n1>=s1:\n",
        "            l1 = list(arange(i,s1))\n",
        "            l2 = list(arange(0,n1-len(l1)))\n",
        "            il = l1+l2\n",
        "        else:\n",
        "            il = list(arange(i,i+n1))\n",
        "        for j in range(0,s2,stride):\n",
        "            if j+n2>=s2:\n",
        "                l1 = list(arange(j,s2))\n",
        "                l2 = list(arange(0,n2-len(l1)))\n",
        "                jl = l1+l2\n",
        "            else:\n",
        "                jl =list(arange(j,j+n2)) \n",
        "                \n",
        "            new[num,:,:,:]= raw[il,:,:][:,jl,:]\n",
        "            if num == 0:\n",
        "                print(il,jl)            \n",
        "            num = num + 1\n",
        "\n",
        "    return new\n",
        "\n",
        "def tranform_to_target(raw,new,out):\n",
        "    num = 0\n",
        "    for i in arange(0,s1,stride):\n",
        "        if i+n1>=s1:\n",
        "            l1 = list(arange(i,s1))\n",
        "            l2 = list(arange(0,n1-len(l1)))\n",
        "            il = l1+l2\n",
        "        else:\n",
        "            il = list(arange(i,i+n1))\n",
        "        for j in range(0,s2,stride):\n",
        "            if j+n2>=s2:\n",
        "                l1 = list(arange(j,s2))\n",
        "                l2 = list(arange(0,n2-len(l1)))\n",
        "                jl = l1+l2\n",
        "            else:\n",
        "                jl =list(arange(j,j+n2)) \n",
        "                \n",
        "            new[num,:,:,:]= raw[il,:,:][:,jl,:]\n",
        "            out[num,:] = new[num,:,:,:][3,3,:]\n",
        "            if num == 0:\n",
        "                print(il,jl)            \n",
        "            num = num + 1\n",
        "\n",
        "    return out\n",
        "\n",
        "    "
      ],
      "execution_count": 0,
      "outputs": []
    },
    {
      "metadata": {
        "id": "lyT_r5a7rB5J",
        "colab_type": "code",
        "colab": {}
      },
      "cell_type": "code",
      "source": [
        "def r2_keras(y_true, y_pred):\n",
        "    yt = tf.keras.backend.flatten(y_true)\n",
        "    yp = tf.keras.backend.flatten(y_pred)\n",
        "    \n",
        "    SS_res =  K.sum(K.square(yt - yp)) \n",
        "    SS_tot = K.sum(K.square(yt - K.mean(yt))) \n",
        "    return ( 1 - SS_res/(SS_tot + K.epsilon()) )"
      ],
      "execution_count": 0,
      "outputs": []
    },
    {
      "metadata": {
        "id": "gRwRlNUluG45",
        "colab_type": "code",
        "colab": {}
      },
      "cell_type": "code",
      "source": [
        ""
      ],
      "execution_count": 0,
      "outputs": []
    },
    {
      "metadata": {
        "id": "WW-bkehAsxyt",
        "colab_type": "code",
        "colab": {
          "base_uri": "https://localhost:8080/",
          "height": 170
        },
        "outputId": "6395c877-e2b7-4b85-d75f-f66b2e690c86"
      },
      "cell_type": "code",
      "source": [
        "s1,s2,s3 = tau11.shape\n",
        "n1 = 7\n",
        "n2 = 7\n",
        "n3 = s3\n",
        "\n",
        "stride = 1\n",
        "num = 0\n",
        "for i in arange(0,s1,stride):\n",
        "    for j in range(0,s2,stride):\n",
        "        num = num +1\n",
        "\n",
        "ini = np.zeros((num,n1,n2,n3))\n",
        "newy = np.zeros((num,n3))\n",
        "#transform into small box\n",
        "vf = tranform_to_sampel(v_F,ini)\n",
        "uf = tranform_to_sampel(u_F,ini)\n",
        "wf = tranform_to_sampel(w_F,ini)\n",
        "\n",
        "y11 = tranform_to_target(tau11,ini,newy)\n",
        "\n",
        "y12= tranform_to_target(tau12,ini,newy)\n",
        "y13= tranform_to_target(tau13,ini,newy)\n",
        "y22= tranform_to_target(tau22,ini,newy)\n",
        "y23= tranform_to_target(tau23,ini,newy)\n",
        "y33= tranform_to_target(tau33,ini,newy)"
      ],
      "execution_count": 18,
      "outputs": [
        {
          "output_type": "stream",
          "text": [
            "([0, 1, 2, 3, 4, 5, 6], [0, 1, 2, 3, 4, 5, 6])\n",
            "([0, 1, 2, 3, 4, 5, 6], [0, 1, 2, 3, 4, 5, 6])\n",
            "([0, 1, 2, 3, 4, 5, 6], [0, 1, 2, 3, 4, 5, 6])\n",
            "([0, 1, 2, 3, 4, 5, 6], [0, 1, 2, 3, 4, 5, 6])\n",
            "([0, 1, 2, 3, 4, 5, 6], [0, 1, 2, 3, 4, 5, 6])\n",
            "([0, 1, 2, 3, 4, 5, 6], [0, 1, 2, 3, 4, 5, 6])\n",
            "([0, 1, 2, 3, 4, 5, 6], [0, 1, 2, 3, 4, 5, 6])\n",
            "([0, 1, 2, 3, 4, 5, 6], [0, 1, 2, 3, 4, 5, 6])\n",
            "([0, 1, 2, 3, 4, 5, 6], [0, 1, 2, 3, 4, 5, 6])\n"
          ],
          "name": "stdout"
        }
      ]
    },
    {
      "metadata": {
        "id": "w5RZj1u1oX-F",
        "colab_type": "code",
        "colab": {
          "base_uri": "https://localhost:8080/",
          "height": 5802
        },
        "outputId": "2a866da7-a397-4592-8bd8-f8a51a17ab74"
      },
      "cell_type": "code",
      "source": [
        "\n",
        "ytrain11 = np.reshape(y11, (y11.shape[0], -1))\n",
        "batch_size = 128\n",
        "nb_epoch = 250\n",
        "\n",
        "input_shape = (n1,n2,n3)\n",
        "kernel_size = (3, 3)\n",
        "pool_size = (2, 2)\n",
        "\n",
        "outsize = n3\n",
        "\n",
        "nb_filters = 16\n",
        "\n",
        "#first model\n",
        "visible1 = Input(shape=(vf.shape[1],vf.shape[2],vf.shape[3]))\n",
        "conv11 = Convolution2D(nb_filters,kernel_size, \n",
        "                        border_mode='valid', activation='relu')(visible1)\n",
        "\n",
        "conv12 = Convolution2D(nb_filters,kernel_size, \n",
        "                        border_mode='valid', activation='relu')(conv11)\n",
        "pool12 = MaxPooling2D(pool_size=pool_size)(conv12)\n",
        "flat1 = Flatten()(pool12)\n",
        "drop1 = Dropout(0.2)(flat1)\n",
        "#second:\n",
        "visible2 = Input(shape=(vf.shape[1],vf.shape[2],vf.shape[3]))\n",
        "conv21 = Convolution2D(nb_filters,kernel_size, \n",
        "                        border_mode='valid', activation='relu')(visible2)\n",
        "\n",
        "conv22 = Convolution2D(nb_filters,kernel_size, \n",
        "                        border_mode='valid', activation='relu')(conv21)\n",
        "pool22 = MaxPooling2D(pool_size=pool_size)(conv22)\n",
        "flat2 = Flatten()(pool22)\n",
        "drop2 = Dropout(0.2)(flat2)\n",
        "\n",
        "#third:\n",
        "visible3 = Input(shape=(vf.shape[1],vf.shape[2],vf.shape[3]))\n",
        "conv31 = Convolution2D(nb_filters,kernel_size, \n",
        "                        border_mode='valid', activation='relu')(visible3)\n",
        "\n",
        "conv32 = Convolution2D(nb_filters,kernel_size, \n",
        "                        border_mode='valid', activation='relu')(conv31)\n",
        "\n",
        "pool32 = MaxPooling2D(pool_size=pool_size)(conv32)\n",
        "flat3 = Flatten()(pool32)\n",
        "drop3 = Dropout(0.2)(flat3)\n",
        "# merge:\n",
        "merge = concatenate([drop1, drop2,drop3])\n",
        "\n",
        "hidden1 = Dense(64, activation='relu')(merge)\n",
        "hiddrop = Dropout(0.3)(hidden1)\n",
        "hidden2 = Dense(128, activation='relu')(hiddrop)\n",
        "output = Dense(outsize, activation='relu')(hidden2)\n",
        "model = Model(inputs=[visible1, visible2,visible3], outputs=output)\n",
        "# summarize layers\n",
        "print(model.summary())\n",
        "\n",
        "\n",
        "\n",
        "model.compile(loss='mean_squared_error',\n",
        "              optimizer='sgd',\n",
        "              metrics=['mse',r2_keras])\n",
        "\n",
        "\n",
        "history = model.fit([uf,vf,wf], ytrain11, batch_size=batch_size, nb_epoch=nb_epoch, verbose=10)\n",
        "print(history.history['loss'])\n",
        "\n",
        "\n",
        "import matplotlib.pyplot as plt\n",
        "\n",
        "N = nb_epoch\n",
        "x =np.linspace(1, N,N)\n",
        "y = history.history['loss']\n",
        "ax = plt.axes()\n",
        "ax.plot(x, y)\n",
        "ax.set(xlim=(1,N), \n",
        "       xlabel='epoch', ylabel='loss',\n",
        "       title='Training Loss')\n"
      ],
      "execution_count": 19,
      "outputs": [
        {
          "output_type": "stream",
          "text": [
            "/usr/local/lib/python2.7/dist-packages/ipykernel_launcher.py:17: UserWarning: Update your `Conv2D` call to the Keras 2 API: `Conv2D(16, (3, 3), padding=\"valid\", activation=\"relu\")`\n",
            "/usr/local/lib/python2.7/dist-packages/ipykernel_launcher.py:20: UserWarning: Update your `Conv2D` call to the Keras 2 API: `Conv2D(16, (3, 3), padding=\"valid\", activation=\"relu\")`\n",
            "/usr/local/lib/python2.7/dist-packages/ipykernel_launcher.py:27: UserWarning: Update your `Conv2D` call to the Keras 2 API: `Conv2D(16, (3, 3), padding=\"valid\", activation=\"relu\")`\n",
            "/usr/local/lib/python2.7/dist-packages/ipykernel_launcher.py:30: UserWarning: Update your `Conv2D` call to the Keras 2 API: `Conv2D(16, (3, 3), padding=\"valid\", activation=\"relu\")`\n",
            "/usr/local/lib/python2.7/dist-packages/ipykernel_launcher.py:38: UserWarning: Update your `Conv2D` call to the Keras 2 API: `Conv2D(16, (3, 3), padding=\"valid\", activation=\"relu\")`\n",
            "/usr/local/lib/python2.7/dist-packages/ipykernel_launcher.py:41: UserWarning: Update your `Conv2D` call to the Keras 2 API: `Conv2D(16, (3, 3), padding=\"valid\", activation=\"relu\")`\n"
          ],
          "name": "stderr"
        },
        {
          "output_type": "stream",
          "text": [
            "__________________________________________________________________________________________________\n",
            "Layer (type)                    Output Shape         Param #     Connected to                     \n",
            "==================================================================================================\n",
            "input_1 (InputLayer)            (None, 7, 7, 75)     0                                            \n",
            "__________________________________________________________________________________________________\n",
            "input_2 (InputLayer)            (None, 7, 7, 75)     0                                            \n",
            "__________________________________________________________________________________________________\n",
            "input_3 (InputLayer)            (None, 7, 7, 75)     0                                            \n",
            "__________________________________________________________________________________________________\n",
            "conv2d_1 (Conv2D)               (None, 5, 5, 16)     10816       input_1[0][0]                    \n",
            "__________________________________________________________________________________________________\n",
            "conv2d_3 (Conv2D)               (None, 5, 5, 16)     10816       input_2[0][0]                    \n",
            "__________________________________________________________________________________________________\n",
            "conv2d_5 (Conv2D)               (None, 5, 5, 16)     10816       input_3[0][0]                    \n",
            "__________________________________________________________________________________________________\n",
            "conv2d_2 (Conv2D)               (None, 3, 3, 16)     2320        conv2d_1[0][0]                   \n",
            "__________________________________________________________________________________________________\n",
            "conv2d_4 (Conv2D)               (None, 3, 3, 16)     2320        conv2d_3[0][0]                   \n",
            "__________________________________________________________________________________________________\n",
            "conv2d_6 (Conv2D)               (None, 3, 3, 16)     2320        conv2d_5[0][0]                   \n",
            "__________________________________________________________________________________________________\n",
            "max_pooling2d_1 (MaxPooling2D)  (None, 1, 1, 16)     0           conv2d_2[0][0]                   \n",
            "__________________________________________________________________________________________________\n",
            "max_pooling2d_2 (MaxPooling2D)  (None, 1, 1, 16)     0           conv2d_4[0][0]                   \n",
            "__________________________________________________________________________________________________\n",
            "max_pooling2d_3 (MaxPooling2D)  (None, 1, 1, 16)     0           conv2d_6[0][0]                   \n",
            "__________________________________________________________________________________________________\n",
            "flatten_1 (Flatten)             (None, 16)           0           max_pooling2d_1[0][0]            \n",
            "__________________________________________________________________________________________________\n",
            "flatten_2 (Flatten)             (None, 16)           0           max_pooling2d_2[0][0]            \n",
            "__________________________________________________________________________________________________\n",
            "flatten_3 (Flatten)             (None, 16)           0           max_pooling2d_3[0][0]            \n",
            "__________________________________________________________________________________________________\n",
            "dropout_1 (Dropout)             (None, 16)           0           flatten_1[0][0]                  \n",
            "__________________________________________________________________________________________________\n",
            "dropout_2 (Dropout)             (None, 16)           0           flatten_2[0][0]                  \n",
            "__________________________________________________________________________________________________\n",
            "dropout_3 (Dropout)             (None, 16)           0           flatten_3[0][0]                  \n",
            "__________________________________________________________________________________________________\n",
            "concatenate_1 (Concatenate)     (None, 48)           0           dropout_1[0][0]                  \n",
            "                                                                 dropout_2[0][0]                  \n",
            "                                                                 dropout_3[0][0]                  \n",
            "__________________________________________________________________________________________________\n",
            "dense_1 (Dense)                 (None, 64)           3136        concatenate_1[0][0]              \n",
            "__________________________________________________________________________________________________\n",
            "dropout_4 (Dropout)             (None, 64)           0           dense_1[0][0]                    \n",
            "__________________________________________________________________________________________________\n",
            "dense_2 (Dense)                 (None, 128)          8320        dropout_4[0][0]                  \n",
            "__________________________________________________________________________________________________\n",
            "dense_3 (Dense)                 (None, 75)           9675        dense_2[0][0]                    \n",
            "==================================================================================================\n",
            "Total params: 60,539\n",
            "Trainable params: 60,539\n",
            "Non-trainable params: 0\n",
            "__________________________________________________________________________________________________\n",
            "None\n"
          ],
          "name": "stdout"
        },
        {
          "output_type": "stream",
          "text": [
            "/usr/local/lib/python2.7/dist-packages/ipykernel_launcher.py:64: UserWarning: The `nb_epoch` argument in `fit` has been renamed `epochs`.\n"
          ],
          "name": "stderr"
        },
        {
          "output_type": "stream",
          "text": [
            "Epoch 1/250\n",
            "Epoch 2/250\n",
            "Epoch 3/250\n",
            "Epoch 4/250\n",
            "Epoch 5/250\n",
            "Epoch 6/250\n",
            "Epoch 7/250\n",
            "Epoch 8/250\n",
            "Epoch 9/250\n",
            "Epoch 10/250\n",
            "Epoch 11/250\n",
            "Epoch 12/250\n",
            "Epoch 13/250\n",
            "Epoch 14/250\n",
            "Epoch 15/250\n",
            "Epoch 16/250\n",
            "Epoch 17/250\n",
            "Epoch 18/250\n",
            "Epoch 19/250\n",
            "Epoch 20/250\n",
            "Epoch 21/250\n",
            "Epoch 22/250\n",
            "Epoch 23/250\n",
            "Epoch 24/250\n",
            "Epoch 25/250\n",
            "Epoch 26/250\n",
            "Epoch 27/250\n",
            "Epoch 28/250\n",
            "Epoch 29/250\n",
            "Epoch 30/250\n",
            "Epoch 31/250\n",
            "Epoch 32/250\n",
            "Epoch 33/250\n",
            "Epoch 34/250\n",
            "Epoch 35/250\n",
            "Epoch 36/250\n",
            "Epoch 37/250\n",
            "Epoch 38/250\n",
            "Epoch 39/250\n",
            "Epoch 40/250\n",
            "Epoch 41/250\n",
            "Epoch 42/250\n",
            "Epoch 43/250\n",
            "Epoch 44/250\n",
            "Epoch 45/250\n",
            "Epoch 46/250\n",
            "Epoch 47/250\n",
            "Epoch 48/250\n",
            "Epoch 49/250\n",
            "Epoch 50/250\n",
            "Epoch 51/250\n",
            "Epoch 52/250\n",
            "Epoch 53/250\n",
            "Epoch 54/250\n",
            "Epoch 55/250\n",
            "Epoch 56/250\n",
            "Epoch 57/250\n",
            "Epoch 58/250\n",
            "Epoch 59/250\n",
            "Epoch 60/250\n",
            "Epoch 61/250\n",
            "Epoch 62/250\n",
            "Epoch 63/250\n",
            "Epoch 64/250\n",
            "Epoch 65/250\n",
            "Epoch 66/250\n",
            "Epoch 67/250\n",
            "Epoch 68/250\n",
            "Epoch 69/250\n",
            "Epoch 70/250\n",
            "Epoch 71/250\n",
            "Epoch 72/250\n",
            "Epoch 73/250\n",
            "Epoch 74/250\n",
            "Epoch 75/250\n",
            "Epoch 76/250\n",
            "Epoch 77/250\n",
            "Epoch 78/250\n",
            "Epoch 79/250\n",
            "Epoch 80/250\n",
            "Epoch 81/250\n",
            "Epoch 82/250\n",
            "Epoch 83/250\n",
            "Epoch 84/250\n",
            "Epoch 85/250\n",
            "Epoch 86/250\n",
            "Epoch 87/250\n",
            "Epoch 88/250\n",
            "Epoch 89/250\n",
            "Epoch 90/250\n",
            "Epoch 91/250\n",
            "Epoch 92/250\n",
            "Epoch 93/250\n",
            "Epoch 94/250\n",
            "Epoch 95/250\n",
            "Epoch 96/250\n",
            "Epoch 97/250\n",
            "Epoch 98/250\n",
            "Epoch 99/250\n",
            "Epoch 100/250\n",
            "Epoch 101/250\n",
            "Epoch 102/250\n",
            "Epoch 103/250\n",
            "Epoch 104/250\n",
            "Epoch 105/250\n",
            "Epoch 106/250\n",
            "Epoch 107/250\n",
            "Epoch 108/250\n",
            "Epoch 109/250\n",
            "Epoch 110/250\n",
            "Epoch 111/250\n",
            "Epoch 112/250\n",
            "Epoch 113/250\n",
            "Epoch 114/250\n",
            "Epoch 115/250\n",
            "Epoch 116/250\n",
            "Epoch 117/250\n",
            "Epoch 118/250\n",
            "Epoch 119/250\n",
            "Epoch 120/250\n",
            "Epoch 121/250\n",
            "Epoch 122/250\n",
            "Epoch 123/250\n",
            "Epoch 124/250\n",
            "Epoch 125/250\n",
            "Epoch 126/250\n",
            "Epoch 127/250\n",
            "Epoch 128/250\n",
            "Epoch 129/250\n",
            "Epoch 130/250\n",
            "Epoch 131/250\n",
            "Epoch 132/250\n",
            "Epoch 133/250\n",
            "Epoch 134/250\n",
            "Epoch 135/250\n",
            "Epoch 136/250\n",
            "Epoch 137/250\n",
            "Epoch 138/250\n",
            "Epoch 139/250\n",
            "Epoch 140/250\n",
            "Epoch 141/250\n",
            "Epoch 142/250\n",
            "Epoch 143/250\n",
            "Epoch 144/250\n",
            "Epoch 145/250\n",
            "Epoch 146/250\n",
            "Epoch 147/250\n",
            "Epoch 148/250\n",
            "Epoch 149/250\n",
            "Epoch 150/250\n",
            "Epoch 151/250\n",
            "Epoch 152/250\n",
            "Epoch 153/250\n",
            "Epoch 154/250\n",
            "Epoch 155/250\n",
            "Epoch 156/250\n",
            "Epoch 157/250\n",
            "Epoch 158/250\n",
            "Epoch 159/250\n",
            "Epoch 160/250\n",
            "Epoch 161/250\n",
            "Epoch 162/250\n",
            "Epoch 163/250\n",
            "Epoch 164/250\n",
            "Epoch 165/250\n",
            "Epoch 166/250\n",
            "Epoch 167/250\n",
            "Epoch 168/250\n",
            "Epoch 169/250\n",
            "Epoch 170/250\n",
            "Epoch 171/250\n",
            "Epoch 172/250\n",
            "Epoch 173/250\n",
            "Epoch 174/250\n",
            "Epoch 175/250\n",
            "Epoch 176/250\n",
            "Epoch 177/250\n",
            "Epoch 178/250\n",
            "Epoch 179/250\n",
            "Epoch 180/250\n",
            "Epoch 181/250\n",
            "Epoch 182/250\n",
            "Epoch 183/250\n",
            "Epoch 184/250\n",
            "Epoch 185/250\n",
            "Epoch 186/250\n",
            "Epoch 187/250\n",
            "Epoch 188/250\n",
            "Epoch 189/250\n",
            "Epoch 190/250\n",
            "Epoch 191/250\n",
            "Epoch 192/250\n",
            "Epoch 193/250\n",
            "Epoch 194/250\n",
            "Epoch 195/250\n",
            "Epoch 196/250\n",
            "Epoch 197/250\n",
            "Epoch 198/250\n",
            "Epoch 199/250\n",
            "Epoch 200/250\n",
            "Epoch 201/250\n",
            "Epoch 202/250\n",
            "Epoch 203/250\n",
            "Epoch 204/250\n",
            "Epoch 205/250\n",
            "Epoch 206/250\n",
            "Epoch 207/250\n",
            "Epoch 208/250\n",
            "Epoch 209/250\n",
            "Epoch 210/250\n",
            "Epoch 211/250\n",
            "Epoch 212/250\n",
            "Epoch 213/250\n",
            "Epoch 214/250\n",
            "Epoch 215/250\n",
            "Epoch 216/250\n",
            "Epoch 217/250\n",
            "Epoch 218/250\n",
            "Epoch 219/250\n",
            "Epoch 220/250\n",
            "Epoch 221/250\n",
            "Epoch 222/250\n",
            "Epoch 223/250\n",
            "Epoch 224/250\n",
            "Epoch 225/250\n",
            "Epoch 226/250\n",
            "Epoch 227/250\n",
            "Epoch 228/250\n",
            "Epoch 229/250\n",
            "Epoch 230/250\n",
            "Epoch 231/250\n",
            "Epoch 232/250\n",
            "Epoch 233/250\n",
            "Epoch 234/250\n",
            "Epoch 235/250\n",
            "Epoch 236/250\n",
            "Epoch 237/250\n",
            "Epoch 238/250\n",
            "Epoch 239/250\n",
            "Epoch 240/250\n",
            "Epoch 241/250\n",
            "Epoch 242/250\n",
            "Epoch 243/250\n",
            "Epoch 244/250\n",
            "Epoch 245/250\n",
            "Epoch 246/250\n",
            "Epoch 247/250\n",
            "Epoch 248/250\n",
            "Epoch 249/250\n",
            "Epoch 250/250\n",
            "[0.0038328822510801767, 0.003788328121446039, 0.0037431556733588784, 0.003696555172871441, 0.0036526640205214555, 0.0036075769787543713, 0.0035622686543182965, 0.003520905907737882, 0.003475864440177197, 0.0034354598342215634, 0.003392940338224717, 0.0033562041597959657, 0.003315894041618664, 0.003279161417312478, 0.0032404330070024212, 0.003206218601327781, 0.003169178663961351, 0.003135837157380227, 0.0031037545065527366, 0.003076360057018799, 0.003043449026655797, 0.0030141007452862993, 0.0029856265962685214, 0.0029555648612071116, 0.0029307918635847635, 0.0029062364743724805, 0.0028803018038692676, 0.002852887526520243, 0.0028286712142090273, 0.00280267569836076, 0.002778494067183913, 0.002754807570039137, 0.0027293570735172864, 0.0027046934403819308, 0.0026817108413042952, 0.00265931191356623, 0.0026389214137917784, 0.0026171420526490906, 0.0025990516283298463, 0.002577802774466608, 0.0025596625530947695, 0.0025440804228679913, 0.0025257679684827588, 0.0025117188675082436, 0.002498194565741371, 0.0024831966650098155, 0.002469675124252904, 0.0024565799857094272, 0.0024429140612483025, 0.0024336602636634216, 0.0024196030221216073, 0.002405738493121446, 0.0023948028492294764, 0.0023840700242175085, 0.0023727501353427564, 0.00236088811466683, 0.002346828276903866, 0.002336373027482125, 0.002323834444545039, 0.002310668386212767, 0.002300766760219722, 0.002289836101986672, 0.002279023237985699, 0.002268604556796009, 0.002258514353928909, 0.002249328381292624, 0.0022379342290109287, 0.0022301890974498638, 0.0022216764130931536, 0.0022120847819653683, 0.002204267718493258, 0.002196336133175925, 0.0021881413344106717, 0.0021821412042029985, 0.0021744762434619883, 0.0021690863437661433, 0.002161771426887409, 0.00215435495438505, 0.0021497484362475814, 0.0021443744168774177, 0.0021383508829374426, 0.0021335942730239536, 0.002129064698503714, 0.002124842194644692, 0.0021195745267841505, 0.0021148287546587045, 0.002110649578562474, 0.002104986990593612, 0.0020987557408880426, 0.0020930891799140873, 0.002087939581642412, 0.0020803470742893, 0.0020735801089146774, 0.0020664192876485112, 0.002059130790137333, 0.002052843978428643, 0.002046949534196424, 0.002041043336269314, 0.002033856242350792, 0.0020293773446427702, 0.002024415562558732, 0.002020613306316815, 0.0020160679173864184, 0.002012569192567304, 0.0020088576382136644, 0.0020054534543305635, 0.002000585273354735, 0.0019967303011719493, 0.0019956954348764326, 0.0019934016532906795, 0.0019912096968379943, 0.0019877064700948594, 0.0019858371430251016, 0.001984405022999059, 0.001982362248794469, 0.0019799303465425017, 0.0019794617009829714, 0.0019760375553274263, 0.0019762400829033354, 0.0019740879048750688, 0.0019731861124555133, 0.001970311340803629, 0.0019700011625443693, 0.001968689859296157, 0.001966886034184327, 0.001966630736978291, 0.0019650014742494445, 0.001964723549944829, 0.0019634364632098644, 0.0019612461424190295, 0.0019615418607258498, 0.0019610577601020876, 0.0019597274200250842, 0.001958668557820697, 0.0019604746267182505, 0.0019575704291003616, 0.0019578218702482036, 0.0019596813886626264, 0.001957037253836893, 0.0019562072886077507, 0.0019560537437087596, 0.001954188612906356, 0.0019538369169033484, 0.0019537745491223046, 0.0019539842141800684, 0.0019530382089223287, 0.0019519010550219174, 0.0019523825211509994, 0.0019515194168918208, 0.001952070831087286, 0.0019510420959987188, 0.0019507503708969104, 0.0019490411350945836, 0.0019497459682053355, 0.0019487383175794393, 0.001947853076335502, 0.0019487498464173377, 0.0019473968824312159, 0.001948765346134022, 0.001948015288062836, 0.0019467763478344638, 0.001946460171794034, 0.0019477189265480733, 0.0019465974307742362, 0.0019457732809954175, 0.0019462643075334632, 0.0019462933013275198, 0.0019438718153231833, 0.0019441891618957531, 0.0019444132821217655, 0.0019445549335211651, 0.0019439367809201077, 0.001943074878556101, 0.0019440611746783059, 0.0019430498598934445, 0.0019420809303856877, 0.0019422169284656916, 0.001942753506883911, 0.0019426017044937094, 0.001940600483648513, 0.001942142228634186, 0.001940784322578443, 0.0019420655880157398, 0.0019408667334631835, 0.0019408842941031677, 0.0019414398338662706, 0.0019411556215395461, 0.0019397336126360447, 0.001939201748772571, 0.001942012386213665, 0.0019397659505798256, 0.0019401663937712232, 0.00193990132830969, 0.0019405192268170314, 0.0019386390321909292, 0.0019392650351183463, 0.0019381315926872364, 0.0019383153146702676, 0.0019377206912536396, 0.0019384511601877267, 0.0019378561189517243, 0.0019385215579680929, 0.0019382622898832713, 0.001936991325873014, 0.0019363620851112352, 0.0019360516256478415, 0.0019360252493380071, 0.0019368329340566511, 0.0019367259893073067, 0.0019363882881270288, 0.001936211138028124, 0.0019349404164168932, 0.0019350315084825504, 0.0019354836156243059, 0.0019356714812485867, 0.001936037139116561, 0.001935802866836593, 0.0019353910149436564, 0.0019352124455346636, 0.0019351291368166878, 0.0019340668762417416, 0.0019331008013014652, 0.0019337207415953414, 0.0019336710694632983, 0.0019346681672263227, 0.0019320934100850531, 0.0019336684147686991, 0.0019337429604429292, 0.001933363117447727, 0.0019325654758097918, 0.0019316833729953527, 0.001932201052263175, 0.0019325317265295751, 0.0019326017984533555, 0.0019315628198796212, 0.001932238719796073, 0.0019320713220053612, 0.0019315451066770919, 0.001931418073640022, 0.0019317384953844493, 0.0019314316660591047, 0.0019298662510211474, 0.0019299940474025192, 0.0019308069357265756, 0.0019311276046542205, 0.0019295449266592934, 0.0019305640800758243, 0.00193016940396126, 0.001929820215406075, 0.0019290183796270932]\n"
          ],
          "name": "stdout"
        },
        {
          "output_type": "execute_result",
          "data": {
            "text/plain": [
              "[Text(0,0.5,u'loss'),\n",
              " (1, 250),\n",
              " Text(0.5,0,u'epoch'),\n",
              " Text(0.5,1,u'Training Loss')]"
            ]
          },
          "metadata": {
            "tags": []
          },
          "execution_count": 19
        },
        {
          "output_type": "display_data",
          "data": {
            "image/png": "[encoded data removed]",
            "text/plain": [
              "<matplotlib.figure.Figure at 0x7fb23e95ff90>"
            ]
          },
          "metadata": {
            "tags": []
          }
        }
      ]
    },
    {
      "metadata": {
        "id": "5P4XFNtOoepn",
        "colab_type": "code",
        "colab": {
          "base_uri": "https://localhost:8080/",
          "height": 34
        },
        "outputId": "ba615bd4-665d-4d8e-c623-4ca7218453a4"
      },
      "cell_type": "code",
      "source": [
        "print(history.history.keys())"
      ],
      "execution_count": 35,
      "outputs": [
        {
          "output_type": "stream",
          "text": [
            "['mean_squared_error', 'loss', 'r2_keras']\n"
          ],
          "name": "stdout"
        }
      ]
    },
    {
      "metadata": {
        "id": "Nt365gb2ta9_",
        "colab_type": "code",
        "colab": {
          "base_uri": "https://localhost:8080/",
          "height": 444
        },
        "outputId": "efdc0949-a7e3-438f-b003-49b33fb033b2"
      },
      "cell_type": "code",
      "source": [
        "N = nb_epoch\n",
        "x =np.linspace(1, N,N)\n",
        "y = history.history['r2_keras']\n",
        "ax = plt.axes()\n",
        "ax.plot(x, y)\n",
        "ax.set(xlim=(1,N), \n",
        "       xlabel='epoch', ylabel='R',\n",
        "       title='Training R squre')\n"
      ],
      "execution_count": 20,
      "outputs": [
        {
          "output_type": "execute_result",
          "data": {
            "text/plain": [
              "[Text(0,0.5,u'R'),\n",
              " (1, 250),\n",
              " Text(0.5,0,u'epoch'),\n",
              " Text(0.5,1,u'Training R squre')]"
            ]
          },
          "metadata": {
            "tags": []
          },
          "execution_count": 20
        },
        {
          "output_type": "display_data",
          "data": {
            "image/png": "[encoded data removed]",
            "text/plain": [
              "<matplotlib.figure.Figure at 0x7fb23eaf4f90>"
            ]
          },
          "metadata": {
            "tags": []
          }
        }
      ]
    },
    {
      "metadata": {
        "id": "N2vtDxHFtsAP",
        "colab_type": "code",
        "colab": {}
      },
      "cell_type": "code",
      "source": [
        ""
      ],
      "execution_count": 0,
      "outputs": []
    }
  ]
}