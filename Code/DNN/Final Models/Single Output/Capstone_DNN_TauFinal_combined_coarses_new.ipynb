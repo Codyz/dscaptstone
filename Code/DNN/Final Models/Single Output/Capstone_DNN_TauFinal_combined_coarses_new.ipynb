{
 "cells": [
  {
   "cell_type": "code",
   "execution_count": 1,
   "metadata": {},
   "outputs": [],
   "source": [
    "%%capture\n",
    "import tensorflow as tf\n",
    "from tensorflow import keras\n",
    "from scipy.io import loadmat\n",
    "from tensorflow.keras import regularizers\n",
    "import os\n",
    "import time\n",
    "import numpy as np\n",
    "import gc\n",
    "import shutil\n",
    "from tensorflow.keras.models import Sequential, Model\n",
    "from tensorflow.keras import Input\n",
    "from tensorflow.keras.models import model_from_json\n",
    "from tqdm import tqdm_notebook\n",
    "import matplotlib.pyplot as plt\n",
    "from tensorflow.keras import backend as K\n",
    "from sklearn.metrics import r2_score\n",
    "from sklearn import preprocessing"
   ]
  },
  {
   "cell_type": "code",
   "execution_count": 2,
   "metadata": {},
   "outputs": [],
   "source": [
    "path_to_folder = \"/home/pk2573/Capstone_Data\""
   ]
  },
  {
   "cell_type": "markdown",
   "metadata": {},
   "source": [
    "## 1. Define Helper Functions "
   ]
  },
  {
   "cell_type": "code",
   "execution_count": 3,
   "metadata": {},
   "outputs": [],
   "source": [
    "def scale(x):\n",
    "    \"\"\"\n",
    "    Scales the input data by subtracting the mean and dividing by the standard deviation \n",
    "    \n",
    "    Inputs: x: a n-dimensional tensor\n",
    "    \n",
    "    Returns: a n-dimensional tensor of same shape as x\n",
    "    \"\"\"\n",
    "\n",
    "    return (x - np.mean(x)) / np.std(x)"
   ]
  },
  {
   "cell_type": "code",
   "execution_count": 4,
   "metadata": {},
   "outputs": [],
   "source": [
    "def preprocess(x):\n",
    "    \"\"\"\n",
    "    Cuts the input 75% along the z-axis to remove laminar layers\n",
    "    \n",
    "    Inputs: x: a 3-dimensional tensor\n",
    "    \n",
    "    Returns: a 3-dimensional tensor of shape (length, width, 56)\n",
    "    \"\"\"\n",
    "    \n",
    "    return x[:,:,:int(0.75*x.shape[2])]"
   ]
  },
  {
   "cell_type": "code",
   "execution_count": 5,
   "metadata": {},
   "outputs": [],
   "source": [
    "def create_boxes(x, tau_12, tau_13, tau_23, num_files, coarse_folder):\n",
    "    \"\"\"\n",
    "    creates boxes of size 7x7x7x3\n",
    "    \n",
    "    Inputs: x: a 4-dimensional tensor\n",
    "                tau_12: a 3-dimensional tensor\n",
    "                tau_13: a 3-dimensional tensor\n",
    "                tau_23: a 3-dimensional tensor\n",
    "                num_files: # of files to save to disk \n",
    "                coarse_folder: coarse size to determine save location\n",
    "    \n",
    "    Returns: x: a tensor of shape (x.shape[0] * x.shape[1] * x.shape[2], 7, 7, 7, 3)\n",
    "                  y_tau_12: a tensor of shape (tau_12.shape[0] * tau_12.shape[1] * tau_12.shape[2],)\n",
    "                  y_tau_13: a tensor of shape (tau_13.shape[0] * tau_13.shape[1] * tau_13.shape[2],)\n",
    "                  y_tau_23: a tensor of shape (tau_23.shape[0] * tau_23.shape[1] * tau_23.shape[2],)\n",
    "    \"\"\"\n",
    "    sample = []\n",
    "    y_tau_12 = []\n",
    "    y_tau_13 = []\n",
    "    y_tau_23 = []\n",
    "    size = 3\n",
    "    counter = 1\n",
    "    \n",
    "    x_range = np.arange(size, x.shape[0] - size)\n",
    "    np.random.shuffle(x_range)\n",
    "    y_range = np.arange(size, x.shape[1] - size)\n",
    "    np.random.shuffle(y_range)\n",
    "    z_range = np.arange(size, x.shape[2] - size)\n",
    "    np.random.shuffle(z_range)\n",
    "    \n",
    "    for i in tqdm_notebook(x_range):\n",
    "        for j in y_range:\n",
    "            for k in z_range:\n",
    "                sample.append(x[i - size: i + size + 1, j - size: j + size + 1, k - size: k + size + 1, :])\n",
    "                y_tau_12.append(tau_12[i - size][j - size][k - size])\n",
    "                y_tau_13.append(tau_13[i - size][j - size][k - size])\n",
    "                y_tau_23.append(tau_23[i - size][j - size][k - size])\n",
    "                \n",
    "                if len(sample) == int(((x.shape[0] - size * 2) * (x.shape[1] - size * 2) * (x.shape[2] - size * 2)) / num_files):\n",
    "                    os.chdir(path + \"/Data_\" + coarse_folder + \"/Data\")\n",
    "                    np.save(str(counter), np.array(sample))\n",
    "                    os.chdir(path + \"/Data_\" + coarse_folder + \"/Labels\")\n",
    "                    np.save(str(counter), np.array([y_tau_12, y_tau_13, y_tau_23]))\n",
    "                    \n",
    "                    del sample\n",
    "                    del y_tau_13\n",
    "                    del y_tau_12\n",
    "                    del y_tau_23\n",
    "                    gc.collect()\n",
    "                    sample = []\n",
    "                    y_tau_23 = []\n",
    "                    y_tau_12 = []\n",
    "                    y_tau_13 = []\n",
    "                    \n",
    "                    counter += 1"
   ]
  },
  {
   "cell_type": "markdown",
   "metadata": {},
   "source": [
    "## 2. Generate Datasets"
   ]
  },
  {
   "cell_type": "code",
   "execution_count": 6,
   "metadata": {},
   "outputs": [
    {
     "data": {
      "application/vnd.jupyter.widget-view+json": {
       "model_id": "f977e6212761468d93d63d6512cbd6fc",
       "version_major": 2,
       "version_minor": 0
      },
      "text/plain": [
       "HBox(children=(IntProgress(value=0, max=146), HTML(value='')))"
      ]
     },
     "metadata": {},
     "output_type": "display_data"
    },
    {
     "name": "stdout",
     "output_type": "stream",
     "text": [
      "\n"
     ]
    },
    {
     "data": {
      "application/vnd.jupyter.widget-view+json": {
       "model_id": "5bf8ce7cfaee4637af2d6c580ee3c0fa",
       "version_major": 2,
       "version_minor": 0
      },
      "text/plain": [
       "HBox(children=(IntProgress(value=0, max=71), HTML(value='')))"
      ]
     },
     "metadata": {},
     "output_type": "display_data"
    },
    {
     "name": "stdout",
     "output_type": "stream",
     "text": [
      "\n"
     ]
    },
    {
     "data": {
      "application/vnd.jupyter.widget-view+json": {
       "model_id": "cc8619e680ef4ffd9d4027dc061ff52b",
       "version_major": 2,
       "version_minor": 0
      },
      "text/plain": [
       "HBox(children=(IntProgress(value=0, max=46), HTML(value='')))"
      ]
     },
     "metadata": {},
     "output_type": "display_data"
    },
    {
     "name": "stdout",
     "output_type": "stream",
     "text": [
      "\n"
     ]
    },
    {
     "data": {
      "application/vnd.jupyter.widget-view+json": {
       "model_id": "9ab9aa19c30442a5983933e12564def3",
       "version_major": 2,
       "version_minor": 0
      },
      "text/plain": [
       "HBox(children=(IntProgress(value=0, max=296), HTML(value='')))"
      ]
     },
     "metadata": {},
     "output_type": "display_data"
    },
    {
     "name": "stdout",
     "output_type": "stream",
     "text": [
      "\n"
     ]
    }
   ],
   "source": [
    "path = os.path.dirname(path_to_folder)\n",
    "for coarse_folder in os.listdir(path_to_folder + \"/Re1243Fr20\")[1:]:\n",
    "    os.chdir(path_to_folder + \"/Re1243Fr20/\" + coarse_folder)\n",
    "        \n",
    "    # Load datasets\n",
    "    u = loadmat('u_F_xyz_T1.mat')\n",
    "    u = preprocess(scale(u[list(u.keys())[-1]]))\n",
    "    v = loadmat('v_F_xyz_T1.mat')\n",
    "    v = preprocess(scale(v[list(v.keys())[-1]]))\n",
    "    w = loadmat('w_F_xyz_T1.mat')\n",
    "    w = preprocess(scale(w[list(w.keys())[-1]]))\n",
    "    tau_12 = loadmat('tau12_F_xyz_T1.mat')\n",
    "    tau_12 = preprocess(scale(tau_12[list(tau_12.keys())[-1]]))\n",
    "    tau_13 = loadmat('tau13_F_xyz_T1.mat')\n",
    "    tau_13 = preprocess(scale(tau_13[list(tau_13.keys())[-1]]))\n",
    "    tau_23 = loadmat('tau23_F_xyz_T1.mat')\n",
    "    tau_23 = preprocess(scale(tau_23[list(tau_23.keys())[-1]]))\n",
    "    x = np.array([u, v, w])\n",
    "    x = np.transpose(x, [1, 2, 3, 0])\n",
    "    x = np.pad(x, ((3,3), (3,3), (3,3), (0,0)), 'constant', constant_values = 0)\n",
    "    \n",
    "    # Create directories to save independent and dependent variables\n",
    "    if not os.path.exists(path + \"/Data_\" + coarse_folder):\n",
    "        os.mkdir(path + \"/Data_\" + coarse_folder)\n",
    "        os.mkdir(path + \"/Data_\" + coarse_folder + \"/Data\")\n",
    "        os.mkdir(path + \"/Data_\" + coarse_folder + \"/Labels\")\n",
    "    else:\n",
    "        shutil.rmtree(path + \"/Data_\" + coarse_folder)\n",
    "        os.mkdir(path + \"/Data_\" + coarse_folder)\n",
    "        os.mkdir(path + \"/Data_\" + coarse_folder + \"/Data\")\n",
    "        os.mkdir(path + \"/Data_\" + coarse_folder + \"/Labels\")\n",
    "        \n",
    "     # Generate boxes and save to disk \n",
    "    create_boxes(x, tau_12, tau_13, tau_23, 25, coarse_folder)\n",
    "    del u \n",
    "    del v\n",
    "    del w\n",
    "    del tau_12\n",
    "    del tau_13\n",
    "    del tau_23\n",
    "    gc.collect()"
   ]
  },
  {
   "cell_type": "markdown",
   "metadata": {},
   "source": [
    "## 3. Build Model"
   ]
  },
  {
   "cell_type": "code",
   "execution_count": 7,
   "metadata": {},
   "outputs": [],
   "source": [
    "class DNN(object):\n",
    "    \n",
    "    def __init__(self, activation, initializer, regularizer, input_shape):\n",
    "        self.activation = activation\n",
    "        self.initializer = initializer\n",
    "        self.regularizer = regularizer\n",
    "        self.input_shape = input_shape\n",
    "        \n",
    "        pass \n",
    "    \n",
    "    def create_model(self):\n",
    "        \"\"\"\n",
    "        Creates functional keras model\n",
    "\n",
    "        Inputs: self\n",
    "\n",
    "        Returns: a sequential keras model with the parameters defined in __init__\n",
    "        \"\"\"\n",
    "        \n",
    "        data = Input(shape = self.input_shape, name = 'data')\n",
    "        \n",
    "        x = tf.keras.layers.Flatten()(data)\n",
    "        x = tf.keras.layers.Dense(128, \n",
    "                                  activation = self.activation,\n",
    "                                  kernel_regularizer = self.regularizer, \n",
    "                                  kernel_initializer = self.initializer)(x)\n",
    "        x = tf.keras.layers.Dropout(0.2)(x)\n",
    "        x = tf.keras.layers.Dense(64, \n",
    "                                  activation = self.activation,\n",
    "                                  kernel_regularizer = self.regularizer, \n",
    "                                  kernel_initializer = self.initializer)(x)\n",
    "        x = tf.keras.layers.Dropout(0.2)(x)\n",
    "        x = tf.keras.layers.Dense(32, \n",
    "                                  activation = self.activation,\n",
    "                                  kernel_regularizer = self.regularizer, \n",
    "                                  kernel_initializer = self.initializer)(x)\n",
    "\n",
    "        tau_12 = tf.keras.layers.Dense(1, name = \"tau_12\")(x)\n",
    "        tau_13 = tf.keras.layers.Dense(1, name = \"tau_13\")(x)\n",
    "        tau_23 = tf.keras.layers.Dense(1, name = \"tau_23\")(x)\n",
    "        \n",
    "        model = Model(data, [tau_12, tau_13, tau_23])\n",
    "        \n",
    "        return model"
   ]
  },
  {
   "cell_type": "markdown",
   "metadata": {},
   "source": [
    "## 4. Run model"
   ]
  },
  {
   "cell_type": "code",
   "execution_count": 8,
   "metadata": {},
   "outputs": [
    {
     "name": "stdout",
     "output_type": "stream",
     "text": [
      "Final Dataset Correlation for Tau_12: 0.9069\n",
      "Final Dataset Correlation for Tau_13: 0.9058\n",
      "Final Dataset Correlation for Tau_23: 0.9107\n",
      "Saved model to disk\n",
      "\n",
      "CPU times: user 3h 17min 54s, sys: 2h 20min 41s, total: 5h 38min 36s\n",
      "Wall time: 4h 20min 56s\n"
     ]
    },
    {
     "data": {
      "image/png": "[encoded data removed]",
      "text/plain": [
       "<Figure size 1440x576 with 3 Axes>"
      ]
     },
     "metadata": {
      "needs_background": "light"
     },
     "output_type": "display_data"
    }
   ],
   "source": [
    "%%time\n",
    "activation = tf.nn.relu\n",
    "size = 3\n",
    "num_files = 25\n",
    "initializer = None\n",
    "regularizer = None\n",
    "epochs = 50\n",
    "batch_size = 1000\n",
    "val_split = 0.2\n",
    "\n",
    "fig = plt.figure(figsize = (20, 6))\n",
    "input_shape = (2 * size + 1, 2 * size + 1, 2 * size + 1, 3)\n",
    "\n",
    "# Create network instance and compile model\n",
    "neural_net = DNN(activation, initializer, regularizer, input_shape)\n",
    "model = neural_net.create_model()\n",
    "model.compile(optimizer = tf.train.AdamOptimizer(), loss = {\"tau_12\": \"mse\", \n",
    "                                                                                                \"tau_13\": 'mse', \n",
    "                                                                                                \"tau_23\": \"mse\"})\n",
    "correlation = {\"Tau_12\":[], \"Tau_13\": [], \"Tau_23\": []}\n",
    "R2 = {\"Tau_12\":[], \"Tau_13\": [], \"Tau_23\": []}\n",
    "\n",
    "for i in range(epochs):\n",
    "    files_range = np.arange(1, num_files + 1)\n",
    "    np.random.shuffle(files_range)\n",
    "    for j in files_range:\n",
    "\n",
    "        # Load shards\n",
    "        x = []\n",
    "        y_tau_12 = []\n",
    "        y_tau_13 = []\n",
    "        y_tau_23 = []\n",
    "        for coarse_folder in os.listdir(path_to_folder + \"/Re1243Fr20\")[1:]:\n",
    "            x.append(np.load(path + \"/Data_\" + coarse_folder + \"/Data/\" + str(j) + \".npy\"))\n",
    "            y_tau_12.append(np.load(path + \"/Data_\" + coarse_folder + \"/Labels/\" + str(j) + \".npy\")[0])\n",
    "            y_tau_13.append(np.load(path + \"/Data_\" + coarse_folder + \"/Labels/\" + str(j) + \".npy\")[1])\n",
    "            y_tau_23.append(np.load(path + \"/Data_\" + coarse_folder + \"/Labels/\" + str(j) + \".npy\")[2])\n",
    "        \n",
    "        x = np.concatenate(x, axis = 0)\n",
    "        y_tau_12 = np.concatenate(y_tau_12, axis = 0)\n",
    "        y_tau_13 = np.concatenate(y_tau_13, axis = 0)\n",
    "        y_tau_23 = np.concatenate(y_tau_23, axis = 0)\n",
    "\n",
    "        # Create train and test data\n",
    "        mask =  np.random.rand(x.shape[0]) < 0.80\n",
    "        x_train, x_test = x[mask,:,:,:,:], x[~mask,:,:,:,:]\n",
    "        tau_12_train, tau_12_test = y_tau_12[mask], y_tau_12[~mask]\n",
    "        tau_13_train, tau_13_test = y_tau_13[mask], y_tau_13[~mask]\n",
    "        tau_23_train, tau_23_test = y_tau_23[mask], y_tau_23[~mask]\n",
    "\n",
    "        del y_tau_12\n",
    "        del y_tau_13\n",
    "        del y_tau_23\n",
    "        gc.collect()\n",
    "\n",
    "        y_train = [tau_12_train, tau_13_train, tau_23_train]\n",
    "        y_test = [tau_12_test, tau_13_test, tau_23_test]\n",
    "\n",
    "        # Fit model on shard\n",
    "        model.fit(x_train, {\"tau_12\": y_train[0], \n",
    "                                     \"tau_13\": y_train[1], \n",
    "                                     \"tau_23\": y_train[2]}, \n",
    "                        epochs = 1, \n",
    "                        batch_size = batch_size, \n",
    "                        validation_split = val_split,\n",
    "                        verbose = 0)\n",
    "        del x_train\n",
    "        del y_train\n",
    "        gc.collect()\n",
    "\n",
    "        # Generate predictions on shard\n",
    "        preds = model.predict(x_test)\n",
    "        temp_1 = {\"Tau_12\":[], \"Tau_13\": [], \"Tau_23\": []}\n",
    "        temp_2 = {\"Tau_12\":[], \"Tau_13\": [], \"Tau_23\": []}\n",
    "\n",
    "        for l in range(len(preds)):\n",
    "            temp_1[list(temp_1.keys())[l]].append(r2_score(y_test[l], preds[l].flatten()))\n",
    "            temp_2[list(temp_2.keys())[l]].append(np.corrcoef(y_test[l], preds[l].flatten())[0,1])\n",
    "        del x_test\n",
    "        del x\n",
    "        gc.collect()\n",
    "\n",
    "    #Get average test corr and R2 for the epoch\n",
    "    for n in range(len(temp_1)):\n",
    "        correlation[list(correlation.keys())[n]].append(np.mean(temp_1[list(temp_1.keys())[n]]))\n",
    "        R2[list(R2.keys())[n]].append(np.mean(temp_2[list(temp_2.keys())[n]]))\n",
    "\n",
    "# Plot R2 and corr evolution\n",
    "for k in range(len(temp_1)):\n",
    "    fig.add_subplot(1, 3, k + 1)\n",
    "    plt.plot(np.arange(1, epochs + 1), np.array(R2[list(R2.keys())[k]]), label = 'R2')\n",
    "    plt.plot(np.arange(1, epochs + 1), np.array(correlation[list(correlation.keys())[k]]), label = 'Correlation')\n",
    "    plt.xlabel('Epoch')\n",
    "    plt.ylabel(\"Correlation\")\n",
    "    plt.title(list(correlation.keys())[k])\n",
    "    plt.legend()\n",
    "\n",
    "for m in range(len(preds)):\n",
    "    print(\"Final Dataset Correlation for \" + list(correlation.keys())[m] + \": %.4f\" % np.corrcoef(preds[m].flatten(), y_test[m])[0, 1])\n",
    "del preds\n",
    "del y_test\n",
    "del temp_1\n",
    "del temp_2 \n",
    "gc.collect()\n",
    "\n",
    "# Save model to disk\n",
    "os.chdir(path)\n",
    "model_name_json = \"combined_coarses_model_tau.json\"\n",
    "model_name_h5 = \"combined_coarses_model_tau.h5\"\n",
    "model_json = model.to_json()\n",
    "with open(model_name_json, \"w\") as json_file:\n",
    "    json_file.write(model_json)\n",
    "model.save_weights(model_name_h5)\n",
    "print(\"Saved model to disk\\n\")"
   ]
  }
 ],
 "metadata": {
  "kernelspec": {
   "display_name": "Python 3",
   "language": "python",
   "name": "python3"
  },
  "language_info": {
   "codemirror_mode": {
    "name": "ipython",
    "version": 3
   },
   "file_extension": ".py",
   "mimetype": "text/x-python",
   "name": "python",
   "nbconvert_exporter": "python",
   "pygments_lexer": "ipython3",
   "version": "3.6.6"
  }
 },
 "nbformat": 4,
 "nbformat_minor": 2
}
