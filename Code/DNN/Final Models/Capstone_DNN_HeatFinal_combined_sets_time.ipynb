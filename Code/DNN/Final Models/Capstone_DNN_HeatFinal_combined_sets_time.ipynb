{
 "cells": [
  {
   "cell_type": "code",
   "execution_count": 1,
   "metadata": {},
   "outputs": [],
   "source": [
    "%%capture\n",
    "import tensorflow as tf\n",
    "from tensorflow import keras\n",
    "from scipy.io import loadmat\n",
    "from tensorflow.keras import regularizers\n",
    "import os\n",
    "import time\n",
    "import numpy as np\n",
    "import gc\n",
    "import shutil\n",
    "from tensorflow.keras.models import model_from_json\n",
    "!pip install tqdm\n",
    "!pip install h5py\n",
    "from tqdm import tqdm_notebook\n",
    "import matplotlib.pyplot as plt\n",
    "from tensorflow.keras import backend as K\n",
    "from sklearn.metrics import r2_score\n",
    "from sklearn import preprocessing"
   ]
  },
  {
   "cell_type": "code",
   "execution_count": 2,
   "metadata": {},
   "outputs": [],
   "source": [
    "def scale(x):\n",
    "\n",
    "    return (x - np.mean(x)) / np.std(x)"
   ]
  },
  {
   "cell_type": "code",
   "execution_count": 3,
   "metadata": {},
   "outputs": [],
   "source": [
    "def preprocess(x):\n",
    "    \n",
    "    return x[:,:,:56]"
   ]
  },
  {
   "cell_type": "code",
   "execution_count": 4,
   "metadata": {},
   "outputs": [],
   "source": [
    "path = \"/home/pk2573/Capstone_Data/\""
   ]
  },
  {
   "cell_type": "code",
   "execution_count": 5,
   "metadata": {},
   "outputs": [],
   "source": [
    "sets = [\"Re1243Fr20\", \"Re309Fr2\"]\n",
    "timesteps = [1,2]\n",
    "for data in sets:\n",
    "    for time in timesteps:\n",
    "        os.chdir(path + data + \"/coarse8\")\n",
    "        u = preprocess(scale(loadmat(\"u_F_xyz_T\" + str(time) + \".mat\")[\"u_F\"]))\n",
    "        v = preprocess(scale(loadmat(\"v_F_xyz_T\" + str(time) + \".mat\")[\"v_F\"]))\n",
    "        w = preprocess(scale(loadmat(\"w_F_xyz_T\" + str(time) + \".mat\")[\"w_F\"]))\n",
    "        x = np.array([u, v, w])\n",
    "        x = np.transpose(x, [1, 2, 3, 0])\n",
    "\n",
    "        if data == \"Re1243Fr20\" and time == 1:\n",
    "            Re1243Fr20_heat1_T1 = preprocess(scale(loadmat(\"Heat1_F_xyz_T\" + str(time) + \".mat\")[\"Heat1\"]))\n",
    "            Re1243Fr20_heat2_T1 = preprocess(scale(loadmat(\"Heat2_F_xyz_T\" + str(time) + \".mat\")[\"Heat2\"]))\n",
    "            Re1243Fr20_heat3_T1 = preprocess(scale(loadmat(\"Heat3_F_xyz_T\" + str(time) + \".mat\")[\"Heat3\"]))\n",
    "            Re1243Fr20_x_T1 = np.pad(x, ((3,3), (3,3), (3,3), (0,0)), 'constant', constant_values = 0)\n",
    "        \n",
    "        if data == \"Re1243Fr20\" and time == 2:\n",
    "            Re1243Fr20_heat1_T2 = preprocess(scale(loadmat(\"Heat1_F_xyz_T\" + str(time) + \".mat\")[\"Heat1\"]))\n",
    "            Re1243Fr20_heat2_T2 = preprocess(scale(loadmat(\"Heat2_F_xyz_T\" + str(time) + \".mat\")[\"Heat2\"]))\n",
    "            Re1243Fr20_heat3_T2 = preprocess(scale(loadmat(\"Heat3_F_xyz_T\" + str(time) + \".mat\")[\"Heat3\"]))\n",
    "            Re1243Fr20_x_T2 = np.pad(x, ((3,3), (3,3), (3,3), (0,0)), 'constant', constant_values = 0)\n",
    "        \n",
    "        if data == \"Re309Fr2\" and time == 1:\n",
    "            Re309Fr2_heat1_T1 = preprocess(scale(loadmat(\"Heat1_F_xyz_T\" + str(time) + \".mat\")[\"Heat1\"]))\n",
    "            Re309Fr2_heat2_T1 = preprocess(scale(loadmat(\"Heat2_F_xyz_T\" + str(time) + \".mat\")[\"Heat2\"]))\n",
    "            Re309Fr2_heat3_T1 = preprocess(scale(loadmat(\"Heat3_F_xyz_T\" + str(time) + \".mat\")[\"Heat3\"]))\n",
    "            Re309Fr2_x_T1 = np.pad(x, ((3,3), (3,3), (3,3), (0,0)), 'constant', constant_values = 0)\n",
    "        \n",
    "        if data == \"Re309Fr2\" and time == 2:\n",
    "            Re309Fr2_heat1_T2 = preprocess(scale(loadmat(\"Heat1_F_xyz_T\" + str(time) + \".mat\")[\"Heat1\"]))\n",
    "            Re309Fr2_heat2_T2 = preprocess(scale(loadmat(\"Heat2_F_xyz_T\" + str(time) + \".mat\")[\"Heat2\"]))\n",
    "            Re309Fr2_heat3_T2 = preprocess(scale(loadmat(\"Heat3_F_xyz_T\" + str(time) + \".mat\")[\"Heat3\"]))\n",
    "            Re309Fr2_x_T2 = np.pad(x, ((3,3), (3,3), (3,3), (0,0)), 'constant', constant_values = 0)"
   ]
  },
  {
   "cell_type": "markdown",
   "metadata": {},
   "source": [
    "#### Switches"
   ]
  },
  {
   "cell_type": "code",
   "execution_count": 6,
   "metadata": {},
   "outputs": [],
   "source": [
    "all_taus = False"
   ]
  },
  {
   "cell_type": "markdown",
   "metadata": {},
   "source": [
    "### 1. Generate Input Dataset"
   ]
  },
  {
   "cell_type": "code",
   "execution_count": 7,
   "metadata": {},
   "outputs": [],
   "source": [
    "path = \"/home/pk2573/\""
   ]
  },
  {
   "cell_type": "code",
   "execution_count": 8,
   "metadata": {},
   "outputs": [
    {
     "name": "stdout",
     "output_type": "stream",
     "text": [
      "Input Shapes\n",
      "(152, 102, 62, 3)\n",
      "(152, 102, 62, 3)\n",
      "(152, 102, 62, 3)\n",
      "(152, 102, 62, 3)\n",
      "\n",
      "Output Shapes\n",
      "(146, 96, 56)\n",
      "(146, 96, 56)\n",
      "(146, 96, 56)\n",
      "(146, 96, 56)\n",
      "(146, 96, 56)\n",
      "(146, 96, 56)\n",
      "(146, 96, 56)\n",
      "(146, 96, 56)\n",
      "(146, 96, 56)\n",
      "(146, 96, 56)\n",
      "(146, 96, 56)\n",
      "(146, 96, 56)\n"
     ]
    }
   ],
   "source": [
    "print(\"Input Shapes\")\n",
    "print(Re309Fr2_x_T2.shape)\n",
    "print(Re309Fr2_x_T1.shape)\n",
    "print(Re1243Fr20_x_T2.shape)\n",
    "print(Re1243Fr20_x_T1.shape)\n",
    "print(\"\\nOutput Shapes\")\n",
    "print(Re309Fr2_heat1_T2.shape)\n",
    "print(Re309Fr2_heat1_T1.shape)\n",
    "print(Re309Fr2_heat2_T2.shape)\n",
    "print(Re309Fr2_heat2_T1.shape)\n",
    "print(Re309Fr2_heat3_T2.shape)\n",
    "print(Re309Fr2_heat3_T1.shape)\n",
    "\n",
    "print(Re1243Fr20_heat1_T2.shape)\n",
    "print(Re1243Fr20_heat1_T1.shape)\n",
    "print(Re1243Fr20_heat2_T2.shape)\n",
    "print(Re1243Fr20_heat2_T1.shape)\n",
    "print(Re1243Fr20_heat3_T2.shape)\n",
    "print(Re1243Fr20_heat3_T1.shape)"
   ]
  },
  {
   "cell_type": "code",
   "execution_count": 9,
   "metadata": {},
   "outputs": [],
   "source": [
    "if not os.path.exists(path + \"/Data\"):\n",
    "    os.mkdir(path + \"/Data\")\n",
    "    os.mkdir(path + \"/Data/Data\")\n",
    "    os.mkdir(path + \"/Data/Labels\")\n",
    "    os.mkdir(path + \"/Data/Labels/Heat_3\")\n",
    "    os.mkdir(path + \"/Data/Labels/Heat_2\")\n",
    "    os.mkdir(path + \"/Data/Labels/Heat_1\")\n",
    "else:\n",
    "    shutil.rmtree(path + \"/Data\")\n",
    "    os.mkdir(path + \"/Data\")\n",
    "    os.mkdir(path + \"/Data/Data\")\n",
    "    os.mkdir(path + \"/Data/Labels\")\n",
    "    os.mkdir(path + \"/Data/Labels/Heat_3\")\n",
    "    os.mkdir(path + \"/Data/Labels/Heat_2\")\n",
    "    os.mkdir(path + \"/Data/Labels/Heat_1\")"
   ]
  },
  {
   "cell_type": "code",
   "execution_count": 10,
   "metadata": {},
   "outputs": [
    {
     "data": {
      "application/vnd.jupyter.widget-view+json": {
       "model_id": "75d37e7952fb4790a1efde5217e23d17",
       "version_major": 2,
       "version_minor": 0
      },
      "text/plain": [
       "HBox(children=(IntProgress(value=0, max=146), HTML(value='')))"
      ]
     },
     "metadata": {},
     "output_type": "display_data"
    },
    {
     "name": "stdout",
     "output_type": "stream",
     "text": [
      "\n",
      "Saved data to disk\n",
      "\n"
     ]
    }
   ],
   "source": [
    "sample = []\n",
    "counter = 1\n",
    "size = 3\n",
    "heat_1 = []\n",
    "heat_2 = []\n",
    "heat_3 = []\n",
    "num_files = 40\n",
    "\n",
    "x_range = np.arange(size, Re1243Fr20_x_T1.shape[0] - size)\n",
    "np.random.shuffle(x_range)\n",
    "y_range = np.arange(size, Re1243Fr20_x_T1.shape[1] - size)\n",
    "np.random.shuffle(y_range)\n",
    "z_range = np.arange(size,Re1243Fr20_x_T1.shape[2] - size)\n",
    "np.random.shuffle(z_range)\n",
    "\n",
    "for i in tqdm_notebook(x_range):\n",
    "    for j in y_range:\n",
    "        for k in z_range:\n",
    "            sample.append(Re1243Fr20_x_T1[i - size: i + size + 1, j - size: j + size + 1, k - size: k + size + 1, :])\n",
    "            sample.append(Re1243Fr20_x_T2[i - size: i + size + 1, j - size: j + size + 1, k - size: k + size + 1, :])\n",
    "            sample.append(Re309Fr2_x_T1[i - size: i + size + 1, j - size: j + size + 1, k - size: k + size + 1, :])\n",
    "            sample.append(Re309Fr2_x_T2[i - size: i + size + 1, j - size: j + size + 1, k - size: k + size + 1, :])\n",
    "            \n",
    "            heat_1.append(Re1243Fr20_heat1_T1[i - size][j - size][k - size])\n",
    "            heat_1.append(Re1243Fr20_heat1_T2[i - size][j - size][k - size])\n",
    "            heat_1.append(Re309Fr2_heat1_T1[i - size][j - size][k - size])\n",
    "            heat_1.append(Re309Fr2_heat1_T2[i - size][j - size][k - size])\n",
    "            \n",
    "            heat_2.append(Re1243Fr20_heat2_T1[i - size][j - size][k - size])\n",
    "            heat_2.append(Re1243Fr20_heat2_T2[i - size][j - size][k - size])\n",
    "            heat_2.append(Re309Fr2_heat2_T1[i - size][j - size][k - size])\n",
    "            heat_2.append(Re309Fr2_heat2_T2[i - size][j - size][k - size])\n",
    "            \n",
    "            heat_3.append(Re1243Fr20_heat3_T1[i - size][j - size][k - size])\n",
    "            heat_3.append(Re1243Fr20_heat3_T2[i - size][j - size][k - size])\n",
    "            heat_3.append(Re309Fr2_heat3_T1[i - size][j - size][k - size])\n",
    "            heat_3.append(Re309Fr2_heat3_T2[i - size][j - size][k - size])\n",
    "\n",
    "            if len(sample) == 4* int(((Re1243Fr20_x_T1.shape[0] - size * 2) * (Re1243Fr20_x_T1.shape[1] - size * 2) * (Re1243Fr20_x_T1.shape[2] - size * 2)) / num_files):\n",
    "                os.chdir(path + \"/Data/Data\")\n",
    "                np.save(str(counter), np.array(sample))\n",
    "                os.chdir(path + \"/Data/Labels/Heat_3\")\n",
    "                np.save(str(counter), np.array(heat_3))\n",
    "                os.chdir(path + \"/Data/Labels/Heat_2\")\n",
    "                np.save(str(counter), np.array(heat_2))\n",
    "                os.chdir(path + \"/Data/Labels/Heat_1\")\n",
    "                np.save(str(counter), np.array(heat_1))\n",
    "\n",
    "                del sample\n",
    "                del heat_1\n",
    "                del heat_2\n",
    "                del heat_3\n",
    "                gc.collect()\n",
    "                sample = []\n",
    "                heat_1 = []\n",
    "                heat_2 = []\n",
    "                heat_3 = []\n",
    "\n",
    "                counter += 1\n",
    "                \n",
    "del Re309Fr2_x_T2\n",
    "del Re309Fr2_x_T1\n",
    "del Re1243Fr20_x_T2\n",
    "del Re1243Fr20_x_T1\n",
    "del Re309Fr2_heat1_T2\n",
    "del Re309Fr2_heat1_T1\n",
    "del Re309Fr2_heat2_T2\n",
    "del Re309Fr2_heat2_T1\n",
    "del Re309Fr2_heat3_T2\n",
    "del Re309Fr2_heat3_T1\n",
    "del Re1243Fr20_heat1_T2\n",
    "del Re1243Fr20_heat1_T1\n",
    "del Re1243Fr20_heat2_T2\n",
    "del Re1243Fr20_heat2_T1\n",
    "del Re1243Fr20_heat3_T2\n",
    "del Re1243Fr20_heat3_T1\n",
    "gc.collect()\n",
    "print(\"Saved data to disk\\n\")"
   ]
  },
  {
   "cell_type": "markdown",
   "metadata": {},
   "source": [
    "### 2. Create Model"
   ]
  },
  {
   "cell_type": "code",
   "execution_count": 11,
   "metadata": {},
   "outputs": [],
   "source": [
    "class DNN(object):\n",
    "    \n",
    "    def __init__(self, activation, initializer, regularizer, input_shape):\n",
    "        self.activation = activation\n",
    "        self.initializer = initializer\n",
    "        self.regularizer = regularizer\n",
    "        self.input_shape = input_shape\n",
    "        \n",
    "        pass \n",
    "    \n",
    "    def create_model(self):\n",
    "        model = keras.Sequential([\n",
    "            tf.keras.layers.Flatten(input_shape = self.input_shape),\n",
    "            tf.keras.layers.Dense(128, \n",
    "                             activation = self.activation, \n",
    "                             kernel_regularizer = self.regularizer, \n",
    "                             kernel_initializer = self.initializer),\n",
    "            tf.keras.layers.Dropout(0.2),\n",
    "            tf.keras.layers.Dense(64, \n",
    "                             activation = self.activation, \n",
    "                             kernel_regularizer = self.regularizer, \n",
    "                             kernel_initializer = self.initializer),\n",
    "            tf.keras.layers.Dropout(0.2),\n",
    "            tf.keras.layers.Dense(32, \n",
    "                             activation = self.activation, \n",
    "                             kernel_regularizer = self.regularizer, \n",
    "                             kernel_initializer = self.initializer),\n",
    "            tf.keras.layers.Dense(1)\n",
    "        ])\n",
    "        \n",
    "        return model"
   ]
  },
  {
   "cell_type": "markdown",
   "metadata": {},
   "source": [
    "### 3. Run Model"
   ]
  },
  {
   "cell_type": "code",
   "execution_count": 13,
   "metadata": {},
   "outputs": [
    {
     "name": "stdout",
     "output_type": "stream",
     "text": [
      "Box size used: (7, 7, 7, 3)\n",
      "\n",
      "Predicting Heat_1\n",
      "Final Dataset Correlation: 0.8250\n",
      "Saved model to disk\n",
      "\n",
      "\n",
      "Predicting Heat_2\n",
      "Final Dataset Correlation: 0.7711\n",
      "Saved model to disk\n",
      "\n",
      "\n",
      "Predicting Heat_3\n",
      "Final Dataset Correlation: 0.8683\n",
      "Saved model to disk\n",
      "\n"
     ]
    },
    {
     "data": {
      "image/png": "[encoded data removed]",
      "text/plain": [
       "<Figure size 1440x432 with 3 Axes>"
      ]
     },
     "metadata": {
      "needs_background": "light"
     },
     "output_type": "display_data"
    }
   ],
   "source": [
    "activation = tf.nn.relu\n",
    "initializer = None\n",
    "regularizer = None\n",
    "epochs = 50\n",
    "batch_size = 1000\n",
    "val_split = 0.2\n",
    "\n",
    "datasets = [\"Heat_1\", \"Heat_2\", \"Heat_3\"]\n",
    "results = {}\n",
    "i = 1\n",
    "k = 1\n",
    "print(\"Box size used: \" + str((2 * size + 1, 2 * size + 1, 2 * size + 1, 3)))\n",
    "fig = plt.figure(figsize = (20, 6))\n",
    "for name in datasets:\n",
    "    x_test = []\n",
    "    y_test = []\n",
    "    print(\"\\nPredicting \" + name)\n",
    "    input_shape = (2 * size + 1, 2 * size + 1, 2 * size + 1, 3)\n",
    "    neural_net = DNN(activation, initializer, regularizer, input_shape)\n",
    "    model = neural_net.create_model()\n",
    "    model.compile(optimizer = tf.train.AdamOptimizer(), loss = \"mse\")\n",
    "    correlation = []\n",
    "    R2 = []\n",
    "    for i in range(epochs):\n",
    "        #print(\"Epoch:\", str(i))\n",
    "        temp_1 = []\n",
    "        temp_2 = []        \n",
    "        files_range = np.arange(1, num_files + 1)\n",
    "        np.random.shuffle(files_range)\n",
    "        for j in files_range:\n",
    "            # Load Datasets\n",
    "            x = np.load(path + \"/Data/Data/\" + str(j) + \".npy\")\n",
    "            y = np.load(path + \"/Data/Labels/\" + name + \"/\" + str(j) + \".npy\")\n",
    "            \n",
    "            # Create Train and Test sets\n",
    "            mask =  np.random.rand(x.shape[0]) < 0.80\n",
    "            x_train = x[mask,:,:,:,:]\n",
    "            y_train = y[mask]\n",
    "            x_test = x[~mask,:,:,:,:]\n",
    "            y_test = y[~mask]\n",
    "            del y\n",
    "            del mask\n",
    "            gc.collect()\n",
    "\n",
    "            model.fit(x_train, y_train, epochs = 1, validation_split = 0.2, batch_size = batch_size, verbose = 0)\n",
    "            del x_train\n",
    "            del y_train\n",
    "            gc.collect()\n",
    "            \n",
    "            # Get Test corr and R2 and append to list\n",
    "            y_pred = model.predict(x_test).flatten()\n",
    "            gc.collect()\n",
    "            y_true = y_test.flatten()\n",
    "            temp_1.append(r2_score(y_true, y_pred))\n",
    "            temp_2.append(np.corrcoef(y_pred, y_true)[0, 1])\n",
    "            del x_test\n",
    "            del y_test\n",
    "            del x\n",
    "            gc.collect()\n",
    "            i += 1\n",
    "        \n",
    "        # Get average Test corr and R2 for the epoch\n",
    "        correlation.append(np.mean(temp_2))\n",
    "        R2.append(np.mean(temp_1))\n",
    "    \n",
    "    # Plot R2 and corr evolution\n",
    "    fig.add_subplot(1, len(datasets), k)\n",
    "    plt.plot(np.arange(1, epochs + 1), np.array(R2), label = 'R2')\n",
    "    plt.plot(np.arange(1, epochs + 1), np.array(correlation), label = 'Correlation')\n",
    "    plt.xlabel('Epoch')\n",
    "    plt.legend()\n",
    "    print(\"Final Dataset Correlation: %.4f\" % np.corrcoef(y_pred, y_true)[0, 1])\n",
    "    del y_pred\n",
    "    del y_true\n",
    "    gc.collect()\n",
    "    os.chdir(path)\n",
    "    model_name_json = \"combined_time_model_\" + name + \".json\"\n",
    "    model_name_h5 = \"combined_time_model_\" + name + \".h5\"\n",
    "    model_json = model.to_json()\n",
    "    with open(model_name_json, \"w\") as json_file:\n",
    "        json_file.write(model_json)\n",
    "    model.save_weights(model_name_h5)\n",
    "    print(\"Saved model to disk\\n\")\n",
    "    \n",
    "    k += 1"
   ]
  }
 ],
 "metadata": {
  "kernelspec": {
   "display_name": "Python 3",
   "language": "python",
   "name": "python3"
  },
  "language_info": {
   "codemirror_mode": {
    "name": "ipython",
    "version": 3
   },
   "file_extension": ".py",
   "mimetype": "text/x-python",
   "name": "python",
   "nbconvert_exporter": "python",
   "pygments_lexer": "ipython3",
   "version": "3.6.6"
  }
 },
 "nbformat": 4,
 "nbformat_minor": 2
}
