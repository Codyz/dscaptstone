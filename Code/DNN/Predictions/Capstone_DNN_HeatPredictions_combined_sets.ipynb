{
 "cells": [
  {
   "cell_type": "code",
   "execution_count": 35,
   "metadata": {},
   "outputs": [],
   "source": [
    "%%capture\n",
    "import tensorflow as tf\n",
    "from tensorflow import keras\n",
    "from scipy.io import loadmat\n",
    "from tensorflow.keras import regularizers\n",
    "import os\n",
    "import time\n",
    "import numpy as np\n",
    "import gc\n",
    "from tensorflow.keras.models import model_from_json\n",
    "from tensorflow.keras.models import load_model\n",
    "from tqdm import tqdm_notebook\n",
    "import matplotlib.pyplot as plt\n",
    "from tensorflow.keras import backend as K\n",
    "from sklearn.metrics import r2_score\n",
    "from sklearn import preprocessing\n",
    "import gc\n",
    "import h5py\n",
    "import math\n",
    "from IPython.display import HTML, display\n",
    "import tabulate"
   ]
  },
  {
   "cell_type": "code",
   "execution_count": 36,
   "metadata": {},
   "outputs": [],
   "source": [
    "def scale(x):\n",
    "    return (x -np.mean(x)) / np.std(x)"
   ]
  },
  {
   "cell_type": "code",
   "execution_count": 37,
   "metadata": {},
   "outputs": [],
   "source": [
    "def preprocess(x): \n",
    "    return x[:,:,:int(0.75*x.shape[2])]"
   ]
  },
  {
   "cell_type": "code",
   "execution_count": 38,
   "metadata": {},
   "outputs": [
    {
     "data": {
      "text/plain": [
       "'/home/llin2948/dscaptstone'"
      ]
     },
     "execution_count": 38,
     "metadata": {},
     "output_type": "execute_result"
    }
   ],
   "source": [
    "os.chdir(\"/home/llin2948/dscaptstone\")\n",
    "path = os.getcwd()\n",
    "path"
   ]
  },
  {
   "cell_type": "code",
   "execution_count": 39,
   "metadata": {},
   "outputs": [
    {
     "name": "stdout",
     "output_type": "stream",
     "text": [
      "Loaded model 12 from disk\n",
      "Loaded model 13 from disk\n",
      "Loaded model 23 from disk\n"
     ]
    }
   ],
   "source": [
    "os.chdir(path+\"/Saved_Models_2Sets\")\n",
    "##### Load Model for tau_12\n",
    "json_file = open('model2_Heat_1.json', 'r')\n",
    "loaded_model_json = json_file.read()\n",
    "json_file.close()\n",
    "loaded_model_12 = model_from_json(loaded_model_json)\n",
    "\n",
    "# load weights into new model\n",
    "loaded_model_12.load_weights(\"model2_Heat_1.h5\")\n",
    "print(\"Loaded model 12 from disk\")\n",
    "\n",
    "# evaluate loaded model on test data \n",
    "# Define X_test & Y_test data first\n",
    "loaded_model_12.compile(optimizer = tf.train.AdamOptimizer(), loss = \"mse\")\n",
    "\n",
    "#### Load Model for tau_13\n",
    "json_file = open('model2_Heat_2.json', 'r')\n",
    "loaded_model_json = json_file.read()\n",
    "json_file.close()\n",
    "loaded_model_13 = model_from_json(loaded_model_json)\n",
    "\n",
    "# load weights into new model\n",
    "loaded_model_13.load_weights(\"model2_Heat_2.h5\")\n",
    "print(\"Loaded model 13 from disk\")\n",
    "\n",
    "# evaluate loaded model on test data \n",
    "# Define X_test & Y_test data first\n",
    "loaded_model_13.compile(optimizer = tf.train.AdamOptimizer(), loss = \"mse\")\n",
    "\n",
    "#### Load Model for tau_23\n",
    "json_file = open('model2_Heat_3.json', 'r')\n",
    "loaded_model_json = json_file.read()\n",
    "json_file.close()\n",
    "loaded_model_23 = model_from_json(loaded_model_json)\n",
    "\n",
    "# load weights into new model\n",
    "loaded_model_23.load_weights(\"model2_Heat_3.h5\")\n",
    "print(\"Loaded model 23 from disk\")\n",
    "\n",
    "# evaluate loaded model on test data \n",
    "# Define X_test & Y_test data first\n",
    "loaded_model_23.compile(optimizer = tf.train.AdamOptimizer(), loss = \"mse\")"
   ]
  },
  {
   "cell_type": "code",
   "execution_count": 42,
   "metadata": {},
   "outputs": [
    {
     "name": "stdout",
     "output_type": "stream",
     "text": [
      "Processing /home/llin2948/dscaptstone/Data/Re15sh2_DNScoarse8\n"
     ]
    },
    {
     "data": {
      "application/vnd.jupyter.widget-view+json": {
       "model_id": "34c26330ff4c4b90b82fcaf8d2697c05",
       "version_major": 2,
       "version_minor": 0
      },
      "text/plain": [
       "HBox(children=(IntProgress(value=0, max=146), HTML(value='')))"
      ]
     },
     "metadata": {},
     "output_type": "display_data"
    },
    {
     "name": "stdout",
     "output_type": "stream",
     "text": [
      "\n",
      "predicting tau_12\n",
      "predicting tau_13\n",
      "predicting tau_23\n",
      "Processing /home/llin2948/dscaptstone/Data/Re15sh5_DNScoarse8\n"
     ]
    },
    {
     "data": {
      "application/vnd.jupyter.widget-view+json": {
       "model_id": "1514cf5ce37e4bd39b46381d3d57e039",
       "version_major": 2,
       "version_minor": 0
      },
      "text/plain": [
       "HBox(children=(IntProgress(value=0, max=146), HTML(value='')))"
      ]
     },
     "metadata": {},
     "output_type": "display_data"
    },
    {
     "name": "stdout",
     "output_type": "stream",
     "text": [
      "\n",
      "predicting tau_12\n",
      "predicting tau_13\n",
      "predicting tau_23\n",
      "Processing /home/llin2948/dscaptstone/Data/Re15sh20_DNScoarse8\n"
     ]
    },
    {
     "data": {
      "application/vnd.jupyter.widget-view+json": {
       "model_id": "c7e3eca8580d43bf865b74da3e25cdad",
       "version_major": 2,
       "version_minor": 0
      },
      "text/plain": [
       "HBox(children=(IntProgress(value=0, max=146), HTML(value='')))"
      ]
     },
     "metadata": {},
     "output_type": "display_data"
    },
    {
     "name": "stdout",
     "output_type": "stream",
     "text": [
      "\n",
      "predicting tau_12\n",
      "predicting tau_13\n",
      "predicting tau_23\n",
      "Processing /home/llin2948/dscaptstone/Data/Re15sh20_DNScoarse16\n"
     ]
    },
    {
     "data": {
      "application/vnd.jupyter.widget-view+json": {
       "model_id": "d0c0172a916c48a3b71be8f102d4c88f",
       "version_major": 2,
       "version_minor": 0
      },
      "text/plain": [
       "HBox(children=(IntProgress(value=0, max=71), HTML(value='')))"
      ]
     },
     "metadata": {},
     "output_type": "display_data"
    },
    {
     "name": "stdout",
     "output_type": "stream",
     "text": [
      "\n",
      "predicting tau_12\n",
      "predicting tau_13\n",
      "predicting tau_23\n",
      "Processing /home/llin2948/dscaptstone/Data/Re15sh20_DNScoarse24\n"
     ]
    },
    {
     "data": {
      "application/vnd.jupyter.widget-view+json": {
       "model_id": "2beb576e0522471bb25037495abe1c93",
       "version_major": 2,
       "version_minor": 0
      },
      "text/plain": [
       "HBox(children=(IntProgress(value=0, max=46), HTML(value='')))"
      ]
     },
     "metadata": {},
     "output_type": "display_data"
    },
    {
     "name": "stdout",
     "output_type": "stream",
     "text": [
      "\n",
      "predicting tau_12\n",
      "predicting tau_13\n",
      "predicting tau_23\n"
     ]
    },
    {
     "data": {
      "text/html": [
       "<table>\n",
       "<tbody>\n",
       "<tr><td>Data Source         </td><td>Result</td><td>Heat_1</td><td>Heat_2 </td><td>Heat_3 </td></tr>\n",
       "<tr><td>Re15sh2_DNScoarse8  </td><td>Corr  </td><td>0.7382</td><td>0.7492 </td><td>0.8694 </td></tr>\n",
       "<tr><td>                    </td><td>R^2   </td><td>0.4908</td><td>0.5054 </td><td>0.6947 </td></tr>\n",
       "<tr><td>Re15sh5_DNScoarse8  </td><td>Corr  </td><td>0.5807</td><td>0.6226 </td><td>0.7684 </td></tr>\n",
       "<tr><td>                    </td><td>R^2   </td><td>0.322 </td><td>0.3696 </td><td>0.5412 </td></tr>\n",
       "<tr><td>Re15sh20_DNScoarse8 </td><td>Corr  </td><td>0.8849</td><td>0.7688 </td><td>0.8471 </td></tr>\n",
       "<tr><td>                    </td><td>R^2   </td><td>0.7097</td><td>0.5392 </td><td>0.6594 </td></tr>\n",
       "<tr><td>Re15sh20_DNScoarse16</td><td>Corr  </td><td>0.7575</td><td>0.643  </td><td>0.8034 </td></tr>\n",
       "<tr><td>                    </td><td>R^2   </td><td>0.5561</td><td>0.3638 </td><td>0.4488 </td></tr>\n",
       "<tr><td>Re15sh20_DNScoarse24</td><td>Corr  </td><td>0.6707</td><td>0.576  </td><td>0.7886 </td></tr>\n",
       "<tr><td>                    </td><td>R^2   </td><td>0.2597</td><td>-0.0928</td><td>-0.6867</td></tr>\n",
       "</tbody>\n",
       "</table>"
      ],
      "text/plain": [
       "<IPython.core.display.HTML object>"
      ]
     },
     "metadata": {},
     "output_type": "display_data"
    }
   ],
   "source": [
    "import math\n",
    "from IPython.display import HTML, display\n",
    "import tabulate\n",
    "out = [[\"Data Source\", \"Result\", \"Heat_1\", \"Heat_2\", \"Heat_3\"]]\n",
    "dirs = [(\"Re15sh2_DNScoarse8\",8),(\"Re15sh5_DNScoarse8\",8),(\"Re15sh20_DNScoarse8\",8),(\"Re15sh20_DNScoarse16\",16),(\"Re15sh20_DNScoarse24\",24)]\n",
    "for (dataDir, coarse) in dirs:\n",
    "    dirName = path + \"/Data/\" + dataDir\n",
    "    os.chdir(dirName)\n",
    "    print(\"Processing \" + dirName)\n",
    "    u = preprocess(scale(loadmat('u_F_xyz_T1_DNS'+str(coarse)+'.mat')[\"u_F\"]))\n",
    "    v = preprocess(scale(loadmat('v_F_xyz_T1_DNS'+str(coarse)+'.mat')[\"v_F\"]))\n",
    "    w = preprocess(scale(loadmat('w_F_xyz_T1_DNS'+str(coarse)+'.mat')[\"w_F\"]))\n",
    "    tau_12 = preprocess(scale(loadmat('Heat1_F_xyz_T1_DNS'+str(coarse)+'.mat')[\"Heat1\"]))\n",
    "    tau_13 = preprocess(scale(loadmat('Heat2_F_xyz_T1_DNS'+str(coarse)+'.mat')[\"Heat2\"]))\n",
    "    tau_23 = preprocess(scale(loadmat('Heat3_F_xyz_T1_DNS'+str(coarse)+'.mat')[\"Heat3\"]))\n",
    "\n",
    "    x = np.array([u, v, w])\n",
    "    x = np.transpose(x, [1, 2, 3, 0])\n",
    "    x = np.pad(x, ((3,3), (3,3), (3,3), (0,0)), 'constant', constant_values = 0)\n",
    "\n",
    "    sample = []\n",
    "    size = 3\n",
    "    y_tau_12 = []\n",
    "    y_tau_13 = []\n",
    "    y_tau_23 = []\n",
    "    for i in tqdm_notebook(range(size, x.shape[0] - size)):\n",
    "        for j in range(size, x.shape[1] - size):\n",
    "            for k in range(size, x.shape[2] - size):\n",
    "                sample.append(x[i - size: i + size + 1, j - size: j + size + 1, k - size: k + size + 1, :])\n",
    "                y_tau_12.append(tau_12[i - size][j - size][k - size])\n",
    "                y_tau_13.append(tau_13[i - size][j - size][k - size])\n",
    "                y_tau_23.append(tau_23[i - size][j - size][k - size])\n",
    "            \n",
    "    x = np.array(sample)\n",
    "    y_tau_12 = np.array(y_tau_12)\n",
    "    y_tau_13 = np.array(y_tau_13)\n",
    "    y_tau_23 = np.array(y_tau_23)\n",
    "\n",
    "    print(\"predicting tau_12\")\n",
    "    y_pred_12 = loaded_model_12.predict(x).flatten()\n",
    "\n",
    "    print(\"predicting tau_13\")\n",
    "    y_pred_13 = loaded_model_13.predict(x).flatten()\n",
    "\n",
    "    print(\"predicting tau_23\")\n",
    "    y_pred_23 = loaded_model_23.predict(x).flatten()\n",
    "    \n",
    "    out.append([dataDir, 'Corr', str(np.round(np.corrcoef(y_pred_12, y_tau_12)[0, 1], 4)), str(np.round(np.corrcoef(y_pred_13, y_tau_13)[0, 1], 4)), str(np.round(np.corrcoef(y_pred_23, y_tau_23)[0, 1], 4))])\n",
    "    out.append(['', 'R^2', str(np.round(r2_score(y_tau_12, y_pred_12), 4)), str(np.round(r2_score(y_tau_13, y_pred_13), 4)), str(np.round(r2_score(y_tau_23, y_pred_23), 4))])\n",
    "    \n",
    "display(HTML(tabulate.tabulate(out, tablefmt = 'html')))"
   ]
  },
  {
   "cell_type": "code",
   "execution_count": 40,
   "metadata": {},
   "outputs": [
    {
     "name": "stdout",
     "output_type": "stream",
     "text": [
      "Processing /home/llin2948/dscaptstone/Data/Re15sh20_DNScoarse4\n",
      "3 148\n",
      "3 98\n",
      "3 57\n"
     ]
    },
    {
     "data": {
      "application/vnd.jupyter.widget-view+json": {
       "model_id": "d26591b96ada4e17b12e6426b36eee1c",
       "version_major": 2,
       "version_minor": 0
      },
      "text/plain": [
       "HBox(children=(IntProgress(value=0, max=145), HTML(value='')))"
      ]
     },
     "metadata": {},
     "output_type": "display_data"
    },
    {
     "name": "stdout",
     "output_type": "stream",
     "text": [
      "\n",
      "3 148\n",
      "3 98\n",
      "63 117\n"
     ]
    },
    {
     "data": {
      "application/vnd.jupyter.widget-view+json": {
       "model_id": "17f5137c5a0b46fa918e2b22001bd43c",
       "version_major": 2,
       "version_minor": 0
      },
      "text/plain": [
       "HBox(children=(IntProgress(value=0, max=145), HTML(value='')))"
      ]
     },
     "metadata": {},
     "output_type": "display_data"
    },
    {
     "name": "stdout",
     "output_type": "stream",
     "text": [
      "\n",
      "3 148\n",
      "104 199\n",
      "3 57\n"
     ]
    },
    {
     "data": {
      "application/vnd.jupyter.widget-view+json": {
       "model_id": "1ec9f36d4a1d48be9c3ec0735a1f839c",
       "version_major": 2,
       "version_minor": 0
      },
      "text/plain": [
       "HBox(children=(IntProgress(value=0, max=145), HTML(value='')))"
      ]
     },
     "metadata": {},
     "output_type": "display_data"
    },
    {
     "name": "stdout",
     "output_type": "stream",
     "text": [
      "\n",
      "3 148\n",
      "104 199\n",
      "63 117\n"
     ]
    },
    {
     "data": {
      "application/vnd.jupyter.widget-view+json": {
       "model_id": "b1289ae0d4ac4eed89956bce75bb17d3",
       "version_major": 2,
       "version_minor": 0
      },
      "text/plain": [
       "HBox(children=(IntProgress(value=0, max=145), HTML(value='')))"
      ]
     },
     "metadata": {},
     "output_type": "display_data"
    },
    {
     "name": "stdout",
     "output_type": "stream",
     "text": [
      "\n",
      "154 299\n",
      "3 98\n",
      "3 57\n"
     ]
    },
    {
     "data": {
      "application/vnd.jupyter.widget-view+json": {
       "model_id": "1b95fedecd1044e98cf3c0b7a846bbbf",
       "version_major": 2,
       "version_minor": 0
      },
      "text/plain": [
       "HBox(children=(IntProgress(value=0, max=145), HTML(value='')))"
      ]
     },
     "metadata": {},
     "output_type": "display_data"
    },
    {
     "name": "stdout",
     "output_type": "stream",
     "text": [
      "\n",
      "154 299\n",
      "3 98\n",
      "63 117\n"
     ]
    },
    {
     "data": {
      "application/vnd.jupyter.widget-view+json": {
       "model_id": "e5e3820cd3f24e1caa6f42968cf82559",
       "version_major": 2,
       "version_minor": 0
      },
      "text/plain": [
       "HBox(children=(IntProgress(value=0, max=145), HTML(value='')))"
      ]
     },
     "metadata": {},
     "output_type": "display_data"
    },
    {
     "name": "stdout",
     "output_type": "stream",
     "text": [
      "\n",
      "154 299\n",
      "104 199\n",
      "3 57\n"
     ]
    },
    {
     "data": {
      "application/vnd.jupyter.widget-view+json": {
       "model_id": "0862bb389a834f0c93be28da0dc1e28a",
       "version_major": 2,
       "version_minor": 0
      },
      "text/plain": [
       "HBox(children=(IntProgress(value=0, max=145), HTML(value='')))"
      ]
     },
     "metadata": {},
     "output_type": "display_data"
    },
    {
     "name": "stdout",
     "output_type": "stream",
     "text": [
      "\n",
      "154 299\n",
      "104 199\n",
      "63 117\n"
     ]
    },
    {
     "data": {
      "application/vnd.jupyter.widget-view+json": {
       "model_id": "be2bab88c3724dd0880234f9b2aa4dfd",
       "version_major": 2,
       "version_minor": 0
      },
      "text/plain": [
       "HBox(children=(IntProgress(value=0, max=145), HTML(value='')))"
      ]
     },
     "metadata": {},
     "output_type": "display_data"
    },
    {
     "name": "stdout",
     "output_type": "stream",
     "text": [
      "\n"
     ]
    },
    {
     "data": {
      "text/html": [
       "<table>\n",
       "<tbody>\n",
       "<tr><td>Data Source        </td><td>Result</td><td>Heat_1</td><td>Heat_2</td><td>Heat_3</td></tr>\n",
       "<tr><td>Re15sh20_DNScoarse4</td><td>Corr  </td><td>0.8088</td><td>0.5907</td><td>0.6794</td></tr>\n",
       "<tr><td>                   </td><td>R^2   </td><td>0.5005</td><td>0.2578</td><td>0.2842</td></tr>\n",
       "</tbody>\n",
       "</table>"
      ],
      "text/plain": [
       "<IPython.core.display.HTML object>"
      ]
     },
     "metadata": {},
     "output_type": "display_data"
    }
   ],
   "source": [
    "import math\n",
    "from IPython.display import HTML, display\n",
    "import tabulate\n",
    "out = [[\"Data Source\", \"Result\", \"Heat_1\", \"Heat_2\", \"Heat_3\"]]\n",
    "dirs = [(\"Re15sh20_DNScoarse4\",4)]\n",
    "for (dataDir, coarse) in dirs:\n",
    "    dirName = path + \"/Data/\" + dataDir\n",
    "    os.chdir(dirName)\n",
    "    print(\"Processing \" + dirName)\n",
    "    u = preprocess(scale(loadmat('u_F_xyz_T1_DNS'+str(coarse)+'.mat')[\"u_F\"]))\n",
    "    v = preprocess(scale(loadmat('v_F_xyz_T1_DNS'+str(coarse)+'.mat')[\"v_F\"]))\n",
    "    w = preprocess(scale(loadmat('w_F_xyz_T1_DNS'+str(coarse)+'.mat')[\"w_F\"]))\n",
    "    tau_12 = preprocess(scale(loadmat('Heat1_F_xyz_T1_DNS'+str(coarse)+'.mat')[\"Heat1\"]))\n",
    "    tau_13 = preprocess(scale(loadmat('Heat2_F_xyz_T1_DNS'+str(coarse)+'.mat')[\"Heat2\"]))\n",
    "    tau_23 = preprocess(scale(loadmat('Heat3_F_xyz_T1_DNS'+str(coarse)+'.mat')[\"Heat3\"]))\n",
    "\n",
    "    x = np.array([u, v, w])\n",
    "    x = np.transpose(x, [1, 2, 3, 0])\n",
    "    x = np.pad(x, ((3,3), (3,3), (3,3), (0,0)), 'constant', constant_values = 0)\n",
    "\n",
    "    size = 3\n",
    "    y_pred_12 = np.array([])\n",
    "    y_pred_13 = np.array([])\n",
    "    y_pred_23 = np.array([])\n",
    "    y_true_12 = np.array([])\n",
    "    y_true_13 = np.array([])\n",
    "    y_true_23 = np.array([])\n",
    "    u_idx = 0\n",
    "    v_idx = 0\n",
    "    z_idx = 0\n",
    "    for u_idx in range(0, math.ceil(x.shape[0]/151)):\n",
    "        for v_idx in range(0, math.ceil(x.shape[1]/101)):\n",
    "            for z_idx in range(0, math.ceil(x.shape[2]/60)):\n",
    "                u_lowerbound = u_idx*151+size\n",
    "                u_upperbound = x.shape[0] - size if (u_idx+1)*151 >= x.shape[0] else (u_idx+1)*151 - size\n",
    "                v_lowerbound = v_idx*101+size\n",
    "                v_upperbound = x.shape[1] - size if (v_idx+1)*101 >= x.shape[1] else (v_idx+1)*101 - size\n",
    "                z_lowerbound = z_idx*60+size\n",
    "                z_upperbound = x.shape[2] - size if (z_idx+1)*60 >= x.shape[2] else (z_idx+1)*60 - size\n",
    "                print(str(u_lowerbound) + ' ' + str(u_upperbound))\n",
    "                print(str(v_lowerbound) + ' ' + str(v_upperbound))\n",
    "                print(str(z_lowerbound) + ' ' + str(z_upperbound))\n",
    "                sample = []\n",
    "                y_tau_12 = []\n",
    "                y_tau_13 = []\n",
    "                y_tau_23 = []\n",
    "                for i in tqdm_notebook(range(u_lowerbound, u_upperbound)):\n",
    "                    for j in range(v_lowerbound, v_upperbound):\n",
    "                        for k in range(z_lowerbound, z_upperbound):\n",
    "                            sample.append(x[i - size: i + size + 1, j - size: j + size + 1, k - size: k + size + 1, :])\n",
    "                            y_tau_12.append(tau_12[i - size][j - size][k - size])\n",
    "                            y_tau_13.append(tau_13[i - size][j - size][k - size])\n",
    "                            y_tau_23.append(tau_23[i - size][j - size][k - size])\n",
    "\n",
    "                x_part = np.stack(sample, axis = 0)\n",
    "                y_tau_12 = np.array(y_tau_12)\n",
    "                y_tau_13 = np.array(y_tau_13)\n",
    "                y_tau_23 = np.array(y_tau_23)\n",
    "\n",
    "                del sample\n",
    "                gc.collect()\n",
    "\n",
    "                y_pred_12 = np.append(y_pred_12, loaded_model_12.predict(x_part).flatten())\n",
    "                y_true_12 = np.append(y_true_12, y_tau_12)\n",
    "\n",
    "                y_pred_13 = np.append(y_pred_13, loaded_model_13.predict(x_part).flatten())\n",
    "                y_true_13 = np.append(y_true_13, y_tau_13)\n",
    "\n",
    "                y_pred_23 = np.append(y_pred_23, loaded_model_23.predict(x_part).flatten())\n",
    "                y_true_23 = np.append(y_true_23, y_tau_23)\n",
    "\n",
    "                del x_part\n",
    "                del y_tau_12\n",
    "                del y_tau_13\n",
    "                del y_tau_23\n",
    "                gc.collect()\n",
    "\n",
    "    out.append([dataDir, 'Corr', str(np.round(np.corrcoef(y_pred_12, y_true_12)[0, 1], 4)), str(np.round(np.corrcoef(y_pred_13, y_true_13)[0, 1], 4)), str(np.round(np.corrcoef(y_pred_23, y_true_23)[0, 1], 4))])\n",
    "    out.append(['', 'R^2', str(np.round(r2_score(y_true_12, y_pred_12), 4)), str(np.round(r2_score(y_true_13, y_pred_13), 4)), str(np.round(r2_score(y_true_23, y_pred_23), 4))])\n",
    "    \n",
    "display(HTML(tabulate.tabulate(out, tablefmt = 'html')))"
   ]
  },
  {
   "cell_type": "code",
   "execution_count": null,
   "metadata": {},
   "outputs": [],
   "source": []
  }
 ],
 "metadata": {
  "kernelspec": {
   "display_name": "Python 3",
   "language": "python",
   "name": "python3"
  },
  "language_info": {
   "codemirror_mode": {
    "name": "ipython",
    "version": 3
   },
   "file_extension": ".py",
   "mimetype": "text/x-python",
   "name": "python",
   "nbconvert_exporter": "python",
   "pygments_lexer": "ipython3",
   "version": "3.6.6"
  }
 },
 "nbformat": 4,
 "nbformat_minor": 2
}
