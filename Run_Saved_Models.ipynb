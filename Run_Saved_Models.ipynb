{
 "cells": [
  {
   "cell_type": "code",
   "execution_count": 10,
   "metadata": {},
   "outputs": [],
   "source": [
    "%%capture\n",
    "import tensorflow as tf\n",
    "from tensorflow import keras\n",
    "from scipy.io import loadmat\n",
    "from tensorflow.keras import regularizers\n",
    "import os\n",
    "import time\n",
    "import numpy as np\n",
    "import gc\n",
    "from tensorflow.keras.models import model_from_json\n",
    "from tensorflow.keras.models import load_model\n",
    "from tqdm import tqdm_notebook\n",
    "import matplotlib.pyplot as plt\n",
    "from tensorflow.keras import backend as K\n",
    "from sklearn.metrics import r2_score\n",
    "from sklearn import preprocessing\n",
    "import gc\n",
    "import h5py\n",
    "import math\n",
    "from IPython.display import HTML, display\n",
    "import tabulate"
   ]
  },
  {
   "cell_type": "code",
   "execution_count": 2,
   "metadata": {},
   "outputs": [],
   "source": [
    "def scale(x):\n",
    "    return (x -np.mean(x)) / np.std(x)"
   ]
  },
  {
   "cell_type": "code",
   "execution_count": 3,
   "metadata": {},
   "outputs": [],
   "source": [
    "def preprocess(x): \n",
    "    return x[:,:,:int(0.75*x.shape[2])]"
   ]
  },
  {
   "cell_type": "code",
   "execution_count": 6,
   "metadata": {},
   "outputs": [
    {
     "name": "stdout",
     "output_type": "stream",
     "text": [
      "Loaded model from disk\n",
      "Loaded model from disk\n",
      "Loaded model from disk\n"
     ]
    }
   ],
   "source": [
    "#os.chdir(\"Saved Models\")\n",
    "\n",
    "##### Load Model for tau_12\n",
    "json_file = open('model_tau_12.json', 'r')\n",
    "loaded_model_json = json_file.read()\n",
    "json_file.close()\n",
    "loaded_model_12 = model_from_json(loaded_model_json)\n",
    "\n",
    "# load weights into new model\n",
    "loaded_model_12.load_weights(\"model_tau_12.h5\")\n",
    "print(\"Loaded model from disk\")\n",
    "\n",
    "# evaluate loaded model on test data \n",
    "# Define X_test & Y_test data first\n",
    "loaded_model_12.compile(optimizer = tf.train.AdamOptimizer(), loss = \"mse\")\n",
    "\n",
    "#### Load Model for tau_13\n",
    "json_file = open('model_tau_13.json', 'r')\n",
    "loaded_model_json = json_file.read()\n",
    "json_file.close()\n",
    "loaded_model_13 = model_from_json(loaded_model_json)\n",
    "\n",
    "# load weights into new model\n",
    "loaded_model_13.load_weights(\"model_tau_13.h5\")\n",
    "print(\"Loaded model from disk\")\n",
    "\n",
    "# evaluate loaded model on test data \n",
    "# Define X_test & Y_test data first\n",
    "loaded_model_13.compile(optimizer = tf.train.AdamOptimizer(), loss = \"mse\")\n",
    "\n",
    "#### Load Model for tau_23\n",
    "json_file = open('model_tau_23.json', 'r')\n",
    "loaded_model_json = json_file.read()\n",
    "json_file.close()\n",
    "loaded_model_23 = model_from_json(loaded_model_json)\n",
    "\n",
    "# load weights into new model\n",
    "loaded_model_23.load_weights(\"model_tau_23.h5\")\n",
    "print(\"Loaded model from disk\")\n",
    "\n",
    "# evaluate loaded model on test data \n",
    "# Define X_test & Y_test data first\n",
    "loaded_model_23.compile(optimizer = tf.train.AdamOptimizer(), loss = \"mse\")"
   ]
  },
  {
   "cell_type": "code",
   "execution_count": 11,
   "metadata": {},
   "outputs": [
    {
     "name": "stdout",
     "output_type": "stream",
     "text": [
      "3 148\n",
      "3 98\n",
      "3 57\n"
     ]
    },
    {
     "data": {
      "application/vnd.jupyter.widget-view+json": {
       "model_id": "948538f5bfc841bfb187ca31e64c709e",
       "version_major": 2,
       "version_minor": 0
      },
      "text/plain": [
       "HBox(children=(IntProgress(value=0, max=145), HTML(value='')))"
      ]
     },
     "metadata": {},
     "output_type": "display_data"
    },
    {
     "name": "stdout",
     "output_type": "stream",
     "text": [
      "\n",
      "3 148\n",
      "3 98\n",
      "63 117\n"
     ]
    },
    {
     "data": {
      "application/vnd.jupyter.widget-view+json": {
       "model_id": "8f6159af6f3446e19a6f346994375cb1",
       "version_major": 2,
       "version_minor": 0
      },
      "text/plain": [
       "HBox(children=(IntProgress(value=0, max=145), HTML(value='')))"
      ]
     },
     "metadata": {},
     "output_type": "display_data"
    },
    {
     "name": "stdout",
     "output_type": "stream",
     "text": [
      "\n",
      "3 148\n",
      "104 199\n",
      "3 57\n"
     ]
    },
    {
     "data": {
      "application/vnd.jupyter.widget-view+json": {
       "model_id": "5acfa7b1ace642ccbc30e773ea498f13",
       "version_major": 2,
       "version_minor": 0
      },
      "text/plain": [
       "HBox(children=(IntProgress(value=0, max=145), HTML(value='')))"
      ]
     },
     "metadata": {},
     "output_type": "display_data"
    },
    {
     "name": "stdout",
     "output_type": "stream",
     "text": [
      "\n",
      "3 148\n",
      "104 199\n",
      "63 117\n"
     ]
    },
    {
     "data": {
      "application/vnd.jupyter.widget-view+json": {
       "model_id": "f8b68d7a3399488384bb66aa1ca70ddf",
       "version_major": 2,
       "version_minor": 0
      },
      "text/plain": [
       "HBox(children=(IntProgress(value=0, max=145), HTML(value='')))"
      ]
     },
     "metadata": {},
     "output_type": "display_data"
    },
    {
     "name": "stdout",
     "output_type": "stream",
     "text": [
      "\n",
      "154 299\n",
      "3 98\n",
      "3 57\n"
     ]
    },
    {
     "data": {
      "application/vnd.jupyter.widget-view+json": {
       "model_id": "6877cf6f2ab14f6dab078351c3430664",
       "version_major": 2,
       "version_minor": 0
      },
      "text/plain": [
       "HBox(children=(IntProgress(value=0, max=145), HTML(value='')))"
      ]
     },
     "metadata": {},
     "output_type": "display_data"
    },
    {
     "name": "stdout",
     "output_type": "stream",
     "text": [
      "\n",
      "154 299\n",
      "3 98\n",
      "63 117\n"
     ]
    },
    {
     "data": {
      "application/vnd.jupyter.widget-view+json": {
       "model_id": "25208dc663c141ac8f659fcca05fe809",
       "version_major": 2,
       "version_minor": 0
      },
      "text/plain": [
       "HBox(children=(IntProgress(value=0, max=145), HTML(value='')))"
      ]
     },
     "metadata": {},
     "output_type": "display_data"
    },
    {
     "name": "stdout",
     "output_type": "stream",
     "text": [
      "\n",
      "154 299\n",
      "104 199\n",
      "3 57\n"
     ]
    },
    {
     "data": {
      "application/vnd.jupyter.widget-view+json": {
       "model_id": "3989aa52d3b0464c983b52ddeb30a77a",
       "version_major": 2,
       "version_minor": 0
      },
      "text/plain": [
       "HBox(children=(IntProgress(value=0, max=145), HTML(value='')))"
      ]
     },
     "metadata": {},
     "output_type": "display_data"
    },
    {
     "name": "stdout",
     "output_type": "stream",
     "text": [
      "\n",
      "154 299\n",
      "104 199\n",
      "63 117\n"
     ]
    },
    {
     "data": {
      "application/vnd.jupyter.widget-view+json": {
       "model_id": "04c5da2d24064a37a2bd972543ff71d3",
       "version_major": 2,
       "version_minor": 0
      },
      "text/plain": [
       "HBox(children=(IntProgress(value=0, max=145), HTML(value='')))"
      ]
     },
     "metadata": {},
     "output_type": "display_data"
    },
    {
     "name": "stdout",
     "output_type": "stream",
     "text": [
      "\n"
     ]
    },
    {
     "data": {
      "text/html": [
       "<table>\n",
       "<tbody>\n",
       "<tr><td>Data Source        </td><td>Result</td><td>Tau_12</td><td>Tau_13</td><td>Tau_23</td></tr>\n",
       "<tr><td>Re15sh20_DNScoarse4</td><td>Corr  </td><td>0.836 </td><td>0.8421</td><td>0.8596</td></tr>\n",
       "<tr><td>                   </td><td>R^2   </td><td>0.5244</td><td>0.4564</td><td>0.4828</td></tr>\n",
       "</tbody>\n",
       "</table>"
      ],
      "text/plain": [
       "<IPython.core.display.HTML object>"
      ]
     },
     "metadata": {},
     "output_type": "display_data"
    },
    {
     "name": "stdout",
     "output_type": "stream",
     "text": [
      "3 74\n",
      "3 49\n",
      "3 30\n"
     ]
    },
    {
     "data": {
      "application/vnd.jupyter.widget-view+json": {
       "model_id": "488632ebf73748edaef4974db904da9d",
       "version_major": 2,
       "version_minor": 0
      },
      "text/plain": [
       "HBox(children=(IntProgress(value=0, max=71), HTML(value='')))"
      ]
     },
     "metadata": {},
     "output_type": "display_data"
    },
    {
     "name": "stdout",
     "output_type": "stream",
     "text": [
      "\n"
     ]
    },
    {
     "data": {
      "text/html": [
       "<table>\n",
       "<tbody>\n",
       "<tr><td>Data Source         </td><td>Result</td><td>Tau_12</td><td>Tau_13</td><td>Tau_23</td></tr>\n",
       "<tr><td>Re15sh20_DNScoarse4 </td><td>Corr  </td><td>0.836 </td><td>0.8421</td><td>0.8596</td></tr>\n",
       "<tr><td>                    </td><td>R^2   </td><td>0.5244</td><td>0.4564</td><td>0.4828</td></tr>\n",
       "<tr><td>Re15sh20_DNScoarse16</td><td>Corr  </td><td>0.7249</td><td>0.8303</td><td>0.7898</td></tr>\n",
       "<tr><td>                    </td><td>R^2   </td><td>0.4887</td><td>0.6011</td><td>0.5911</td></tr>\n",
       "</tbody>\n",
       "</table>"
      ],
      "text/plain": [
       "<IPython.core.display.HTML object>"
      ]
     },
     "metadata": {},
     "output_type": "display_data"
    },
    {
     "name": "stdout",
     "output_type": "stream",
     "text": [
      "3 49\n",
      "3 33\n",
      "3 20\n"
     ]
    },
    {
     "data": {
      "application/vnd.jupyter.widget-view+json": {
       "model_id": "906a88388c5c48fe84b6dc9926b3d3eb",
       "version_major": 2,
       "version_minor": 0
      },
      "text/plain": [
       "HBox(children=(IntProgress(value=0, max=46), HTML(value='')))"
      ]
     },
     "metadata": {},
     "output_type": "display_data"
    },
    {
     "name": "stdout",
     "output_type": "stream",
     "text": [
      "\n"
     ]
    },
    {
     "data": {
      "text/html": [
       "<table>\n",
       "<tbody>\n",
       "<tr><td>Data Source         </td><td>Result</td><td>Tau_12</td><td>Tau_13 </td><td>Tau_23</td></tr>\n",
       "<tr><td>Re15sh20_DNScoarse4 </td><td>Corr  </td><td>0.836 </td><td>0.8421 </td><td>0.8596</td></tr>\n",
       "<tr><td>                    </td><td>R^2   </td><td>0.5244</td><td>0.4564 </td><td>0.4828</td></tr>\n",
       "<tr><td>Re15sh20_DNScoarse16</td><td>Corr  </td><td>0.7249</td><td>0.8303 </td><td>0.7898</td></tr>\n",
       "<tr><td>                    </td><td>R^2   </td><td>0.4887</td><td>0.6011 </td><td>0.5911</td></tr>\n",
       "<tr><td>Re15sh20_DNScoarse24</td><td>Corr  </td><td>0.6551</td><td>0.7887 </td><td>0.7221</td></tr>\n",
       "<tr><td>                    </td><td>R^2   </td><td>0.2361</td><td>-0.0165</td><td>0.2448</td></tr>\n",
       "</tbody>\n",
       "</table>"
      ],
      "text/plain": [
       "<IPython.core.display.HTML object>"
      ]
     },
     "metadata": {},
     "output_type": "display_data"
    }
   ],
   "source": [
    "out = [[\"Data Source\", \"Result\", \"Tau_12\", \"Tau_13\", \"Tau_23\"]]\n",
    "coarseArray = [4,16,24]\n",
    "for coarse in coarseArray:\n",
    "    dirName = \"/home/llin2948/dscaptstone/Re15sh20_DNScoarse\" + str(coarse)\n",
    "    os.chdir(dirName)\n",
    "    u = preprocess(scale(loadmat('u_F_xyz_T1_DNS'+str(coarse)+'.mat')[\"u_F\"]))\n",
    "    v = preprocess(scale(loadmat('v_F_xyz_T1_DNS'+str(coarse)+'.mat')[\"v_F\"]))\n",
    "    w = preprocess(scale(loadmat('w_F_xyz_T1_DNS'+str(coarse)+'.mat')[\"w_F\"]))\n",
    "    tau_12 = preprocess(scale(loadmat('tau12_xyz_T1_DNS'+str(coarse)+'.mat')[\"tau12\"]))\n",
    "    tau_13 = preprocess(scale(loadmat('tau13_xyz_T1_DNS'+str(coarse)+'.mat')[\"tau13\"]))\n",
    "    tau_23 = preprocess(scale(loadmat('tau23_xyz_T1_DNS'+str(coarse)+'.mat')[\"tau23\"]))\n",
    "    #tke = preprocess(scale(loadmat('TKE_F_xyz_T1_DNS'+str(coarse)+'.mat')[\"TKE_F\"]))\n",
    "\n",
    "    x = np.array([u, v, w])\n",
    "    x = np.transpose(x, [1, 2, 3, 0])\n",
    "    x = np.pad(x, ((3,3), (3,3), (3,3), (0,0)), 'constant', constant_values = 0)\n",
    "\n",
    "\n",
    "    size = 3\n",
    "    y_pred_12 = np.array([])\n",
    "    y_pred_13 = np.array([])\n",
    "    y_pred_23 = np.array([])\n",
    "    y_true_12 = np.array([])\n",
    "    y_true_13 = np.array([])\n",
    "    y_true_23 = np.array([])\n",
    "    u_idx = 0\n",
    "    v_idx = 0\n",
    "    z_idx = 0\n",
    "    for u_idx in range(0, math.ceil(x.shape[0]/151)):\n",
    "        for v_idx in range(0, math.ceil(x.shape[1]/101)):\n",
    "            for z_idx in range(0, math.ceil(x.shape[2]/60)):\n",
    "                u_lowerbound = u_idx*151+size\n",
    "                u_upperbound = x.shape[0] - size if (u_idx+1)*151 >= x.shape[0] else (u_idx+1)*151 - size\n",
    "                v_lowerbound = v_idx*101+size\n",
    "                v_upperbound = x.shape[1] - size if (v_idx+1)*101 >= x.shape[1] else (v_idx+1)*101 - size\n",
    "                z_lowerbound = z_idx*60+size\n",
    "                z_upperbound = x.shape[2] - size if (z_idx+1)*60 >= x.shape[2] else (z_idx+1)*60 - size\n",
    "                print(str(u_lowerbound) + ' ' + str(u_upperbound))\n",
    "                print(str(v_lowerbound) + ' ' + str(v_upperbound))\n",
    "                print(str(z_lowerbound) + ' ' + str(z_upperbound))\n",
    "                sample = []\n",
    "                y_tau_12 = []\n",
    "                y_tau_13 = []\n",
    "                y_tau_23 = []\n",
    "                for i in tqdm_notebook(range(u_lowerbound, u_upperbound)):\n",
    "                    for j in range(v_lowerbound, v_upperbound):\n",
    "                        for k in range(z_lowerbound, z_upperbound):\n",
    "                            sample.append(x[i - size: i + size + 1, j - size: j + size + 1, k - size: k + size + 1, :])\n",
    "                            y_tau_12.append(tau_12[i - size][j - size][k - size])\n",
    "                            y_tau_13.append(tau_13[i - size][j - size][k - size])\n",
    "                            y_tau_23.append(tau_23[i - size][j - size][k - size])\n",
    "\n",
    "                x_part = np.stack(sample, axis = 0)\n",
    "                y_tau_12 = np.array(y_tau_12)\n",
    "                y_tau_13 = np.array(y_tau_13)\n",
    "                y_tau_23 = np.array(y_tau_23)\n",
    "\n",
    "                del sample\n",
    "                gc.collect()\n",
    "\n",
    "                y_pred_12 = np.append(y_pred_12, loaded_model_12.predict(x_part).flatten())\n",
    "                y_true_12 = np.append(y_true_12, y_tau_12)\n",
    "\n",
    "                y_pred_13 = np.append(y_pred_13, loaded_model_13.predict(x_part).flatten())\n",
    "                y_true_13 = np.append(y_true_13, y_tau_13)\n",
    "\n",
    "                y_pred_23 = np.append(y_pred_23, loaded_model_23.predict(x_part).flatten())\n",
    "                y_true_23 = np.append(y_true_23, y_tau_23)\n",
    "\n",
    "                del x_part\n",
    "                del y_tau_12\n",
    "                del y_tau_13\n",
    "                del y_tau_23\n",
    "                gc.collect()\n",
    "\n",
    "    out.append(['Re15sh20_DNScoarse' + str(coarse), 'Corr', str(np.round(np.corrcoef(y_pred_12, y_true_12)[0, 1], 4)), str(np.round(np.corrcoef(y_pred_13, y_true_13)[0, 1], 4)), str(np.round(np.corrcoef(y_pred_23, y_true_23)[0, 1], 4))])\n",
    "    out.append(['', 'R^2', str(np.round(r2_score(y_true_12, y_pred_12), 4)), str(np.round(r2_score(y_true_13, y_pred_13), 4)), str(np.round(r2_score(y_true_23, y_pred_23), 4))])\n",
    "    display(HTML(tabulate.tabulate(out, tablefmt = 'html')))\n",
    "#print(\"Re15sh20_DNScoarse\"+str(coarse)+\":\")\n",
    "#print(\"tau_12:\")\n",
    "#print(\"\\tR^2: %.4f\" % r2_score(y_true_12, y_pred_12))\n",
    "#print(\"\\tCorrelation: %.4f\\n\" % np.corrcoef(y_pred_12, y_true_12)[0, 1])\n",
    "\n",
    "#print(\"tau_13:\")\n",
    "#print(\"\\tR^2: %.4f\" % r2_score(y_true_13, y_pred_13))\n",
    "#print(\"\\tCorrelation: %.4f\\n\" % np.corrcoef(y_pred_13, y_true_13)[0, 1])\n",
    "        \n",
    "#print(\"tau_23:\")\n",
    "#print(\"\\tR^2: %.4f\" % r2_score(y_true_23, y_pred_23))\n",
    "#print(\"\\tCorrelation: %.4f\\n\" % np.corrcoef(y_pred_23, y_true_23)[0, 1])       "
   ]
  },
  {
   "cell_type": "code",
   "execution_count": null,
   "metadata": {},
   "outputs": [],
   "source": []
  }
 ],
 "metadata": {
  "kernelspec": {
   "display_name": "Python 3",
   "language": "python",
   "name": "python3"
  },
  "language_info": {
   "codemirror_mode": {
    "name": "ipython",
    "version": 3
   },
   "file_extension": ".py",
   "mimetype": "text/x-python",
   "name": "python",
   "nbconvert_exporter": "python",
   "pygments_lexer": "ipython3",
   "version": "3.6.6"
  }
 },
 "nbformat": 4,
 "nbformat_minor": 2
}
