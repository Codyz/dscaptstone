{
 "cells": [
  {
   "cell_type": "code",
   "execution_count": null,
   "metadata": {},
   "outputs": [],
   "source": [
    "import scipy.io\n",
    "import numpy\n",
    "import numpy as np\n",
    "from mpl_toolkits.mplot3d import Axes3D\n",
    "import matplotlib.pyplot as plt\n",
    "import matplotlib as mpl\n",
    "import pandas as pd\n",
    "\n",
    "## read data files\n",
    "input_u = scipy.io.loadmat(\"input/u_F_xyz_T1.mat\", mdict=None, appendmat=True)\n",
    "input_v = scipy.io.loadmat(\"input/v_F_xyz_T1.mat\", mdict=None, appendmat=True)\n",
    "input_w = scipy.io.loadmat(\"input/w_F_xyz_T1.mat\", mdict=None, appendmat=True)\n",
    "input_TKE = scipy.io.loadmat(\"input/TKE_F_xyz_T1.mat\", mdict=None, appendmat=True)\n",
    "input_grad = scipy.io.loadmat(\"input/grad_Tz_F_xyz_T1.mat\", mdict=None, appendmat=True)\n",
    "\n",
    "output_heat1 = scipy.io.loadmat(\"output/Heat1_xyz_T1.mat\", mdict=None, appendmat=True)\n",
    "output_heat2 = scipy.io.loadmat(\"output/Heat2_xyz_T1.mat\", mdict=None, appendmat=True)\n",
    "output_heat3 = scipy.io.loadmat(\"output/Heat3_xyz_T1.mat\", mdict=None, appendmat=True)\n",
    "output_tau11 = scipy.io.loadmat(\"output/tau11_xyz_T1.mat\", mdict=None, appendmat=True)\n",
    "output_tau12 = scipy.io.loadmat(\"output/tau12_xyz_T1.mat\", mdict=None, appendmat=True)\n",
    "output_tau13 = scipy.io.loadmat(\"output/tau13_xyz_T1.mat\", mdict=None, appendmat=True)\n",
    "output_tau22 = scipy.io.loadmat(\"output/tau22_xyz_T1.mat\", mdict=None, appendmat=True)\n",
    "output_tau23 = scipy.io.loadmat(\"output/tau23_xyz_T1.mat\", mdict=None, appendmat=True)\n",
    "output_tau33 = scipy.io.loadmat(\"output/tau33_xyz_T1.mat\", mdict=None, appendmat=True)"
   ]
  },
  {
   "cell_type": "code",
   "execution_count": null,
   "metadata": {},
   "outputs": [],
   "source": [
    "## reconstruct data for graphs\n",
    "x_u = []\n",
    "y_u = []\n",
    "z_u = []\n",
    "v_u = []\n",
    "v_v = []\n",
    "v_w = []\n",
    "v_t11 = []\n",
    "v_t12 = []\n",
    "v_t13 = []\n",
    "v_t22 = []\n",
    "v_t23 = []\n",
    "v_t33 = []\n",
    "for i in range(0,145):\n",
    "    for j in range(0,95):\n",
    "        for k in range(0,74):\n",
    "            x_u.append(i)\n",
    "            y_u.append(j)\n",
    "            z_u.append(k)\n",
    "            v_u.append(input_u['u_F'][i,j,k])\n",
    "            v_v.append(input_v['v_F'][i,j,k])\n",
    "            v_w.append(input_w['w_F'][i,j,k])\n",
    "            v_t11.append(output_tau11['tau11'][i,j,k])\n",
    "            v_t12.append(output_tau12['tau12'][i,j,k])\n",
    "            v_t13.append(output_tau13['tau13'][i,j,k])\n",
    "            v_t22.append(output_tau22['tau22'][i,j,k])\n",
    "            v_t23.append(output_tau23['tau23'][i,j,k])\n",
    "            v_t33.append(output_tau33['tau33'][i,j,k])"
   ]
  },
  {
   "cell_type": "code",
   "execution_count": null,
   "metadata": {},
   "outputs": [],
   "source": [
    "## draw input cubes\n",
    "fig = plt.figure(figsize=(12,10))\n",
    "ax = fig.add_subplot(111, projection='3d')\n",
    "ax.scatter(x_u, y_u, z_u, c=v_u, cmap='coolwarm', depthshade=0)\n",
    "plt.show()\n",
    "\n",
    "fig = plt.figure(figsize=(12,10))\n",
    "ax = fig.add_subplot(111, projection='3d')\n",
    "ax.scatter(x_u, y_u, z_u, c=v_v, cmap='coolwarm', depthshade=0)\n",
    "plt.show()\n",
    "\n",
    "fig = plt.figure(figsize=(12,10))\n",
    "ax = fig.add_subplot(111, projection='3d')\n",
    "ax.scatter(x_u, y_u, z_u, c=v_w, cmap='coolwarm', depthshade=0)\n",
    "plt.show()"
   ]
  },
  {
   "cell_type": "code",
   "execution_count": null,
   "metadata": {},
   "outputs": [],
   "source": [
    "## draw output cubes\n",
    "fig = plt.figure(figsize=(12,10))\n",
    "ax = fig.add_subplot(111, projection='3d')\n",
    "ax.scatter(x_u, y_u, z_u, c=v_t11, cmap='coolwarm', depthshade=0)\n",
    "plt.show()\n",
    "\n",
    "fig = plt.figure(figsize=(12,10))\n",
    "ax = fig.add_subplot(111, projection='3d')\n",
    "ax.scatter(x_u, y_u, z_u, c=v_t12, cmap='coolwarm', depthshade=0)\n",
    "plt.show()\n",
    "\n",
    "fig = plt.figure(figsize=(12,10))\n",
    "ax = fig.add_subplot(111, projection='3d')\n",
    "ax.scatter(x_u, y_u, z_u, c=v_t13, cmap='coolwarm', depthshade=0)\n",
    "plt.show()\n",
    "\n",
    "fig = plt.figure(figsize=(12,10))\n",
    "ax = fig.add_subplot(111, projection='3d')\n",
    "ax.scatter(x_u, y_u, z_u, c=v_t22, cmap='coolwarm', depthshade=0)\n",
    "plt.show()\n",
    "\n",
    "fig = plt.figure(figsize=(12,10))\n",
    "ax = fig.add_subplot(111, projection='3d')\n",
    "ax.scatter(x_u, y_u, z_u, c=v_t23, cmap='coolwarm', depthshade=0)\n",
    "plt.show()\n",
    "\n",
    "fig = plt.figure(figsize=(12,10))\n",
    "ax = fig.add_subplot(111, projection='3d')\n",
    "ax.scatter(x_u, y_u, z_u, c=v_t33, cmap='coolwarm', depthshade=0)\n",
    "plt.show()\n"
   ]
  },
  {
   "cell_type": "code",
   "execution_count": null,
   "metadata": {},
   "outputs": [],
   "source": [
    "## Boxplot for input\n",
    "\n",
    "fig, ax = plt.subplots(figsize=(6, 4))\n",
    "data = [v_u, v_v, v_w]\n",
    "ax.boxplot(data)\n",
    "ax.set_xticklabels(['u','v','w'])\n",
    "plt.show()"
   ]
  },
  {
   "cell_type": "code",
   "execution_count": null,
   "metadata": {},
   "outputs": [],
   "source": [
    "## Boxplot for output\n",
    "fig, ax = plt.subplots(figsize=(6,4))\n",
    "data =[v_t11, v_t12, v_t13, v_t22, v_t23, v_t33]\n",
    "ax.boxplot(data)\n",
    "ax.set_xticklabels(['tau11','tau12','tau13','tau22','tau23','tau33'])\n",
    "plt.show()"
   ]
  },
  {
   "cell_type": "code",
   "execution_count": null,
   "metadata": {},
   "outputs": [],
   "source": [
    "## Generate 2D images for movie\n",
    "#import matplotlib.pyplot as plt\n",
    "\n",
    "for i in range(0,75):\n",
    "    plt.imshow(input_u['u_F'][:,:,i], cmap='coolwarm')\n",
    "    plt.clim(-2,2)\n",
    "    plt.savefig('u_' + str(i) + \".png\")"
   ]
  },
  {
   "cell_type": "code",
   "execution_count": null,
   "metadata": {},
   "outputs": [],
   "source": [
    "## convert to movie\n",
    "import imageio\n",
    "images = []\n",
    "for i in range(0, 75):\n",
    "    filename = 'u_' + str(i) + '.png'\n",
    "    images.append(imageio.imread(filename))\n",
    "imageio.mimsave('u_movie.png', images, loop=1)"
   ]
  }
 ],
 "metadata": {
  "kernelspec": {
   "display_name": "Python 3",
   "language": "python",
   "name": "python3"
  },
  "language_info": {
   "codemirror_mode": {
    "name": "ipython",
    "version": 3
   },
   "file_extension": ".py",
   "mimetype": "text/x-python",
   "name": "python",
   "nbconvert_exporter": "python",
   "pygments_lexer": "ipython3",
   "version": "3.5.3"
  }
 },
 "nbformat": 4,
 "nbformat_minor": 2
}
