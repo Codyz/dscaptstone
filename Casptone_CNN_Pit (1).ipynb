{
 "cells": [
  {
   "cell_type": "code",
   "execution_count": 5,
   "metadata": {},
   "outputs": [],
   "source": [
    "%%capture\n",
    "import tensorflow as tf\n",
    "from tensorflow import keras\n",
    "from scipy.io import loadmat\n",
    "from tensorflow.keras import regularizers\n",
    "import os\n",
    "import numpy as np\n",
    "!pip install tqdm\n",
    "from tqdm import tqdm_notebook\n",
    "import matplotlib.pyplot as plt\n",
    "from tensorflow.keras import backend as K\n",
    "from sklearn.metrics import r2_score"
   ]
  },
  {
   "cell_type": "code",
   "execution_count": 6,
   "metadata": {},
   "outputs": [],
   "source": [
    "#os.chdir(\"/Users/michelkauffmann/Downloads\")\n",
    "u = loadmat('u_F_xyz_T1.mat')[\"u_F\"]\n",
    "v = loadmat('v_F_xyz_T1.mat')[\"v_F\"]\n",
    "w = loadmat('w_F_xyz_T1.mat')[\"w_F\"]\n",
    "tau_11 = loadmat('tau11_xyz_T1.mat')[\"tau11\"]"
   ]
  },
  {
   "cell_type": "code",
   "execution_count": 7,
   "metadata": {},
   "outputs": [
    {
     "data": {
      "text/plain": [
       "True"
      ]
     },
     "execution_count": 7,
     "metadata": {},
     "output_type": "execute_result"
    }
   ],
   "source": [
    "u.shape == v.shape == w.shape == tau_11.shape"
   ]
  },
  {
   "cell_type": "code",
   "execution_count": 8,
   "metadata": {},
   "outputs": [
    {
     "data": {
      "text/plain": [
       "(146, 96, 75)"
      ]
     },
     "execution_count": 8,
     "metadata": {},
     "output_type": "execute_result"
    }
   ],
   "source": [
    "tau_11.shape"
   ]
  },
  {
   "cell_type": "code",
   "execution_count": 9,
   "metadata": {},
   "outputs": [],
   "source": [
    "x = np.array([u, v, w])\n",
    "x = np.transpose(x, [1, 2, 3, 0])"
   ]
  },
  {
   "cell_type": "code",
   "execution_count": 10,
   "metadata": {},
   "outputs": [
    {
     "data": {
      "text/plain": [
       "(146, 96, 75, 3)"
      ]
     },
     "execution_count": 10,
     "metadata": {},
     "output_type": "execute_result"
    }
   ],
   "source": [
    "x.shape"
   ]
  },
  {
   "cell_type": "code",
   "execution_count": 11,
   "metadata": {},
   "outputs": [],
   "source": [
    "x = np.pad(x, ((3,3), (3,3), (3,3), (0,0)), 'constant', constant_values = 0)"
   ]
  },
  {
   "cell_type": "code",
   "execution_count": 12,
   "metadata": {},
   "outputs": [
    {
     "data": {
      "application/vnd.jupyter.widget-view+json": {
       "model_id": "3a96d3f093fd46c9bbf7085b7cff72e5",
       "version_major": 2,
       "version_minor": 0
      },
      "text/plain": [
       "HBox(children=(IntProgress(value=0, max=146), HTML(value='')))"
      ]
     },
     "metadata": {},
     "output_type": "display_data"
    },
    {
     "name": "stdout",
     "output_type": "stream",
     "text": [
      "\n"
     ]
    }
   ],
   "source": [
    "sample = []\n",
    "size = 3\n",
    "y = []\n",
    "for i in tqdm_notebook(range(size, x.shape[0] - size)):\n",
    "    for j in range(size, x.shape[1] - size):\n",
    "        for k in range(size, x.shape[2] - size):\n",
    "            sample.append(x[i - size: i + size + 1, j - size: j + size + 1, k - size: k + size + 1, :])\n",
    "            #print(x[i - size: i + size + 1, j - size: j + size + 1, k - size: k + size + 1, :].shape)\n",
    "            y.append(tau_11[i - size][j - size][k - size])"
   ]
  },
  {
   "cell_type": "code",
   "execution_count": 13,
   "metadata": {},
   "outputs": [
    {
     "data": {
      "text/plain": [
       "(1051200, 7, 7, 7, 3)"
      ]
     },
     "execution_count": 13,
     "metadata": {},
     "output_type": "execute_result"
    }
   ],
   "source": [
    "x = np.stack(sample, axis = 0)\n",
    "x.shape"
   ]
  },
  {
   "cell_type": "code",
   "execution_count": 14,
   "metadata": {},
   "outputs": [
    {
     "data": {
      "text/plain": [
       "(1051200,)"
      ]
     },
     "execution_count": 14,
     "metadata": {},
     "output_type": "execute_result"
    }
   ],
   "source": [
    "y = np.array(y)\n",
    "y.shape"
   ]
  },
  {
   "cell_type": "code",
   "execution_count": 15,
   "metadata": {},
   "outputs": [],
   "source": [
    "mask =  np.random.rand(x.shape[0]) < 0.80\n",
    "x_train, x_test = x[mask,:,:,:,:], x[~mask,:,:,:,:]\n",
    "y_train, y_test = y[mask], y[~mask]\n",
    "#x_train.shape\n",
    "#x_train, x_test = x[:800000, :, :, :, :], x[800000:, :, :, :, :]\n",
    "#y_train, y_test = y[:800000], y[800000:]"
   ]
  },
  {
   "cell_type": "code",
   "execution_count": 21,
   "metadata": {},
   "outputs": [],
   "source": [
    "model = keras.Sequential([\n",
    "    tf.keras.layers.Conv3D(32,\n",
    "                     kernel_size = (3,3,3),\n",
    "                     activation = \"relu\",\n",
    "                     input_shape = (7,7,7,3),   \n",
    "                     padding = \"same\"),\n",
    "                     #kernel_regularizer = regularizers.l2(0.001)),\n",
    "    tf.keras.layers.MaxPooling3D(pool_size = (2,2,2)),\n",
    "    tf.keras.layers.Conv3D(64, \n",
    "                     kernel_size = (3,3,3), \n",
    "                     activation = \"relu\",\n",
    "                     padding = \"same\"),\n",
    "                     #kernel_regularizer = regularizers.l2(0.001)),\n",
    "    tf.keras.layers.MaxPooling3D(pool_size = (2,2,2)),\n",
    "    tf.keras.layers.Conv3D(64, \n",
    "                     kernel_size = (3,3,3), \n",
    "                     activation = \"relu\",\n",
    "                     padding = \"same\"),\n",
    "                     #kernel_regularizer = regularizers.l2(0.001)),\n",
    "    tf.keras.layers.MaxPooling3D(pool_size = (1,1,1)),\n",
    "    tf.keras.layers.Flatten(),\n",
    "    tf.keras.layers.Dense(128, activation = tf.nn.relu),# kernel_regularizer=regularizers.l2(0.01)),\n",
    "    tf.keras.layers.Dropout(0.2),\n",
    "    tf.keras.layers.Dense(1)\n",
    "])"
   ]
  },
  {
   "cell_type": "code",
   "execution_count": 22,
   "metadata": {},
   "outputs": [],
   "source": [
    "model.compile(loss = 'mse',\n",
    "                optimizer = tf.train.AdamOptimizer())\n",
    "                #metrics = ['mse'])"
   ]
  },
  {
   "cell_type": "code",
   "execution_count": 23,
   "metadata": {},
   "outputs": [],
   "source": [
    "#model = model\n",
    "#model.summary()"
   ]
  },
  {
   "cell_type": "code",
   "execution_count": 24,
   "metadata": {},
   "outputs": [],
   "source": [
    "#early_stopping = tf.keras.callbacks.EarlyStopping(monitor = 'val_loss',\n",
    "#                                               min_delta = 0.0001,\n",
    "#                                               patience = 5,\n",
    "#                                               verbose = 1)"
   ]
  },
  {
   "cell_type": "code",
   "execution_count": 25,
   "metadata": {},
   "outputs": [
    {
     "name": "stdout",
     "output_type": "stream",
     "text": [
      "Train on 673039 samples, validate on 168260 samples\n",
      "Epoch 1/50\n",
      "673039/673039 [==============================] - 34s 51us/step - loss: 3.5850e-04 - val_loss: 3.4667e-04\n",
      "Epoch 2/50\n",
      "673039/673039 [==============================] - 29s 43us/step - loss: 2.2795e-04 - val_loss: 4.1592e-04\n",
      "Epoch 3/50\n",
      "673039/673039 [==============================] - 29s 43us/step - loss: 2.0052e-04 - val_loss: 4.4138e-04\n",
      "Epoch 4/50\n",
      "673039/673039 [==============================] - 29s 43us/step - loss: 1.7325e-04 - val_loss: 4.1287e-04\n",
      "Epoch 5/50\n",
      "673039/673039 [==============================] - 29s 43us/step - loss: 1.5898e-04 - val_loss: 5.8469e-04\n",
      "Epoch 6/50\n",
      "673039/673039 [==============================] - 29s 43us/step - loss: 1.6841e-04 - val_loss: 3.5082e-04\n",
      "Epoch 7/50\n",
      "673039/673039 [==============================] - 29s 43us/step - loss: 1.4020e-04 - val_loss: 3.6045e-04\n",
      "Epoch 8/50\n",
      "673039/673039 [==============================] - 29s 43us/step - loss: 1.3791e-04 - val_loss: 3.3264e-04\n",
      "Epoch 9/50\n",
      "673039/673039 [==============================] - 29s 43us/step - loss: 1.3032e-04 - val_loss: 3.3447e-04\n",
      "Epoch 10/50\n",
      "673039/673039 [==============================] - 29s 43us/step - loss: 1.2100e-04 - val_loss: 3.4742e-04\n",
      "Epoch 11/50\n",
      "673039/673039 [==============================] - 29s 43us/step - loss: 1.2449e-04 - val_loss: 3.1136e-04\n",
      "Epoch 12/50\n",
      "673039/673039 [==============================] - 29s 43us/step - loss: 1.2218e-04 - val_loss: 3.3482e-04\n",
      "Epoch 13/50\n",
      "673039/673039 [==============================] - 29s 43us/step - loss: 1.1397e-04 - val_loss: 3.0812e-04\n",
      "Epoch 14/50\n",
      "673039/673039 [==============================] - 29s 43us/step - loss: 1.1200e-04 - val_loss: 3.0598e-04\n",
      "Epoch 15/50\n",
      "673039/673039 [==============================] - 29s 44us/step - loss: 1.0748e-04 - val_loss: 2.6673e-04\n",
      "Epoch 16/50\n",
      "673039/673039 [==============================] - 29s 43us/step - loss: 1.0978e-04 - val_loss: 3.1489e-04\n",
      "Epoch 17/50\n",
      "673039/673039 [==============================] - 29s 44us/step - loss: 1.0556e-04 - val_loss: 2.7103e-04\n",
      "Epoch 18/50\n",
      "673039/673039 [==============================] - 29s 44us/step - loss: 1.0128e-04 - val_loss: 3.0016e-04\n",
      "Epoch 19/50\n",
      "673039/673039 [==============================] - 29s 44us/step - loss: 1.0419e-04 - val_loss: 3.3510e-04\n",
      "Epoch 20/50\n",
      "673039/673039 [==============================] - 29s 44us/step - loss: 9.6995e-05 - val_loss: 2.8763e-04\n",
      "Epoch 21/50\n",
      "673039/673039 [==============================] - 29s 43us/step - loss: 9.1468e-05 - val_loss: 2.7805e-04\n",
      "Epoch 22/50\n",
      "673039/673039 [==============================] - 29s 44us/step - loss: 1.0510e-04 - val_loss: 3.8023e-04\n",
      "Epoch 23/50\n",
      "673039/673039 [==============================] - 29s 44us/step - loss: 9.1156e-05 - val_loss: 2.5394e-04\n",
      "Epoch 24/50\n",
      "673039/673039 [==============================] - 29s 44us/step - loss: 8.6248e-05 - val_loss: 2.4654e-04\n",
      "Epoch 25/50\n",
      "673039/673039 [==============================] - 29s 43us/step - loss: 1.0070e-04 - val_loss: 2.7496e-04\n",
      "Epoch 26/50\n",
      "673039/673039 [==============================] - 29s 44us/step - loss: 8.6137e-05 - val_loss: 2.3289e-04\n",
      "Epoch 27/50\n",
      "673039/673039 [==============================] - 29s 44us/step - loss: 8.8669e-05 - val_loss: 2.4961e-04\n",
      "Epoch 28/50\n",
      "673039/673039 [==============================] - 29s 44us/step - loss: 8.3993e-05 - val_loss: 2.5639e-04\n",
      "Epoch 29/50\n",
      "673039/673039 [==============================] - 29s 44us/step - loss: 8.5876e-05 - val_loss: 2.2908e-04\n",
      "Epoch 30/50\n",
      "673039/673039 [==============================] - 29s 43us/step - loss: 8.2757e-05 - val_loss: 2.5246e-04\n",
      "Epoch 31/50\n",
      "673039/673039 [==============================] - 29s 44us/step - loss: 8.8939e-05 - val_loss: 2.3965e-04\n",
      "Epoch 32/50\n",
      "673039/673039 [==============================] - 29s 44us/step - loss: 8.7160e-05 - val_loss: 2.7482e-04\n",
      "Epoch 33/50\n",
      "673039/673039 [==============================] - 29s 44us/step - loss: 8.0793e-05 - val_loss: 2.2479e-04\n",
      "Epoch 34/50\n",
      "673039/673039 [==============================] - 29s 43us/step - loss: 7.9832e-05 - val_loss: 2.4679e-04\n",
      "Epoch 35/50\n",
      "673039/673039 [==============================] - 29s 44us/step - loss: 7.8692e-05 - val_loss: 2.5424e-04\n",
      "Epoch 36/50\n",
      "673039/673039 [==============================] - 29s 44us/step - loss: 7.7867e-05 - val_loss: 2.5897e-04\n",
      "Epoch 37/50\n",
      "673039/673039 [==============================] - 29s 44us/step - loss: 7.4017e-05 - val_loss: 2.1552e-04\n",
      "Epoch 38/50\n",
      "673039/673039 [==============================] - 29s 43us/step - loss: 8.5172e-05 - val_loss: 2.8379e-04\n",
      "Epoch 39/50\n",
      "673039/673039 [==============================] - 29s 44us/step - loss: 7.8776e-05 - val_loss: 2.2703e-04\n",
      "Epoch 40/50\n",
      "673039/673039 [==============================] - 29s 44us/step - loss: 7.1492e-05 - val_loss: 2.3675e-04\n",
      "Epoch 41/50\n",
      "673039/673039 [==============================] - 29s 44us/step - loss: 8.0102e-05 - val_loss: 2.7787e-04\n",
      "Epoch 42/50\n",
      "673039/673039 [==============================] - 29s 44us/step - loss: 7.9819e-05 - val_loss: 2.1156e-04\n",
      "Epoch 43/50\n",
      "673039/673039 [==============================] - 29s 44us/step - loss: 7.0292e-05 - val_loss: 2.2483e-04\n",
      "Epoch 44/50\n",
      "673039/673039 [==============================] - 29s 44us/step - loss: 7.0043e-05 - val_loss: 2.1260e-04\n",
      "Epoch 45/50\n",
      "673039/673039 [==============================] - 29s 43us/step - loss: 8.6000e-05 - val_loss: 2.4431e-04\n",
      "Epoch 46/50\n",
      "673039/673039 [==============================] - 29s 44us/step - loss: 7.3793e-05 - val_loss: 2.2870e-04\n",
      "Epoch 47/50\n",
      "673039/673039 [==============================] - 29s 44us/step - loss: 7.0501e-05 - val_loss: 2.1527e-04\n",
      "Epoch 48/50\n",
      "673039/673039 [==============================] - 29s 44us/step - loss: 6.9811e-05 - val_loss: 2.3670e-04\n",
      "Epoch 49/50\n",
      "673039/673039 [==============================] - 29s 44us/step - loss: 7.1381e-05 - val_loss: 2.1944e-04\n",
      "Epoch 50/50\n",
      "673039/673039 [==============================] - 29s 44us/step - loss: 7.2940e-05 - val_loss: 2.2817e-04\n"
     ]
    }
   ],
   "source": [
    "history = model.fit(x_train, y_train, \n",
    "                    epochs = 50,\n",
    "                    validation_split = 0.2, \n",
    "                    batch_size = 10000)\n",
    "                    #callbacks = [early_stopping])"
   ]
  },
  {
   "cell_type": "code",
   "execution_count": 26,
   "metadata": {},
   "outputs": [
    {
     "data": {
      "text/plain": [
       "<matplotlib.legend.Legend at 0x7f87f89582b0>"
      ]
     },
     "execution_count": 26,
     "metadata": {},
     "output_type": "execute_result"
    },
    {
     "data": {
      "image/png": "[encoded data removed]",
      "text/plain": [
       "<Figure size 432x288 with 1 Axes>"
      ]
     },
     "metadata": {
      "needs_background": "light"
     },
     "output_type": "display_data"
    }
   ],
   "source": [
    "plt.figure()\n",
    "plt.xlabel('Epoch')\n",
    "plt.ylabel('Mean Square Error')\n",
    "plt.plot(history.epoch, np.array(history.history['loss']), label = 'Train Loss')\n",
    "plt.plot(history.epoch, np.array(history.history['val_loss']), label = 'Val loss')\n",
    "plt.legend()"
   ]
  },
  {
   "cell_type": "code",
   "execution_count": 27,
   "metadata": {},
   "outputs": [],
   "source": [
    "y_pred = model.predict(x_test).flatten()\n",
    "y_true = y_test"
   ]
  },
  {
   "cell_type": "code",
   "execution_count": 28,
   "metadata": {},
   "outputs": [
    {
     "name": "stdout",
     "output_type": "stream",
     "text": [
      "R^2: 0.8332\n",
      "\n"
     ]
    }
   ],
   "source": [
    "print(\"R^2: %.4f\\n\" % r2_score(y_true, y_pred))"
   ]
  },
  {
   "cell_type": "code",
   "execution_count": 29,
   "metadata": {},
   "outputs": [
    {
     "data": {
      "text/plain": [
       "0.9164940076610179"
      ]
     },
     "execution_count": 29,
     "metadata": {},
     "output_type": "execute_result"
    }
   ],
   "source": [
    "np.corrcoef(y_pred, y_true)[0, 1]"
   ]
  }
 ],
 "metadata": {
  "kernelspec": {
   "display_name": "Python 3",
   "language": "python",
   "name": "python3"
  },
  "language_info": {
   "codemirror_mode": {
    "name": "ipython",
    "version": 3
   },
   "file_extension": ".py",
   "mimetype": "text/x-python",
   "name": "python",
   "nbconvert_exporter": "python",
   "pygments_lexer": "ipython3",
   "version": "3.6.6"
  }
 },
 "nbformat": 4,
 "nbformat_minor": 2
}
