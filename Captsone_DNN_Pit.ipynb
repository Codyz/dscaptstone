{
 "cells": [
  {
   "cell_type": "code",
   "execution_count": 2,
   "metadata": {},
   "outputs": [],
   "source": [
    "%%capture\n",
    "import tensorflow as tf\n",
    "from tensorflow import keras\n",
    "from scipy.io import loadmat\n",
    "from tensorflow.keras import regularizers\n",
    "import os\n",
    "import time\n",
    "import numpy as np\n",
    "import gc\n",
    "from tensorflow.keras.models import model_from_json\n",
    "!pip install tqdm\n",
    "!pip install h5py\n",
    "from tqdm import tqdm_notebook\n",
    "import matplotlib.pyplot as plt\n",
    "from tensorflow.keras import backend as K\n",
    "from sklearn.metrics import r2_score\n",
    "from sklearn import preprocessing"
   ]
  },
  {
   "cell_type": "code",
   "execution_count": 2,
   "metadata": {},
   "outputs": [],
   "source": [
    "def scale(x):\n",
    "\n",
    "    return x / np.max(x)"
   ]
  },
  {
   "cell_type": "code",
   "execution_count": 3,
   "metadata": {},
   "outputs": [],
   "source": [
    "def preprocess(x):\n",
    "    \n",
    "    return x[:,:,:int(0.75*x.shape[2])]"
   ]
  },
  {
   "cell_type": "code",
   "execution_count": 7,
   "metadata": {},
   "outputs": [],
   "source": [
    "#os.chdir(\"/Users/michelkauffmann/Downloads\")\n",
    "u = preprocess(scale(loadmat('u_F_xyz_T1.mat')[\"u_F\"]))\n",
    "v = preprocess(scale(loadmat('v_F_xyz_T1.mat')[\"v_F\"]))\n",
    "w = preprocess(scale(loadmat('w_F_xyz_T1.mat')[\"w_F\"]))\n",
    "tau_11 = preprocess(scale(loadmat('tau11_xyz_T1.mat')[\"tau11\"]))\n",
    "tau_12 = preprocess(scale(loadmat('tau12_xyz_T1.mat')[\"tau12\"]))\n",
    "tau_13 = preprocess(scale(loadmat('tau13_xyz_T1.mat')[\"tau13\"]))\n",
    "tau_22 = preprocess(scale(loadmat('tau22_xyz_T1.mat')[\"tau22\"]))\n",
    "tau_23 = preprocess(scale(loadmat('tau23_xyz_T1.mat')[\"tau23\"]))\n",
    "tau_33 = preprocess(scale(loadmat('tau33_xyz_T1.mat')[\"tau33\"]))\n",
    "tke = preprocess(scale(loadmat(\"TKE_F_xyz_T1.mat\")[\"TKE_F\"]))\n",
    "theta = preprocess(scale(loadmat(\"theta_F_xyz_T1.mat\")[\"theta_F\"]))"
   ]
  },
  {
   "cell_type": "markdown",
   "metadata": {},
   "source": [
    "#### Switches"
   ]
  },
  {
   "cell_type": "code",
   "execution_count": 8,
   "metadata": {},
   "outputs": [],
   "source": [
    "all_taus = False\n",
    "significance = True"
   ]
  },
  {
   "cell_type": "markdown",
   "metadata": {},
   "source": [
    "### 1. Generae Input datasets"
   ]
  },
  {
   "cell_type": "markdown",
   "metadata": {},
   "source": [
    "#### 1.1 Create Input dataset (u, v, w, TKE, $\\theta$)"
   ]
  },
  {
   "cell_type": "code",
   "execution_count": 9,
   "metadata": {},
   "outputs": [],
   "source": [
    "x = np.array([u, v, w, tke, theta])\n",
    "x = np.transpose(x, [1, 2, 3, 0])\n",
    "x = np.pad(x, ((3,3), (3,3), (3,3), (0,0)), 'constant', constant_values = 0)"
   ]
  },
  {
   "cell_type": "code",
   "execution_count": 10,
   "metadata": {},
   "outputs": [
    {
     "data": {
      "application/vnd.jupyter.widget-view+json": {
       "model_id": "0b785993634d409e869b0f09d21dbe78",
       "version_major": 2,
       "version_minor": 0
      },
      "text/plain": [
       "HBox(children=(IntProgress(value=0, max=146), HTML(value='')))"
      ]
     },
     "metadata": {},
     "output_type": "display_data"
    },
    {
     "name": "stdout",
     "output_type": "stream",
     "text": [
      "\n"
     ]
    }
   ],
   "source": [
    "sample = []\n",
    "size = 3\n",
    "y_tau_11 = []\n",
    "y_tau_12 = []\n",
    "y_tau_13 = []\n",
    "y_tau_22 = []\n",
    "y_tau_23 = []\n",
    "y_tau_33 = []\n",
    "for i in tqdm_notebook(range(size, x.shape[0] - size)):\n",
    "    for j in range(size, x.shape[1] - size):\n",
    "        for k in range(size, x.shape[2] - size):\n",
    "            sample.append(x[i - size: i + size + 1, j - size: j + size + 1, k - size: k + size + 1, :])\n",
    "            y_tau_11.append(tau_11[i - size][j - size][k - size])\n",
    "            y_tau_12.append(tau_12[i - size][j - size][k - size])\n",
    "            y_tau_13.append(tau_13[i - size][j - size][k - size])\n",
    "            y_tau_22.append(tau_22[i - size][j - size][k - size])\n",
    "            y_tau_23.append(tau_23[i - size][j - size][k - size])\n",
    "            y_tau_33.append(tau_33[i - size][j - size][k - size])"
   ]
  },
  {
   "cell_type": "code",
   "execution_count": 11,
   "metadata": {},
   "outputs": [
    {
     "name": "stdout",
     "output_type": "stream",
     "text": [
      "(784896, 7, 7, 7, 5)\n"
     ]
    }
   ],
   "source": [
    "x = np.stack(sample, axis = 0)\n",
    "print(x.shape)\n",
    "\n",
    "y_tau_11 = np.array(y_tau_11)\n",
    "y_tau_12 = np.array(y_tau_12)\n",
    "y_tau_13 = np.array(y_tau_13)\n",
    "y_tau_22 = np.array(y_tau_22)\n",
    "y_tau_23 = np.array(y_tau_23)\n",
    "y_tau_33 = np.array(y_tau_33)"
   ]
  },
  {
   "cell_type": "markdown",
   "metadata": {},
   "source": [
    "#### 1.2 Create Input Dataset (u, v, w, $\\theta$)"
   ]
  },
  {
   "cell_type": "code",
   "execution_count": 12,
   "metadata": {},
   "outputs": [
    {
     "name": "stdout",
     "output_type": "stream",
     "text": [
      "(784896, 7, 7, 7, 4)\n"
     ]
    }
   ],
   "source": [
    "x_theta = np.delete(x, 3, 4)\n",
    "print(x_theta.shape)"
   ]
  },
  {
   "cell_type": "markdown",
   "metadata": {},
   "source": [
    "#### 1.3 Create Input Dataset (u, v, w, TKE) "
   ]
  },
  {
   "cell_type": "code",
   "execution_count": 13,
   "metadata": {},
   "outputs": [
    {
     "name": "stdout",
     "output_type": "stream",
     "text": [
      "(784896, 7, 7, 7, 4)\n"
     ]
    }
   ],
   "source": [
    "x_tke = np.delete(x, 4, 4)\n",
    "print(x_tke.shape)"
   ]
  },
  {
   "cell_type": "markdown",
   "metadata": {},
   "source": [
    "#### 1.4 Create Dataset (u, v, w)"
   ]
  },
  {
   "cell_type": "code",
   "execution_count": 14,
   "metadata": {},
   "outputs": [
    {
     "name": "stdout",
     "output_type": "stream",
     "text": [
      "(784896, 7, 7, 7, 3)\n"
     ]
    }
   ],
   "source": [
    "x_base = np.delete(x, (3,4), 4)\n",
    "print(x_base.shape)"
   ]
  },
  {
   "cell_type": "markdown",
   "metadata": {},
   "source": [
    "### 2. Build Model "
   ]
  },
  {
   "cell_type": "code",
   "execution_count": 15,
   "metadata": {},
   "outputs": [],
   "source": [
    "class DNN(object):\n",
    "    \n",
    "    def __init__(self, activation, initializer, regularizer, x_train, y_train, epochs, batch_size, input_shape, val_split):\n",
    "        self.activation = activation\n",
    "        self.initializer = initializer\n",
    "        self.regularizer = regularizer\n",
    "        self.x_train = x_train\n",
    "        self.y_train = y_train\n",
    "        self.epochs = epochs\n",
    "        self.batch_size = batch_size\n",
    "        self.input_shape = input_shape\n",
    "        self.val_split = val_split\n",
    "        \n",
    "        pass \n",
    "    \n",
    "    def create_model(self):\n",
    "        model = keras.Sequential([\n",
    "            tf.keras.layers.Flatten(input_shape = self.input_shape),\n",
    "            #tf.keras.layers.Dense(256, \n",
    "            #                 activation = self.activation, \n",
    "            #                 kernel_regularizer = self.regularizer, \n",
    "            #                 kernel_initializer = self.initializer),\n",
    "            #tf.keras.layers.Dropout(0.1),\n",
    "            tf.keras.layers.Dense(128, \n",
    "                             activation = self.activation, \n",
    "                             kernel_regularizer = self.regularizer, \n",
    "                             kernel_initializer = self.initializer),\n",
    "            tf.keras.layers.Dropout(0.2),\n",
    "            tf.keras.layers.Dense(64, \n",
    "                             activation = self.activation, \n",
    "                             kernel_regularizer = self.regularizer, \n",
    "                             kernel_initializer = self.initializer),\n",
    "            tf.keras.layers.Dropout(0.2),\n",
    "            tf.keras.layers.Dense(32, \n",
    "                             activation = self.activation, \n",
    "                             kernel_regularizer = self.regularizer, \n",
    "                             kernel_initializer = self.initializer),\n",
    "            tf.keras.layers.Dense(1)\n",
    "        ])\n",
    "        \n",
    "        return model\n",
    "    \n",
    "    def callbacks(self):\n",
    "        early_stopping = tf.keras.callbacks.EarlyStopping(monitor = 'val_loss',\n",
    "                                               min_delta = 0.001,\n",
    "                                               patience = 0,\n",
    "                                               verbose = 0)\n",
    "        \n",
    "        return early_stopping\n",
    "    \n",
    "    def run_model(self):\n",
    "        model = self.create_model()\n",
    "        model.compile(optimizer = tf.train.AdamOptimizer(), \n",
    "              loss = \"mse\")\n",
    "              #metrics = ['mse'])\n",
    "        \n",
    "        history = model.fit(self.x_train, self.y_train, \n",
    "                    epochs = self.epochs, \n",
    "                    validation_split = self.val_split, \n",
    "                    batch_size =  self.batch_size,\n",
    "                    verbose = 0)\n",
    "                    #callbacks = [self.callbacks()])\n",
    "        \n",
    "        return history, model"
   ]
  },
  {
   "cell_type": "markdown",
   "metadata": {},
   "source": [
    "### 3. Run Model"
   ]
  },
  {
   "cell_type": "code",
   "execution_count": 16,
   "metadata": {},
   "outputs": [
    {
     "name": "stdout",
     "output_type": "stream",
     "text": [
      "Using x_base as input\n",
      "R^2: 0.7046\n",
      "Correlation: 0.8907\n",
      "\n",
      "Using x_tke as input\n",
      "R^2: 0.7461\n",
      "Correlation: 0.8950\n",
      "\n",
      "Using x_theta as input\n",
      "R^2: 0.6687\n",
      "Correlation: 0.8799\n",
      "\n"
     ]
    },
    {
     "data": {
      "image/png": "[encoded data removed]",
      "text/plain": [
       "<Figure size 1440x432 with 3 Axes>"
      ]
     },
     "metadata": {
      "needs_background": "light"
     },
     "output_type": "display_data"
    }
   ],
   "source": [
    "if significance:\n",
    "    activation = tf.nn.relu\n",
    "    initializer = None\n",
    "    regularizer = None\n",
    "    epochs = 50\n",
    "    batch_size = 1000\n",
    "    val_split = 0.2\n",
    "\n",
    "    datasets = [(x_base, \"x_base\"), (x_tke, \"x_tke\"), (x_theta, \"x_theta\")]\n",
    "    fig = plt.figure(figsize = (20, 6))\n",
    "    results = {}\n",
    "    i = 1\n",
    "    for (x, name) in datasets:\n",
    "        print(\"Using \" + name + \" as input\")\n",
    "        mask =  np.random.rand(x.shape[0]) < 0.80\n",
    "        y_train, y_test = y_tau_11[mask], y_tau_11[~mask]\n",
    "        x_train, x_test = x[mask,:,:,:,:], x[~mask,:,:,:,:]\n",
    "\n",
    "        input_shape = (x_train.shape[1], x_train.shape[2], x_train.shape[3], x_train.shape[4])\n",
    "        model = DNN(activation, initializer, regularizer, x_train, y_train, epochs, batch_size, input_shape, val_split)        \n",
    "        history, model = model.run_model()\n",
    "        \n",
    "        fig.add_subplot(1, len(datasets), i)\n",
    "        plt.plot(history.epoch, np.array(history.history['loss']), label = 'Train Loss')\n",
    "        plt.plot(history.epoch, np.array(history.history['val_loss']), label = 'Val loss')\n",
    "        plt.xlabel('Epoch')\n",
    "        plt.ylabel('Mean Square Error')\n",
    "        plt.ylim((0, 0.002))\n",
    "        plt.legend()\n",
    "\n",
    "        y_pred = model.predict(x_test).flatten()\n",
    "        y_true = y_test\n",
    "        print(\"R^2: %.4f\" % r2_score(y_true, y_pred))\n",
    "        print(\"Correlation: %.4f\\n\" % np.corrcoef(y_pred, y_true)[0, 1])\n",
    "        results[np.corrcoef(y_pred, y_true)[0, 1]] = x\n",
    "        \n",
    "        del x_train\n",
    "        del x_test\n",
    "        del y_train\n",
    "        del y_test\n",
    "        gc.collect()\n",
    "        i += 1\n",
    "\n",
    "    plt.show()"
   ]
  },
  {
   "cell_type": "code",
   "execution_count": 17,
   "metadata": {},
   "outputs": [],
   "source": [
    "x_best = results[max(results)]"
   ]
  },
  {
   "cell_type": "code",
   "execution_count": 18,
   "metadata": {},
   "outputs": [
    {
     "name": "stdout",
     "output_type": "stream",
     "text": [
      "Predicting: tau_12\n",
      "R^2: 0.4657\n",
      "Correlation: 0.7312\n",
      "Saved model to disk\n",
      "\n",
      "Predicting: tau_13\n",
      "R^2: 0.6553\n",
      "Correlation: 0.8388\n",
      "Saved model to disk\n",
      "\n",
      "Predicting: tau_23\n",
      "R^2: 0.6149\n",
      "Correlation: 0.8389\n",
      "Saved model to disk\n",
      "\n"
     ]
    },
    {
     "data": {
      "image/png": "[encoded data removed]",
      "text/plain": [
       "<Figure size 1440x720 with 3 Axes>"
      ]
     },
     "metadata": {
      "needs_background": "light"
     },
     "output_type": "display_data"
    }
   ],
   "source": [
    "if all_taus:\n",
    "    taus = [(y_tau_11, \"tau_11\"), (y_tau_12, \"tau_12\"), (y_tau_13, \"tau_13\"), (y_tau_22, \"tau_22\"), (y_tau_23, \"tau_23\"), (y_tau_33, \"tau_33\")]\n",
    "else:\n",
    "    taus = [(y_tau_12, \"tau_12\"), (y_tau_13, \"tau_13\"), (y_tau_23, \"tau_23\")]\n",
    "    \n",
    "activation = tf.nn.relu\n",
    "initializer = None\n",
    "regularizer = None\n",
    "epochs = 50\n",
    "batch_size = 5000\n",
    "input_shape = (x_best.shape[1], x_best.shape[2], x_best.shape[3], x_best.shape[4])\n",
    "val_split = 0.2\n",
    "\n",
    "fig = plt.figure(figsize = (20, 10))\n",
    "\n",
    "i = 1\n",
    "for (y, name) in taus:\n",
    "    print(\"Predicting \" + name)\n",
    "    mask =  np.random.rand(x.shape[0]) < 0.80\n",
    "    x_train, x_test = x_best[mask,:,:,:,:], x_best[~mask,:,:,:,:]\n",
    "    y_train, y_test = y[mask], y[~mask]\n",
    "    \n",
    "    model = DNN(activation, initializer, regularizer, x_train, y_train, epochs, batch_size, input_shape, val_split)\n",
    "    history, model = model.run_model()\n",
    "    fig.add_subplot(2, 3, i)\n",
    "    plt.plot(history.epoch, np.array(history.history['loss']), label = 'Train Loss')\n",
    "    plt.plot(history.epoch, np.array(history.history['val_loss']), label = 'Val loss')\n",
    "    plt.xlabel('Epoch')\n",
    "    plt.ylabel('Mean Square Error')\n",
    "    plt.ylim((0, 0.05))\n",
    "    plt.legend()\n",
    "    \n",
    "    y_pred = model.predict(x_test).flatten()\n",
    "    y_true = y_test\n",
    "    print(\"R^2: %.4f\" % r2_score(y_true, y_pred))\n",
    "    print(\"Correlation: %.4f\" % np.corrcoef(y_pred, y_true)[0, 1])\n",
    "    \n",
    "    model_name_json = \"model_\" + name + \".json\"\n",
    "    model_name_h5 = \"model_\" + name + \".h5\"\n",
    "    model_json = model.to_json()\n",
    "    with open(model_name_json, \"w\") as json_file:\n",
    "        json_file.write(model_json)\n",
    "    model.save_weights(model_name_h5)\n",
    "    print(\"Saved model to disk\\n\")\n",
    "    \n",
    "    del x_train\n",
    "    del x_test\n",
    "    del y_train\n",
    "    del y_test\n",
    "    gc.collect()\n",
    "    i += 1\n",
    "\n",
    "plt.show()"
   ]
  }
 ],
 "metadata": {
  "kernelspec": {
   "display_name": "Python 3",
   "language": "python",
   "name": "python3"
  },
  "language_info": {
   "codemirror_mode": {
    "name": "ipython",
    "version": 3
   },
   "file_extension": ".py",
   "mimetype": "text/x-python",
   "name": "python",
   "nbconvert_exporter": "python",
   "pygments_lexer": "ipython3",
   "version": "3.6.6"
  }
 },
 "nbformat": 4,
 "nbformat_minor": 2
}
