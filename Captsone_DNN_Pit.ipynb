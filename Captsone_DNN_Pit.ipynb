{
 "cells": [
  {
   "cell_type": "code",
   "execution_count": 1,
   "metadata": {},
   "outputs": [],
   "source": [
    "%%capture\n",
    "import tensorflow as tf\n",
    "from tensorflow import keras\n",
    "from scipy.io import loadmat\n",
    "from tensorflow.keras import regularizers\n",
    "import os\n",
    "import numpy as np\n",
    "!pip install tqdm\n",
    "from tqdm import tqdm_notebook\n",
    "import matplotlib.pyplot as plt\n",
    "from tensorflow.keras import backend as K\n",
    "from sklearn.metrics import r2_score\n",
    "from sklearn import preprocessing"
   ]
  },
  {
   "cell_type": "code",
   "execution_count": 2,
   "metadata": {},
   "outputs": [],
   "source": [
    "def scale(x):\n",
    "    x_min = x.min(axis = (1, 2), keepdims = True)\n",
    "    x_max = x.max(axis = (1, 2), keepdims = True)\n",
    "\n",
    "    return (x - x_min) / (x_max - x_min)"
   ]
  },
  {
   "cell_type": "code",
   "execution_count": 3,
   "metadata": {},
   "outputs": [],
   "source": [
    "def preprocess(x):\n",
    "    \n",
    "    return x[:,:,:int(0.75*x.shape[2])]"
   ]
  },
  {
   "cell_type": "code",
   "execution_count": 4,
   "metadata": {},
   "outputs": [],
   "source": [
    "#os.chdir(\"/Users/michelkauffmann/Downloads\")\n",
    "u = preprocess(scale(loadmat('u_F_xyz_T1.mat')[\"u_F\"]))\n",
    "v = preprocess(scale(loadmat('v_F_xyz_T1.mat')[\"v_F\"]))\n",
    "w = preprocess(scale(loadmat('w_F_xyz_T1.mat')[\"w_F\"]))\n",
    "tau_11 = preprocess(loadmat('tau11_xyz_T1.mat')[\"tau11\"])\n",
    "tau_12 = preprocess(loadmat('tau12_xyz_T1.mat')[\"tau12\"])\n",
    "tau_13 = preprocess(loadmat('tau13_xyz_T1.mat')[\"tau13\"])\n",
    "tau_22 = preprocess(loadmat('tau22_xyz_T1.mat')[\"tau22\"])\n",
    "tau_23 = preprocess(loadmat('tau23_xyz_T1.mat')[\"tau23\"])\n",
    "tau_33 = preprocess(loadmat('tau33_xyz_T1.mat')[\"tau33\"])\n",
    "tke = preprocess(scale(loadmat(\"TKE_F_xyz_T1.mat\")[\"TKE_F\"]))\n",
    "theta = preprocess(scale(loadmat(\"theta_F_xyz_T1.mat\")[\"theta_F\"]))"
   ]
  },
  {
   "cell_type": "markdown",
   "metadata": {},
   "source": [
    "#### Switches"
   ]
  },
  {
   "cell_type": "code",
   "execution_count": 5,
   "metadata": {},
   "outputs": [],
   "source": [
    "all_taus = False\n",
    "significance = True"
   ]
  },
  {
   "cell_type": "markdown",
   "metadata": {},
   "source": [
    "### 1. Generae Input datasets"
   ]
  },
  {
   "cell_type": "markdown",
   "metadata": {},
   "source": [
    "#### 1.1 Create Input dataset (u, v, w, TKE, $\\theta$)"
   ]
  },
  {
   "cell_type": "code",
   "execution_count": 6,
   "metadata": {},
   "outputs": [],
   "source": [
    "x = np.array([u, v, w, tke, theta])\n",
    "x = np.transpose(x, [1, 2, 3, 0])\n",
    "x = np.pad(x, ((3,3), (3,3), (3,3), (0,0)), 'constant', constant_values = 0)"
   ]
  },
  {
   "cell_type": "code",
   "execution_count": 7,
   "metadata": {},
   "outputs": [
    {
     "data": {
      "application/vnd.jupyter.widget-view+json": {
       "model_id": "129996e64f8c48eb9c008527fee24fab",
       "version_major": 2,
       "version_minor": 0
      },
      "text/plain": [
       "HBox(children=(IntProgress(value=0, max=146), HTML(value='')))"
      ]
     },
     "metadata": {},
     "output_type": "display_data"
    },
    {
     "name": "stdout",
     "output_type": "stream",
     "text": [
      "\n"
     ]
    }
   ],
   "source": [
    "sample = []\n",
    "size = 3\n",
    "y_tau_11 = []\n",
    "y_tau_12 = []\n",
    "y_tau_13 = []\n",
    "y_tau_22 = []\n",
    "y_tau_23 = []\n",
    "y_tau_33 = []\n",
    "for i in tqdm_notebook(range(size, x.shape[0] - size)):\n",
    "    for j in range(size, x.shape[1] - size):\n",
    "        for k in range(size, x.shape[2] - size):\n",
    "            sample.append(x[i - size: i + size + 1, j - size: j + size + 1, k - size: k + size + 1, :])\n",
    "            y_tau_11.append(tau_11[i - size][j - size][k - size])\n",
    "            y_tau_12.append(tau_12[i - size][j - size][k - size])\n",
    "            y_tau_13.append(tau_13[i - size][j - size][k - size])\n",
    "            y_tau_22.append(tau_22[i - size][j - size][k - size])\n",
    "            y_tau_23.append(tau_23[i - size][j - size][k - size])\n",
    "            y_tau_33.append(tau_33[i - size][j - size][k - size])"
   ]
  },
  {
   "cell_type": "code",
   "execution_count": 8,
   "metadata": {},
   "outputs": [
    {
     "name": "stdout",
     "output_type": "stream",
     "text": [
      "(784896, 7, 7, 7, 5)\n"
     ]
    }
   ],
   "source": [
    "x = np.stack(sample, axis = 0)\n",
    "print(x.shape)\n",
    "\n",
    "y_tau_11 = np.array(y_tau_11)\n",
    "y_tau_12 = np.array(y_tau_12)\n",
    "y_tau_13 = np.array(y_tau_13)\n",
    "y_tau_22 = np.array(y_tau_22)\n",
    "y_tau_23 = np.array(y_tau_23)\n",
    "y_tau_33 = np.array(y_tau_33)"
   ]
  },
  {
   "cell_type": "markdown",
   "metadata": {},
   "source": [
    "#### 1.2 Create Input Dataset (u, v, w, $\\theta$)"
   ]
  },
  {
   "cell_type": "code",
   "execution_count": 9,
   "metadata": {},
   "outputs": [
    {
     "name": "stdout",
     "output_type": "stream",
     "text": [
      "(784896, 7, 7, 7, 4)\n"
     ]
    }
   ],
   "source": [
    "x_theta = np.delete(x, 3, 4)\n",
    "print(x_theta.shape)"
   ]
  },
  {
   "cell_type": "markdown",
   "metadata": {},
   "source": [
    "#### 1.3 Create Input Dataset (u, v, w, TKE) "
   ]
  },
  {
   "cell_type": "code",
   "execution_count": 10,
   "metadata": {},
   "outputs": [
    {
     "name": "stdout",
     "output_type": "stream",
     "text": [
      "(784896, 7, 7, 7, 4)\n"
     ]
    }
   ],
   "source": [
    "x_tke = np.delete(x, 4, 4)\n",
    "print(x_tke.shape)"
   ]
  },
  {
   "cell_type": "markdown",
   "metadata": {},
   "source": [
    "#### 1.4 Create Dataset (u, v, w)"
   ]
  },
  {
   "cell_type": "code",
   "execution_count": 11,
   "metadata": {},
   "outputs": [
    {
     "name": "stdout",
     "output_type": "stream",
     "text": [
      "(784896, 7, 7, 7, 3)\n"
     ]
    }
   ],
   "source": [
    "x_base = np.delete(x, (3,4), 4)\n",
    "print(x_base.shape)"
   ]
  },
  {
   "cell_type": "markdown",
   "metadata": {},
   "source": [
    "### 2. Build Model "
   ]
  },
  {
   "cell_type": "code",
   "execution_count": 12,
   "metadata": {},
   "outputs": [],
   "source": [
    "class DNN(object):\n",
    "    \n",
    "    def __init__(self, activation, initializer, regularizer, x_train, y_train, epochs, batch_size, input_shape, val_split):\n",
    "        self.activation = activation\n",
    "        self.initializer = initializer\n",
    "        self.regularizer = regularizer\n",
    "        self.x_train = x_train\n",
    "        self.y_train = y_train\n",
    "        self.epochs = epochs\n",
    "        self.batch_size = batch_size\n",
    "        self.input_shape = input_shape\n",
    "        self.val_split = val_split\n",
    "        \n",
    "        pass \n",
    "    \n",
    "    def create_model(self):\n",
    "        model = keras.Sequential([\n",
    "            tf.keras.layers.Flatten(input_shape = self.input_shape),\n",
    "            tf.keras.layers.Dense(256, \n",
    "                             activation = self.activation, \n",
    "                             kernel_regularizer = self.regularizer, \n",
    "                             kernel_initializer = self.initializer),\n",
    "            tf.keras.layers.Dropout(0.1),\n",
    "            tf.keras.layers.Dense(128, \n",
    "                             activation = self.activation, \n",
    "                             kernel_regularizer = self.regularizer, \n",
    "                             kernel_initializer = self.initializer),\n",
    "            tf.keras.layers.Dropout(0.1),\n",
    "            tf.keras.layers.Dense(64, \n",
    "                             activation = self.activation, \n",
    "                             kernel_regularizer = self.regularizer, \n",
    "                             kernel_initializer = self.initializer),\n",
    "            tf.keras.layers.Dropout(0.1),\n",
    "            tf.keras.layers.Dense(32, \n",
    "                             activation = self.activation, \n",
    "                             kernel_regularizer = self.regularizer, \n",
    "                             kernel_initializer = self.initializer),\n",
    "            tf.keras.layers.Dense(1)\n",
    "        ])\n",
    "        \n",
    "        return model\n",
    "    \n",
    "    def callbacks(self):\n",
    "        early_stopping = tf.keras.callbacks.EarlyStopping(monitor = 'val_loss',\n",
    "                                               min_delta = 0.001,\n",
    "                                               patience = 0,\n",
    "                                               verbose = 0)\n",
    "        \n",
    "        return early_stopping\n",
    "    \n",
    "    def run_model(self):\n",
    "        model = self.create_model()\n",
    "        model.compile(optimizer = tf.train.AdamOptimizer(), \n",
    "              loss = \"mse\")\n",
    "              #metrics = ['mse'])\n",
    "        \n",
    "        history = model.fit(self.x_train, self.y_train, \n",
    "                    epochs = self.epochs, \n",
    "                    validation_split = self.val_split, \n",
    "                    batch_size =  self.batch_size,\n",
    "                    verbose = 1)\n",
    "                    #callbacks = [self.callbacks()])\n",
    "        \n",
    "        return history, model"
   ]
  },
  {
   "cell_type": "code",
   "execution_count": 13,
   "metadata": {},
   "outputs": [
    {
     "name": "stdout",
     "output_type": "stream",
     "text": [
      "Train on 502472 samples, validate on 125618 samples\n",
      "Epoch 1/50\n",
      "502472/502472 [==============================] - 10s 20us/step - loss: 0.0426 - val_loss: 1.1636e-04\n",
      "Epoch 2/50\n",
      "502472/502472 [==============================] - 9s 18us/step - loss: 0.0018 - val_loss: 2.3105e-05\n",
      "Epoch 3/50\n",
      "502472/502472 [==============================] - 9s 18us/step - loss: 4.8395e-04 - val_loss: 2.3033e-05\n",
      "Epoch 4/50\n",
      "502472/502472 [==============================] - 9s 18us/step - loss: 1.7809e-04 - val_loss: 1.1362e-05\n",
      "Epoch 5/50\n",
      "502472/502472 [==============================] - 9s 18us/step - loss: 7.5160e-05 - val_loss: 8.6811e-06\n",
      "Epoch 6/50\n",
      "502472/502472 [==============================] - 9s 17us/step - loss: 6.1828e-05 - val_loss: 8.6806e-06\n",
      "Epoch 7/50\n",
      "502472/502472 [==============================] - 9s 17us/step - loss: 5.2765e-05 - val_loss: 8.6842e-06\n",
      "Epoch 8/50\n",
      "502472/502472 [==============================] - 9s 17us/step - loss: 4.5648e-05 - val_loss: 8.6753e-06\n",
      "Epoch 9/50\n",
      "502472/502472 [==============================] - 9s 18us/step - loss: 3.9826e-05 - val_loss: 8.6467e-06\n",
      "Epoch 10/50\n",
      "502472/502472 [==============================] - 9s 18us/step - loss: 3.6171e-05 - val_loss: 8.7660e-06\n",
      "Epoch 11/50\n",
      "502472/502472 [==============================] - 9s 18us/step - loss: 3.2246e-05 - val_loss: 8.8341e-06\n",
      "Epoch 12/50\n",
      "502472/502472 [==============================] - 9s 18us/step - loss: 2.9187e-05 - val_loss: 8.8123e-06\n",
      "Epoch 13/50\n",
      "502472/502472 [==============================] - 9s 18us/step - loss: 2.6176e-05 - val_loss: 8.8007e-06\n",
      "Epoch 14/50\n",
      "502472/502472 [==============================] - 9s 17us/step - loss: 2.4840e-05 - val_loss: 8.7860e-06\n",
      "Epoch 15/50\n",
      "502472/502472 [==============================] - 9s 17us/step - loss: 2.3261e-05 - val_loss: 8.7675e-06\n",
      "Epoch 16/50\n",
      "502472/502472 [==============================] - 9s 17us/step - loss: 2.2119e-05 - val_loss: 8.7513e-06\n",
      "Epoch 17/50\n",
      "502472/502472 [==============================] - 9s 18us/step - loss: 2.0903e-05 - val_loss: 8.7126e-06\n",
      "Epoch 18/50\n",
      "502472/502472 [==============================] - 9s 18us/step - loss: 1.9381e-05 - val_loss: 8.7249e-06\n",
      "Epoch 19/50\n",
      "502472/502472 [==============================] - 9s 17us/step - loss: 1.7687e-05 - val_loss: 8.6981e-06\n",
      "Epoch 20/50\n",
      "502472/502472 [==============================] - 9s 18us/step - loss: 1.4514e-05 - val_loss: 8.7189e-06\n",
      "Epoch 21/50\n",
      "502472/502472 [==============================] - 9s 18us/step - loss: 1.2115e-05 - val_loss: 8.7049e-06\n",
      "Epoch 22/50\n",
      "502472/502472 [==============================] - 9s 17us/step - loss: 1.1281e-05 - val_loss: 8.9586e-06\n",
      "Epoch 23/50\n",
      "502472/502472 [==============================] - 9s 17us/step - loss: 1.0941e-05 - val_loss: 9.0711e-06\n",
      "Epoch 24/50\n",
      "502472/502472 [==============================] - 9s 17us/step - loss: 1.0795e-05 - val_loss: 8.9572e-06\n",
      "Epoch 25/50\n",
      "502472/502472 [==============================] - 9s 18us/step - loss: 1.0654e-05 - val_loss: 8.7962e-06\n",
      "Epoch 26/50\n",
      "502472/502472 [==============================] - 9s 17us/step - loss: 1.0579e-05 - val_loss: 8.7260e-06\n",
      "Epoch 27/50\n",
      "502472/502472 [==============================] - 9s 17us/step - loss: 1.0542e-05 - val_loss: 8.6746e-06\n",
      "Epoch 28/50\n",
      "502472/502472 [==============================] - 9s 18us/step - loss: 1.0327e-05 - val_loss: 8.6031e-06\n",
      "Epoch 29/50\n",
      "502472/502472 [==============================] - 9s 17us/step - loss: 1.0280e-05 - val_loss: 8.5545e-06\n",
      "Epoch 30/50\n",
      "502472/502472 [==============================] - 9s 17us/step - loss: 1.0325e-05 - val_loss: 8.5444e-06\n",
      "Epoch 31/50\n",
      "502472/502472 [==============================] - 9s 18us/step - loss: 1.0270e-05 - val_loss: 8.4264e-06\n",
      "Epoch 32/50\n",
      "502472/502472 [==============================] - 9s 18us/step - loss: 1.0122e-05 - val_loss: 8.4013e-06\n",
      "Epoch 33/50\n",
      "502472/502472 [==============================] - 9s 17us/step - loss: 1.0089e-05 - val_loss: 8.3280e-06\n",
      "Epoch 34/50\n",
      "502472/502472 [==============================] - 9s 18us/step - loss: 1.0002e-05 - val_loss: 8.3374e-06\n",
      "Epoch 35/50\n",
      "502472/502472 [==============================] - 9s 18us/step - loss: 9.8052e-06 - val_loss: 8.3534e-06\n",
      "Epoch 36/50\n",
      "502472/502472 [==============================] - 9s 18us/step - loss: 9.7076e-06 - val_loss: 8.1874e-06\n",
      "Epoch 37/50\n",
      "502472/502472 [==============================] - 9s 17us/step - loss: 9.5963e-06 - val_loss: 8.2618e-06\n",
      "Epoch 38/50\n",
      "502472/502472 [==============================] - 9s 18us/step - loss: 9.5408e-06 - val_loss: 8.1614e-06\n",
      "Epoch 39/50\n",
      "502472/502472 [==============================] - 9s 17us/step - loss: 9.4902e-06 - val_loss: 8.0621e-06\n",
      "Epoch 40/50\n",
      "502472/502472 [==============================] - 9s 18us/step - loss: 9.3559e-06 - val_loss: 8.0944e-06\n",
      "Epoch 41/50\n",
      "502472/502472 [==============================] - 9s 18us/step - loss: 9.3237e-06 - val_loss: 8.0462e-06\n",
      "Epoch 42/50\n",
      "502472/502472 [==============================] - 9s 18us/step - loss: 9.1893e-06 - val_loss: 7.9601e-06\n",
      "Epoch 43/50\n",
      "502472/502472 [==============================] - 9s 18us/step - loss: 9.1940e-06 - val_loss: 7.8914e-06\n",
      "Epoch 44/50\n",
      "502472/502472 [==============================] - 9s 18us/step - loss: 9.1129e-06 - val_loss: 7.8889e-06\n",
      "Epoch 45/50\n",
      "502472/502472 [==============================] - 9s 18us/step - loss: 9.0181e-06 - val_loss: 7.7881e-06\n",
      "Epoch 46/50\n",
      "502472/502472 [==============================] - 9s 18us/step - loss: 8.9886e-06 - val_loss: 7.8934e-06\n",
      "Epoch 47/50\n",
      "502472/502472 [==============================] - 9s 18us/step - loss: 8.8910e-06 - val_loss: 7.7244e-06\n",
      "Epoch 48/50\n",
      "502472/502472 [==============================] - 9s 18us/step - loss: 8.8486e-06 - val_loss: 7.6229e-06\n",
      "Epoch 49/50\n",
      "502472/502472 [==============================] - 9s 17us/step - loss: 8.8528e-06 - val_loss: 7.5844e-06\n",
      "Epoch 50/50\n",
      "502472/502472 [==============================] - 8s 17us/step - loss: 8.8113e-06 - val_loss: 7.4503e-06\n",
      "R^2: 0.1885\n",
      "Correlation: 0.4872\n",
      "\n",
      "Train on 502472 samples, validate on 125618 samples\n",
      "Epoch 1/50\n",
      "502472/502472 [==============================] - 10s 19us/step - loss: 0.0392 - val_loss: 2.4130e-04\n",
      "Epoch 2/50\n",
      "502472/502472 [==============================] - 9s 18us/step - loss: 0.0011 - val_loss: 9.6527e-05\n",
      "Epoch 3/50\n",
      "502472/502472 [==============================] - 9s 18us/step - loss: 3.1396e-04 - val_loss: 1.4730e-05\n",
      "Epoch 4/50\n",
      "502472/502472 [==============================] - 9s 18us/step - loss: 1.1243e-04 - val_loss: 9.3330e-06\n",
      "Epoch 5/50\n",
      "502472/502472 [==============================] - 9s 19us/step - loss: 3.8866e-05 - val_loss: 1.2692e-05\n",
      "Epoch 6/50\n",
      "502472/502472 [==============================] - 9s 18us/step - loss: 2.0362e-05 - val_loss: 9.2758e-06\n",
      "Epoch 7/50\n",
      "502472/502472 [==============================] - 9s 18us/step - loss: 1.4551e-05 - val_loss: 9.2762e-06\n",
      "Epoch 8/50\n",
      "502472/502472 [==============================] - 9s 18us/step - loss: 1.3177e-05 - val_loss: 9.2758e-06\n",
      "Epoch 9/50\n",
      "502472/502472 [==============================] - 9s 18us/step - loss: 1.2444e-05 - val_loss: 9.2758e-06\n",
      "Epoch 10/50\n",
      "502472/502472 [==============================] - 9s 18us/step - loss: 1.1963e-05 - val_loss: 9.2781e-06\n",
      "Epoch 11/50\n",
      "502472/502472 [==============================] - 9s 18us/step - loss: 1.1925e-05 - val_loss: 9.2768e-06\n",
      "Epoch 12/50\n",
      "502472/502472 [==============================] - 9s 19us/step - loss: 1.1669e-05 - val_loss: 9.2769e-06\n",
      "Epoch 13/50\n",
      "502472/502472 [==============================] - 9s 18us/step - loss: 1.1515e-05 - val_loss: 9.2757e-06\n",
      "Epoch 14/50\n",
      "502472/502472 [==============================] - 9s 18us/step - loss: 1.1354e-05 - val_loss: 9.2758e-06\n",
      "Epoch 15/50\n",
      "502472/502472 [==============================] - 9s 18us/step - loss: 1.1160e-05 - val_loss: 9.2756e-06\n",
      "Epoch 16/50\n",
      "502472/502472 [==============================] - 9s 18us/step - loss: 1.0965e-05 - val_loss: 9.2757e-06\n",
      "Epoch 17/50\n",
      "502472/502472 [==============================] - 9s 18us/step - loss: 1.0885e-05 - val_loss: 9.2758e-06\n",
      "Epoch 18/50\n",
      "502472/502472 [==============================] - 9s 19us/step - loss: 1.0762e-05 - val_loss: 9.2765e-06\n",
      "Epoch 19/50\n",
      "502472/502472 [==============================] - 9s 18us/step - loss: 1.0635e-05 - val_loss: 9.2758e-06\n",
      "Epoch 20/50\n"
     ]
    },
    {
     "name": "stdout",
     "output_type": "stream",
     "text": [
      "502472/502472 [==============================] - 9s 18us/step - loss: 1.0589e-05 - val_loss: 9.2768e-06\n",
      "Epoch 21/50\n",
      "502472/502472 [==============================] - 9s 18us/step - loss: 1.0509e-05 - val_loss: 9.2764e-06\n",
      "Epoch 22/50\n",
      "502472/502472 [==============================] - 9s 18us/step - loss: 1.0444e-05 - val_loss: 9.2756e-06\n",
      "Epoch 23/50\n",
      "502472/502472 [==============================] - 9s 18us/step - loss: 1.0308e-05 - val_loss: 9.2759e-06\n",
      "Epoch 24/50\n",
      "502472/502472 [==============================] - 9s 18us/step - loss: 1.0318e-05 - val_loss: 9.2759e-06\n",
      "Epoch 25/50\n",
      "502472/502472 [==============================] - 9s 18us/step - loss: 1.0195e-05 - val_loss: 9.2757e-06\n",
      "Epoch 26/50\n",
      "502472/502472 [==============================] - 9s 18us/step - loss: 1.0049e-05 - val_loss: 9.2758e-06\n",
      "Epoch 27/50\n",
      "502472/502472 [==============================] - 9s 18us/step - loss: 1.0127e-05 - val_loss: 9.2757e-06\n",
      "Epoch 28/50\n",
      "502472/502472 [==============================] - 9s 18us/step - loss: 1.0041e-05 - val_loss: 9.2759e-06\n",
      "Epoch 29/50\n",
      "502472/502472 [==============================] - 9s 18us/step - loss: 1.0049e-05 - val_loss: 9.2970e-06\n",
      "Epoch 30/50\n",
      "502472/502472 [==============================] - 9s 18us/step - loss: 1.0041e-05 - val_loss: 9.2763e-06\n",
      "Epoch 31/50\n",
      "502472/502472 [==============================] - 9s 18us/step - loss: 9.9701e-06 - val_loss: 9.2886e-06\n",
      "Epoch 32/50\n",
      "502472/502472 [==============================] - 9s 18us/step - loss: 1.0006e-05 - val_loss: 9.2793e-06\n",
      "Epoch 33/50\n",
      "502472/502472 [==============================] - 9s 17us/step - loss: 9.9793e-06 - val_loss: 9.2994e-06\n",
      "Epoch 34/50\n",
      "502472/502472 [==============================] - 9s 18us/step - loss: 9.9760e-06 - val_loss: 9.2763e-06\n",
      "Epoch 35/50\n",
      "502472/502472 [==============================] - 9s 18us/step - loss: 9.9712e-06 - val_loss: 9.2758e-06\n",
      "Epoch 36/50\n",
      "502472/502472 [==============================] - 9s 18us/step - loss: 9.9712e-06 - val_loss: 9.2781e-06\n",
      "Epoch 37/50\n",
      "502472/502472 [==============================] - 9s 18us/step - loss: 9.9583e-06 - val_loss: 9.2774e-06\n",
      "Epoch 38/50\n",
      "502472/502472 [==============================] - 9s 18us/step - loss: 9.8669e-06 - val_loss: 9.2775e-06\n",
      "Epoch 39/50\n",
      "502472/502472 [==============================] - 9s 18us/step - loss: 9.9347e-06 - val_loss: 9.2757e-06\n",
      "Epoch 40/50\n",
      "502472/502472 [==============================] - 9s 18us/step - loss: 9.8737e-06 - val_loss: 9.2779e-06\n",
      "Epoch 41/50\n",
      "502472/502472 [==============================] - 9s 18us/step - loss: 9.9025e-06 - val_loss: 9.2766e-06\n",
      "Epoch 42/50\n",
      "502472/502472 [==============================] - 9s 18us/step - loss: 9.8573e-06 - val_loss: 9.2768e-06\n",
      "Epoch 43/50\n",
      "502472/502472 [==============================] - 9s 18us/step - loss: 9.9167e-06 - val_loss: 9.2765e-06\n",
      "Epoch 44/50\n",
      "502472/502472 [==============================] - 9s 18us/step - loss: 9.8922e-06 - val_loss: 9.2781e-06\n",
      "Epoch 45/50\n",
      "502472/502472 [==============================] - 9s 18us/step - loss: 9.8480e-06 - val_loss: 9.2764e-06\n",
      "Epoch 46/50\n",
      "502472/502472 [==============================] - 9s 18us/step - loss: 9.8745e-06 - val_loss: 9.2757e-06\n",
      "Epoch 47/50\n",
      "502472/502472 [==============================] - 9s 18us/step - loss: 9.8819e-06 - val_loss: 9.2824e-06\n",
      "Epoch 48/50\n",
      "502472/502472 [==============================] - 9s 18us/step - loss: 9.8225e-06 - val_loss: 9.2783e-06\n",
      "Epoch 49/50\n",
      "502472/502472 [==============================] - 9s 19us/step - loss: 9.8180e-06 - val_loss: 9.2757e-06\n",
      "Epoch 50/50\n",
      "502472/502472 [==============================] - 9s 18us/step - loss: 9.8473e-06 - val_loss: 9.2760e-06\n",
      "R^2: -0.0001\n",
      "Correlation: nan\n",
      "\n"
     ]
    },
    {
     "name": "stderr",
     "output_type": "stream",
     "text": [
      "/home/pk2573/miniconda3/envs/dlenv/lib/python3.6/site-packages/numpy/lib/function_base.py:2400: RuntimeWarning: invalid value encountered in true_divide\n",
      "  c /= stddev[:, None]\n",
      "/home/pk2573/miniconda3/envs/dlenv/lib/python3.6/site-packages/numpy/lib/function_base.py:2401: RuntimeWarning: invalid value encountered in true_divide\n",
      "  c /= stddev[None, :]\n"
     ]
    },
    {
     "ename": "KeyboardInterrupt",
     "evalue": "",
     "output_type": "error",
     "traceback": [
      "\u001b[0;31m---------------------------------------------------------------------------\u001b[0m",
      "\u001b[0;31mKeyboardInterrupt\u001b[0m                         Traceback (most recent call last)",
      "\u001b[0;32m<ipython-input-13-a1b5d2d7118a>\u001b[0m in \u001b[0;36m<module>\u001b[0;34m\u001b[0m\n\u001b[1;32m     14\u001b[0m     \u001b[0mi\u001b[0m \u001b[0;34m=\u001b[0m \u001b[0;36m1\u001b[0m\u001b[0;34m\u001b[0m\u001b[0m\n\u001b[1;32m     15\u001b[0m     \u001b[0;32mfor\u001b[0m \u001b[0mx\u001b[0m \u001b[0;32min\u001b[0m \u001b[0mdatasets\u001b[0m\u001b[0;34m:\u001b[0m\u001b[0;34m\u001b[0m\u001b[0m\n\u001b[0;32m---> 16\u001b[0;31m         \u001b[0mx_train\u001b[0m\u001b[0;34m,\u001b[0m \u001b[0mx_test\u001b[0m \u001b[0;34m=\u001b[0m \u001b[0mx\u001b[0m\u001b[0;34m[\u001b[0m\u001b[0mmask\u001b[0m\u001b[0;34m,\u001b[0m\u001b[0;34m:\u001b[0m\u001b[0;34m,\u001b[0m\u001b[0;34m:\u001b[0m\u001b[0;34m,\u001b[0m\u001b[0;34m:\u001b[0m\u001b[0;34m,\u001b[0m\u001b[0;34m:\u001b[0m\u001b[0;34m]\u001b[0m\u001b[0;34m,\u001b[0m \u001b[0mx\u001b[0m\u001b[0;34m[\u001b[0m\u001b[0;34m~\u001b[0m\u001b[0mmask\u001b[0m\u001b[0;34m,\u001b[0m\u001b[0;34m:\u001b[0m\u001b[0;34m,\u001b[0m\u001b[0;34m:\u001b[0m\u001b[0;34m,\u001b[0m\u001b[0;34m:\u001b[0m\u001b[0;34m,\u001b[0m\u001b[0;34m:\u001b[0m\u001b[0;34m]\u001b[0m\u001b[0;34m\u001b[0m\u001b[0m\n\u001b[0m\u001b[1;32m     17\u001b[0m \u001b[0;34m\u001b[0m\u001b[0m\n\u001b[1;32m     18\u001b[0m         \u001b[0minput_shape\u001b[0m \u001b[0;34m=\u001b[0m \u001b[0;34m(\u001b[0m\u001b[0mx_train\u001b[0m\u001b[0;34m.\u001b[0m\u001b[0mshape\u001b[0m\u001b[0;34m[\u001b[0m\u001b[0;36m1\u001b[0m\u001b[0;34m]\u001b[0m\u001b[0;34m,\u001b[0m \u001b[0mx_train\u001b[0m\u001b[0;34m.\u001b[0m\u001b[0mshape\u001b[0m\u001b[0;34m[\u001b[0m\u001b[0;36m2\u001b[0m\u001b[0;34m]\u001b[0m\u001b[0;34m,\u001b[0m \u001b[0mx_train\u001b[0m\u001b[0;34m.\u001b[0m\u001b[0mshape\u001b[0m\u001b[0;34m[\u001b[0m\u001b[0;36m3\u001b[0m\u001b[0;34m]\u001b[0m\u001b[0;34m,\u001b[0m \u001b[0mx_train\u001b[0m\u001b[0;34m.\u001b[0m\u001b[0mshape\u001b[0m\u001b[0;34m[\u001b[0m\u001b[0;36m4\u001b[0m\u001b[0;34m]\u001b[0m\u001b[0;34m)\u001b[0m\u001b[0;34m\u001b[0m\u001b[0m\n",
      "\u001b[0;31mKeyboardInterrupt\u001b[0m: "
     ]
    },
    {
     "data": {
      "image/png": "[encoded data removed]",
      "text/plain": [
       "<Figure size 1440x432 with 2 Axes>"
      ]
     },
     "metadata": {
      "needs_background": "light"
     },
     "output_type": "display_data"
    }
   ],
   "source": [
    "if significance:\n",
    "    activation = tf.nn.relu\n",
    "    initializer = None\n",
    "    regularizer = None\n",
    "    epochs = 50\n",
    "    batch_size = 10000\n",
    "    val_split = 0.2\n",
    "\n",
    "    datasets = [x_base, x_tke, x_theta]\n",
    "    fig = plt.figure(figsize = (20, 6))\n",
    "    results = {}\n",
    "    i = 1\n",
    "    for x in datasets:\n",
    "        mask =  np.random.rand(x.shape[0]) < 0.80\n",
    "        y_train, y_test = y_tau_11[mask], y_tau_11[~mask]\n",
    "        x_train, x_test = x[mask,:,:,:,:], x[~mask,:,:,:,:]\n",
    "\n",
    "        input_shape = (x_train.shape[1], x_train.shape[2], x_train.shape[3], x_train.shape[4])\n",
    "        model = DNN(activation, initializer, regularizer, x_train, y_train, epochs, batch_size, input_shape, val_split)        \n",
    "        history, model = model.run_model()\n",
    "        \n",
    "        fig.add_subplot(1, len(datasets), i)\n",
    "        plt.plot(history.epoch, np.array(history.history['loss']), label = 'Train Loss')\n",
    "        plt.plot(history.epoch, np.array(history.history['val_loss']), label = 'Val loss')\n",
    "        plt.xlabel('Epoch')\n",
    "        plt.ylabel('Mean Square Error')\n",
    "        plt.ylim((0,0.00005))\n",
    "        plt.legend()\n",
    "\n",
    "        y_pred = model.predict(x_test).flatten()\n",
    "        y_true = y_test\n",
    "        print(\"R^2: %.4f\" % r2_score(y_true, y_pred))\n",
    "        print(\"Correlation: %.4f\\n\" % np.corrcoef(y_pred, y_true)[0, 1])\n",
    "        results[np.corrcoef(y_pred, y_true)[0, 1]] = x\n",
    "        i += 1\n",
    "\n",
    "    plt.show()"
   ]
  },
  {
   "cell_type": "code",
   "execution_count": null,
   "metadata": {},
   "outputs": [],
   "source": [
    "x_best = results[max(results)]"
   ]
  },
  {
   "cell_type": "code",
   "execution_count": null,
   "metadata": {},
   "outputs": [],
   "source": [
    "if all_taus:\n",
    "    taus = [y_tau_11, y_tau_12, y_tau_13, y_tau_22, y_tau_23, y_tau_33]\n",
    "else:\n",
    "    taus = [y_tau_12, y_tau_13, y_tau_23]\n",
    "    \n",
    "activation = tf.nn.relu\n",
    "initializer = None\n",
    "regularizer = None\n",
    "epochs = 500\n",
    "batch_size = 10000\n",
    "input_shape = (x_best.shape[1], x_best.shape[2], x_best.shape[3], x_best.shape[4])\n",
    "val_split = 0.2\n",
    "\n",
    "fig = plt.figure(figsize = (20, 10))\n",
    "\n",
    "i = 1\n",
    "for y in taus:\n",
    "    mask =  np.random.rand(x.shape[0]) < 0.80\n",
    "    x_train, x_test = x_best[mask,:,:,:,:], x_best[~mask,:,:,:,:]\n",
    "    y_train, y_test = y[mask], y[~mask]\n",
    "    \n",
    "    model = DNN(activation, initializer, regularizer, x_train, y_train, epochs, batch_size, input_shape, filter_size, val_split)\n",
    "    history, model = model.run_model()\n",
    "    fig.add_subplot(2, int(len(taus)/2), i)\n",
    "    plt.plot(history.epoch, np.array(history.history['loss']), label = 'Train Loss')\n",
    "    plt.plot(history.epoch, np.array(history.history['val_loss']), label = 'Val loss')\n",
    "    plt.xlabel('Epoch')\n",
    "    plt.ylabel('Mean Square Error')\n",
    "    plt.legend()\n",
    "    \n",
    "    y_pred = model.predict(x_test).flatten()\n",
    "    y_true = y_test\n",
    "    print(\"R^2: %.4f\" % r2_score(y_true, y_pred))\n",
    "    print(\"Correlation: %.4f\\n\" % np.corrcoef(y_pred, y_true)[0, 1])\n",
    "    i += 1\n",
    "\n",
    "plt.show()"
   ]
  }
 ],
 "metadata": {
  "kernelspec": {
   "display_name": "Python 3",
   "language": "python",
   "name": "python3"
  },
  "language_info": {
   "codemirror_mode": {
    "name": "ipython",
    "version": 3
   },
   "file_extension": ".py",
   "mimetype": "text/x-python",
   "name": "python",
   "nbconvert_exporter": "python",
   "pygments_lexer": "ipython3",
   "version": "3.6.6"
  }
 },
 "nbformat": 4,
 "nbformat_minor": 2
}
