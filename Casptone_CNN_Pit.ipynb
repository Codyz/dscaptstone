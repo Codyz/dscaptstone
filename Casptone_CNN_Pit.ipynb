{
 "cells": [
  {
   "cell_type": "code",
   "execution_count": 41,
   "metadata": {},
   "outputs": [
    {
     "name": "stdout",
     "output_type": "stream",
     "text": [
      "Requirement already satisfied: tqdm in ./miniconda3/envs/dlenv/lib/python3.6/site-packages (4.28.1)\n",
      "\u001b[31mmkl-random 1.0.1 requires cython, which is not installed.\u001b[0m\n",
      "\u001b[33mYou are using pip version 10.0.1, however version 18.1 is available.\n",
      "You should consider upgrading via the 'pip install --upgrade pip' command.\u001b[0m\n"
     ]
    }
   ],
   "source": [
    "import tensorflow as tf\n",
    "from tensorflow import keras\n",
    "from scipy.io import loadmat\n",
    "from tensorflow.keras import regularizers\n",
    "import os\n",
    "import numpy as np\n",
    "!pip install tqdm\n",
    "from tqdm import tqdm_notebook\n",
    "import matplotlib.pyplot as plt\n",
    "from tensorflow.keras import backend as K\n",
    "from sklearn.metrics import r2_score"
   ]
  },
  {
   "cell_type": "code",
   "execution_count": 2,
   "metadata": {},
   "outputs": [],
   "source": [
    "#os.chdir(\"/Users/michelkauffmann/Downloads\")\n",
    "u = loadmat('u_F_xyz_T1.mat')[\"u_F\"]\n",
    "v = loadmat('v_F_xyz_T1.mat')[\"v_F\"]\n",
    "w = loadmat('w_F_xyz_T1.mat')[\"w_F\"]\n",
    "tau_11 = loadmat('tau11_xyz_T1.mat')[\"tau11\"]"
   ]
  },
  {
   "cell_type": "code",
   "execution_count": 3,
   "metadata": {},
   "outputs": [
    {
     "data": {
      "text/plain": [
       "True"
      ]
     },
     "execution_count": 3,
     "metadata": {},
     "output_type": "execute_result"
    }
   ],
   "source": [
    "u.shape == v.shape == w.shape == tau_11.shape"
   ]
  },
  {
   "cell_type": "code",
   "execution_count": 4,
   "metadata": {},
   "outputs": [
    {
     "data": {
      "text/plain": [
       "(146, 96, 75)"
      ]
     },
     "execution_count": 4,
     "metadata": {},
     "output_type": "execute_result"
    }
   ],
   "source": [
    "tau_11.shape"
   ]
  },
  {
   "cell_type": "code",
   "execution_count": 5,
   "metadata": {},
   "outputs": [],
   "source": [
    "x = np.array([u, v, w])\n",
    "x = np.transpose(x, [1, 2, 3, 0])"
   ]
  },
  {
   "cell_type": "code",
   "execution_count": 6,
   "metadata": {},
   "outputs": [
    {
     "data": {
      "text/plain": [
       "(146, 96, 75, 3)"
      ]
     },
     "execution_count": 6,
     "metadata": {},
     "output_type": "execute_result"
    }
   ],
   "source": [
    "x.shape"
   ]
  },
  {
   "cell_type": "code",
   "execution_count": 7,
   "metadata": {},
   "outputs": [],
   "source": [
    "x = np.pad(x, ((2,2), (2,2), (2,2), (0,0)), 'constant', constant_values = 0)"
   ]
  },
  {
   "cell_type": "code",
   "execution_count": 8,
   "metadata": {},
   "outputs": [
    {
     "data": {
      "application/vnd.jupyter.widget-view+json": {
       "model_id": "6c2cc8781e5349738419590020974ec9",
       "version_major": 2,
       "version_minor": 0
      },
      "text/plain": [
       "HBox(children=(IntProgress(value=0, max=146), HTML(value='')))"
      ]
     },
     "metadata": {},
     "output_type": "display_data"
    },
    {
     "name": "stdout",
     "output_type": "stream",
     "text": [
      "\n"
     ]
    }
   ],
   "source": [
    "sample = []\n",
    "size = 2\n",
    "y = []\n",
    "for i in tqdm_notebook(range(size, x.shape[0] - size)):\n",
    "    for j in range(size, x.shape[1] - size):\n",
    "        for k in range(size, x.shape[2] - size):\n",
    "            sample.append(x[i - size: i + size + 1, j - size: j + size + 1, k - size: k + size + 1, :])\n",
    "            y.append(tau_11[i-2][j-2][k-2])"
   ]
  },
  {
   "cell_type": "code",
   "execution_count": 9,
   "metadata": {},
   "outputs": [
    {
     "data": {
      "text/plain": [
       "(1051200, 5, 5, 5, 3)"
      ]
     },
     "execution_count": 9,
     "metadata": {},
     "output_type": "execute_result"
    }
   ],
   "source": [
    "x = np.stack(sample, axis = 0)\n",
    "x.shape"
   ]
  },
  {
   "cell_type": "code",
   "execution_count": 10,
   "metadata": {},
   "outputs": [
    {
     "data": {
      "text/plain": [
       "(1051200,)"
      ]
     },
     "execution_count": 10,
     "metadata": {},
     "output_type": "execute_result"
    }
   ],
   "source": [
    "y = np.array(y)\n",
    "y.shape"
   ]
  },
  {
   "cell_type": "code",
   "execution_count": 11,
   "metadata": {},
   "outputs": [],
   "source": [
    "#mask =  np.random.rand(x.shape[0]) < 0.80\n",
    "x_train, x_test = x[:800000, :, :, :, :], x[800000:, :, :, :, :]\n",
    "y_train, y_test = y[:800000], y[800000:]"
   ]
  },
  {
   "cell_type": "code",
   "execution_count": 42,
   "metadata": {},
   "outputs": [],
   "source": [
    "model = keras.Sequential([\n",
    "    tf.keras.layers.Conv3D(32,\n",
    "                     kernel_size = (2,2,2),\n",
    "                     activation = \"relu\",\n",
    "                     input_shape = (5,5,5,3),   \n",
    "                     padding = \"same\",\n",
    "                     kernel_regularizer=regularizers.l2(0.01)),\n",
    "    tf.keras.layers.MaxPooling3D(pool_size = (2,2,2)),\n",
    "    tf.keras.layers.Conv3D(64, \n",
    "                     kernel_size = (2,2,2), \n",
    "                     activation = \"relu\",\n",
    "                     padding = \"same\",\n",
    "                     kernel_regularizer=regularizers.l2(0.01)),\n",
    "    tf.keras.layers.MaxPooling3D(pool_size = (2,2,2)),\n",
    "    tf.keras.layers.Flatten(), #input_shape = (5,5,5,3)\n",
    "    #tf.keras.layers.Dense(128, activation = tf.nn.relu),\n",
    "    #tf.keras.layers.Dropout(0.2),\n",
    "    #tf.keras.layers.Dense(64, activation = tf.nn.relu),\n",
    "    #tf.keras.layers.Dropout(0.2),\n",
    "    tf.keras.layers.Dense(128, activation = tf.nn.relu, kernel_regularizer=regularizers.l2(0.01)),\n",
    "    tf.keras.layers.Dense(1)\n",
    "])"
   ]
  },
  {
   "cell_type": "code",
   "execution_count": 43,
   "metadata": {},
   "outputs": [],
   "source": [
    "model.compile(loss = 'mse',\n",
    "                optimizer = tf.train.AdamOptimizer(),\n",
    "                metrics = ['mse'])"
   ]
  },
  {
   "cell_type": "code",
   "execution_count": 44,
   "metadata": {},
   "outputs": [],
   "source": [
    "#model = model\n",
    "#model.summary()"
   ]
  },
  {
   "cell_type": "code",
   "execution_count": 45,
   "metadata": {},
   "outputs": [
    {
     "data": {
      "text/plain": [
       "\"\\nearly_stopping = tf.keras.callbacks.EarlyStopping(monitor = 'val_loss',\\n                                               min_delta = 0.01,\\n                                               patience = 0,\\n                                               verbose = 1)\\n\""
      ]
     },
     "execution_count": 45,
     "metadata": {},
     "output_type": "execute_result"
    }
   ],
   "source": [
    "\"\"\"\n",
    "early_stopping = tf.keras.callbacks.EarlyStopping(monitor = 'val_loss',\n",
    "                                               min_delta = 0.01,\n",
    "                                               patience = 0,\n",
    "                                               verbose = 1)\n",
    "\"\"\""
   ]
  },
  {
   "cell_type": "code",
   "execution_count": null,
   "metadata": {},
   "outputs": [
    {
     "name": "stdout",
     "output_type": "stream",
     "text": [
      "Train on 640000 samples, validate on 160000 samples\n",
      "Epoch 1/50\n",
      "640000/640000 [==============================] - 9s 13us/step - loss: 0.4621 - mean_squared_error: 7.1588e-04 - val_loss: 0.0800 - val_mean_squared_error: 6.3784e-04\n",
      "Epoch 2/50\n",
      "640000/640000 [==============================] - 8s 13us/step - loss: 0.0256 - mean_squared_error: 6.1551e-04 - val_loss: 0.0038 - val_mean_squared_error: 7.0447e-04\n",
      "Epoch 3/50\n",
      "640000/640000 [==============================] - 8s 13us/step - loss: 0.0015 - mean_squared_error: 6.2928e-04 - val_loss: 7.7693e-04 - val_mean_squared_error: 7.0505e-04\n",
      "Epoch 4/50\n",
      "640000/640000 [==============================] - 8s 13us/step - loss: 6.4942e-04 - mean_squared_error: 6.2899e-04 - val_loss: 7.0795e-04 - val_mean_squared_error: 7.0484e-04\n",
      "Epoch 5/50\n",
      "640000/640000 [==============================] - 8s 13us/step - loss: 6.3023e-04 - mean_squared_error: 6.2909e-04 - val_loss: 7.0695e-04 - val_mean_squared_error: 7.0670e-04\n",
      "Epoch 6/50\n",
      "640000/640000 [==============================] - 8s 13us/step - loss: 6.2939e-04 - mean_squared_error: 6.2930e-04 - val_loss: 7.0697e-04 - val_mean_squared_error: 7.0695e-04\n",
      "Epoch 7/50\n",
      "640000/640000 [==============================] - 8s 13us/step - loss: 6.2911e-04 - mean_squared_error: 6.2911e-04 - val_loss: 7.0594e-04 - val_mean_squared_error: 7.0594e-04\n",
      "Epoch 8/50\n",
      "640000/640000 [==============================] - 8s 13us/step - loss: 6.2921e-04 - mean_squared_error: 6.2921e-04 - val_loss: 7.0473e-04 - val_mean_squared_error: 7.0473e-04\n",
      "Epoch 9/50\n",
      "640000/640000 [==============================] - 8s 13us/step - loss: 6.2925e-04 - mean_squared_error: 6.2925e-04 - val_loss: 7.0562e-04 - val_mean_squared_error: 7.0562e-04\n",
      "Epoch 10/50\n",
      "640000/640000 [==============================] - 8s 13us/step - loss: 6.2924e-04 - mean_squared_error: 6.2924e-04 - val_loss: 7.0477e-04 - val_mean_squared_error: 7.0476e-04\n",
      "Epoch 11/50\n",
      "640000/640000 [==============================] - 8s 13us/step - loss: 6.2925e-04 - mean_squared_error: 6.2925e-04 - val_loss: 7.0623e-04 - val_mean_squared_error: 7.0623e-04\n",
      "Epoch 12/50\n",
      "640000/640000 [==============================] - 8s 13us/step - loss: 6.2926e-04 - mean_squared_error: 6.2926e-04 - val_loss: 7.0532e-04 - val_mean_squared_error: 7.0532e-04\n",
      "Epoch 13/50\n",
      "640000/640000 [==============================] - 8s 13us/step - loss: 6.2916e-04 - mean_squared_error: 6.2916e-04 - val_loss: 7.0460e-04 - val_mean_squared_error: 7.0460e-04\n",
      "Epoch 14/50\n",
      "640000/640000 [==============================] - 8s 13us/step - loss: 6.2928e-04 - mean_squared_error: 6.2928e-04 - val_loss: 7.0574e-04 - val_mean_squared_error: 7.0574e-04\n",
      "Epoch 15/50\n",
      "640000/640000 [==============================] - 8s 13us/step - loss: 6.2897e-04 - mean_squared_error: 6.2896e-04 - val_loss: 7.0500e-04 - val_mean_squared_error: 7.0500e-04\n",
      "Epoch 16/50\n",
      "640000/640000 [==============================] - 8s 12us/step - loss: 6.2946e-04 - mean_squared_error: 6.2946e-04 - val_loss: 7.0535e-04 - val_mean_squared_error: 7.0535e-04\n",
      "Epoch 17/50\n",
      "640000/640000 [==============================] - 8s 12us/step - loss: 6.2909e-04 - mean_squared_error: 6.2908e-04 - val_loss: 7.0523e-04 - val_mean_squared_error: 7.0523e-04\n",
      "Epoch 18/50\n",
      "640000/640000 [==============================] - 8s 13us/step - loss: 6.2920e-04 - mean_squared_error: 6.2920e-04 - val_loss: 7.0573e-04 - val_mean_squared_error: 7.0573e-04\n",
      "Epoch 19/50\n",
      "640000/640000 [==============================] - 8s 13us/step - loss: 6.2913e-04 - mean_squared_error: 6.2913e-04 - val_loss: 7.0837e-04 - val_mean_squared_error: 7.0837e-04\n",
      "Epoch 20/50\n",
      "640000/640000 [==============================] - 8s 13us/step - loss: 6.2914e-04 - mean_squared_error: 6.2913e-04 - val_loss: 7.0668e-04 - val_mean_squared_error: 7.0667e-04\n",
      "Epoch 21/50\n",
      "640000/640000 [==============================] - 8s 13us/step - loss: 6.2936e-04 - mean_squared_error: 6.2935e-04 - val_loss: 7.0485e-04 - val_mean_squared_error: 7.0484e-04\n",
      "Epoch 22/50\n",
      "640000/640000 [==============================] - 8s 12us/step - loss: 6.2922e-04 - mean_squared_error: 6.2921e-04 - val_loss: 7.0473e-04 - val_mean_squared_error: 7.0473e-04\n",
      "Epoch 23/50\n",
      "640000/640000 [==============================] - 8s 13us/step - loss: 6.2925e-04 - mean_squared_error: 6.2925e-04 - val_loss: 7.0809e-04 - val_mean_squared_error: 7.0809e-04\n",
      "Epoch 24/50\n",
      "640000/640000 [==============================] - 8s 13us/step - loss: 6.2930e-04 - mean_squared_error: 6.2929e-04 - val_loss: 7.0513e-04 - val_mean_squared_error: 7.0513e-04\n",
      "Epoch 25/50\n",
      "640000/640000 [==============================] - 8s 13us/step - loss: 6.2943e-04 - mean_squared_error: 6.2943e-04 - val_loss: 7.0564e-04 - val_mean_squared_error: 7.0563e-04\n",
      "Epoch 26/50\n",
      "640000/640000 [==============================] - 8s 13us/step - loss: 6.2925e-04 - mean_squared_error: 6.2924e-04 - val_loss: 7.0499e-04 - val_mean_squared_error: 7.0499e-04\n",
      "Epoch 27/50\n",
      "640000/640000 [==============================] - 8s 13us/step - loss: 6.2906e-04 - mean_squared_error: 6.2905e-04 - val_loss: 7.0503e-04 - val_mean_squared_error: 7.0503e-04\n",
      "Epoch 28/50\n",
      "640000/640000 [==============================] - 8s 13us/step - loss: 6.2914e-04 - mean_squared_error: 6.2914e-04 - val_loss: 7.0471e-04 - val_mean_squared_error: 7.0471e-04\n",
      "Epoch 29/50\n",
      "640000/640000 [==============================] - 8s 13us/step - loss: 6.2931e-04 - mean_squared_error: 6.2931e-04 - val_loss: 7.0459e-04 - val_mean_squared_error: 7.0458e-04\n",
      "Epoch 30/50\n",
      "640000/640000 [==============================] - 8s 13us/step - loss: 6.2933e-04 - mean_squared_error: 6.2932e-04 - val_loss: 7.0460e-04 - val_mean_squared_error: 7.0459e-04\n",
      "Epoch 31/50\n",
      "640000/640000 [==============================] - 8s 13us/step - loss: 6.2937e-04 - mean_squared_error: 6.2937e-04 - val_loss: 7.0518e-04 - val_mean_squared_error: 7.0517e-04\n",
      "Epoch 32/50\n",
      "640000/640000 [==============================] - 8s 13us/step - loss: 6.2949e-04 - mean_squared_error: 6.2948e-04 - val_loss: 7.0480e-04 - val_mean_squared_error: 7.0480e-04\n",
      "Epoch 33/50\n",
      "640000/640000 [==============================] - 8s 13us/step - loss: 6.2916e-04 - mean_squared_error: 6.2916e-04 - val_loss: 7.0520e-04 - val_mean_squared_error: 7.0519e-04\n",
      "Epoch 34/50\n",
      "640000/640000 [==============================] - 8s 13us/step - loss: 6.2928e-04 - mean_squared_error: 6.2928e-04 - val_loss: 7.0479e-04 - val_mean_squared_error: 7.0478e-04\n",
      "Epoch 35/50\n",
      "640000/640000 [==============================] - 8s 13us/step - loss: 6.2938e-04 - mean_squared_error: 6.2938e-04 - val_loss: 7.0630e-04 - val_mean_squared_error: 7.0629e-04\n",
      "Epoch 36/50\n",
      "640000/640000 [==============================] - 8s 13us/step - loss: 6.2970e-04 - mean_squared_error: 6.2969e-04 - val_loss: 7.0478e-04 - val_mean_squared_error: 7.0477e-04\n",
      "Epoch 37/50\n",
      " 50000/640000 [=>............................] - ETA: 6s - loss: 6.3265e-04 - mean_squared_error: 6.3265e-04"
     ]
    }
   ],
   "source": [
    "history = model.fit(x_train, y_train, \n",
    "                    epochs = 50,\n",
    "                    validation_split = 0.2, \n",
    "                    batch_size = 5000)\n",
    "                    #callbacks = [early_stopping])"
   ]
  },
  {
   "cell_type": "code",
   "execution_count": 22,
   "metadata": {},
   "outputs": [
    {
     "data": {
      "text/plain": [
       "<matplotlib.legend.Legend at 0x7f7c79cdfba8>"
      ]
     },
     "execution_count": 22,
     "metadata": {},
     "output_type": "execute_result"
    },
    {
     "data": {
      "image/png": "[encoded data removed]",
      "text/plain": [
       "<Figure size 432x288 with 1 Axes>"
      ]
     },
     "metadata": {
      "needs_background": "light"
     },
     "output_type": "display_data"
    }
   ],
   "source": [
    "plt.figure()\n",
    "plt.xlabel('Epoch')\n",
    "plt.ylabel('Mean Square Error')\n",
    "plt.plot(history.epoch, np.array(history.history['mean_squared_error']), label = 'Train Loss')\n",
    "plt.plot(history.epoch, np.array(history.history['val_mean_squared_error']), label = 'Val loss')\n",
    "plt.legend()"
   ]
  },
  {
   "cell_type": "code",
   "execution_count": 30,
   "metadata": {},
   "outputs": [],
   "source": [
    "y_pred = model.predict(x_test).flatten()\n",
    "y_true = y_test"
   ]
  },
  {
   "cell_type": "code",
   "execution_count": 31,
   "metadata": {},
   "outputs": [
    {
     "name": "stdout",
     "output_type": "stream",
     "text": [
      "R^2: 0.2385\n",
      "\n"
     ]
    }
   ],
   "source": [
    "print(\"R^2: %.4f\\n\" % r2_score(y_true, y_pred))"
   ]
  },
  {
   "cell_type": "code",
   "execution_count": 36,
   "metadata": {},
   "outputs": [
    {
     "data": {
      "text/plain": [
       "0.7389941533442025"
      ]
     },
     "execution_count": 36,
     "metadata": {},
     "output_type": "execute_result"
    }
   ],
   "source": [
    "np.corrcoef(y_pred, y_true)[0, 1]"
   ]
  },
  {
   "cell_type": "code",
   "execution_count": null,
   "metadata": {},
   "outputs": [],
   "source": []
  }
 ],
 "metadata": {
  "kernelspec": {
   "display_name": "Python 3",
   "language": "python",
   "name": "python3"
  },
  "language_info": {
   "codemirror_mode": {
    "name": "ipython",
    "version": 3
   },
   "file_extension": ".py",
   "mimetype": "text/x-python",
   "name": "python",
   "nbconvert_exporter": "python",
   "pygments_lexer": "ipython3",
   "version": "3.6.6"
  }
 },
 "nbformat": 4,
 "nbformat_minor": 2
}
