{
 "cells": [
  {
   "cell_type": "code",
   "execution_count": 2,
   "metadata": {},
   "outputs": [],
   "source": [
    "%%capture\n",
    "import tensorflow as tf\n",
    "from tensorflow import keras\n",
    "from scipy.io import loadmat\n",
    "from tensorflow.keras import regularizers\n",
    "import os\n",
    "import numpy as np\n",
    "!pip install tqdm\n",
    "from tqdm import tqdm_notebook\n",
    "import matplotlib.pyplot as plt\n",
    "from tensorflow.keras import backend as K\n",
    "from sklearn.metrics import r2_score"
   ]
  },
  {
   "cell_type": "code",
   "execution_count": 5,
   "metadata": {},
   "outputs": [],
   "source": [
    "#os.chdir(\"/Users/michelkauffmann/Downloads\")\n",
    "u = loadmat('u_F_xyz_T1.mat')[\"u_F\"]\n",
    "v = loadmat('v_F_xyz_T1.mat')[\"v_F\"]\n",
    "w = loadmat('w_F_xyz_T1.mat')[\"w_F\"]\n",
    "tau_11 = loadmat('tau11_xyz_T1.mat')[\"tau11\"]\n",
    "tau_12 = loadmat('tau12_xyz_T1.mat')[\"tau12\"]\n",
    "tau_13 = loadmat('tau13_xyz_T1.mat')[\"tau13\"]\n",
    "tau_22 = loadmat('tau22_xyz_T1.mat')[\"tau22\"]\n",
    "tau_23 = loadmat('tau23_xyz_T1.mat')[\"tau23\"]\n",
    "tau_33 = loadmat('tau33_xyz_T1.mat')[\"tau33\"]\n",
    "tke = loadmat(\"TKE_F_xyz_T1.mat\")[\"TKE_F\"]"
   ]
  },
  {
   "cell_type": "code",
   "execution_count": 6,
   "metadata": {},
   "outputs": [
    {
     "data": {
      "text/plain": [
       "True"
      ]
     },
     "execution_count": 6,
     "metadata": {},
     "output_type": "execute_result"
    }
   ],
   "source": [
    "u.shape == v.shape == w.shape == tau_11.shape == tke.shape"
   ]
  },
  {
   "cell_type": "code",
   "execution_count": 7,
   "metadata": {},
   "outputs": [
    {
     "data": {
      "text/plain": [
       "(146, 96, 75)"
      ]
     },
     "execution_count": 7,
     "metadata": {},
     "output_type": "execute_result"
    }
   ],
   "source": [
    "tau_11.shape"
   ]
  },
  {
   "cell_type": "markdown",
   "metadata": {},
   "source": [
    "### Create Dataset with TKE"
   ]
  },
  {
   "cell_type": "code",
   "execution_count": 8,
   "metadata": {},
   "outputs": [
    {
     "data": {
      "application/vnd.jupyter.widget-view+json": {
       "model_id": "eda63169e0a848ebab8d608b92050d52",
       "version_major": 2,
       "version_minor": 0
      },
      "text/plain": [
       "HBox(children=(IntProgress(value=0, max=146), HTML(value='')))"
      ]
     },
     "metadata": {},
     "output_type": "display_data"
    },
    {
     "name": "stdout",
     "output_type": "stream",
     "text": [
      "\n"
     ]
    }
   ],
   "source": [
    "x = np.array([u, v, w, tke])\n",
    "x = np.transpose(x, [1, 2, 3, 0])\n",
    "\n",
    "x = np.pad(x, ((3,3), (3,3), (3,3), (0,0)), 'constant', constant_values = 0)\n",
    "sample = []\n",
    "size = 3\n",
    "y_tau_11 = []\n",
    "y_tau_12 = []\n",
    "y_tau_13 = []\n",
    "y_tau_22 = []\n",
    "y_tau_23 = []\n",
    "y_tau_33 = []\n",
    "for i in tqdm_notebook(range(size, x.shape[0] - size)):\n",
    "    for j in range(size, x.shape[1] - size):\n",
    "        for k in range(size, x.shape[2] - size):\n",
    "            sample.append(x[i - size: i + size + 1, j - size: j + size + 1, k - size: k + size + 1, :])\n",
    "            y_tau_11.append(tau_11[i - size][j - size][k - size])\n",
    "            y_tau_12.append(tau_12[i - size][j - size][k - size])\n",
    "            y_tau_13.append(tau_13[i - size][j - size][k - size])\n",
    "            y_tau_22.append(tau_22[i - size][j - size][k - size])\n",
    "            y_tau_23.append(tau_23[i - size][j - size][k - size])\n",
    "            y_tau_33.append(tau_33[i - size][j - size][k - size])"
   ]
  },
  {
   "cell_type": "code",
   "execution_count": 9,
   "metadata": {},
   "outputs": [
    {
     "name": "stdout",
     "output_type": "stream",
     "text": [
      "(1051200, 7, 7, 7, 4)\n"
     ]
    }
   ],
   "source": [
    "x = np.stack(sample, axis = 0)\n",
    "print(x.shape)\n",
    "y_tau_11 = np.array(y_tau_11)\n",
    "y_tau_12 = np.array(y_tau_12)\n",
    "y_tau_13 = np.array(y_tau_13)\n",
    "y_tau_22 = np.array(y_tau_22)\n",
    "y_tau_23 = np.array(y_tau_23)\n",
    "y_tau_33 = np.array(y_tau_33)\n",
    "\n",
    "mask =  np.random.rand(x.shape[0]) < 0.80\n",
    "x_train_1, x_test_1 = x[mask,:,:,:,:], x[~mask,:,:,:,:]\n",
    "\n",
    "y_train_tau_11, y_test_tau_11 = y_tau_11[mask], y_tau_11[~mask]\n",
    "y_train_tau_12, y_test_tau_12 = y_tau_12[mask], y_tau_12[~mask]\n",
    "y_train_tau_13, y_test_tau_13 = y_tau_13[mask], y_tau_13[~mask]\n",
    "y_train_tau_22, y_test_tau_22 = y_tau_22[mask], y_tau_22[~mask]\n",
    "y_train_tau_23, y_test_tau_23 = y_tau_23[mask], y_tau_23[~mask]\n",
    "y_train_tau_33, y_test_tau_33 = y_tau_33[mask], y_tau_33[~mask]"
   ]
  },
  {
   "cell_type": "markdown",
   "metadata": {},
   "source": [
    "### Create Dataset without TKE"
   ]
  },
  {
   "cell_type": "code",
   "execution_count": 10,
   "metadata": {},
   "outputs": [
    {
     "name": "stdout",
     "output_type": "stream",
     "text": [
      "(841526, 7, 7, 7, 3)\n",
      "(209674, 7, 7, 7, 3)\n"
     ]
    }
   ],
   "source": [
    "x_train_2 = np.delete(x_train_1, 3, 4)\n",
    "x_test_2 = np.delete(x_test_1, 3, 4)\n",
    "print(x_train_2.shape)\n",
    "print(x_test_2.shape)"
   ]
  },
  {
   "cell_type": "markdown",
   "metadata": {},
   "source": [
    "### Create Model Class "
   ]
  },
  {
   "cell_type": "code",
   "execution_count": 17,
   "metadata": {},
   "outputs": [],
   "source": [
    "class RNN(object):\n",
    "    \n",
    "    def __init__(self, activation, initializer, regularizer, x_train, y_train, epochs, batch_size, input_shape, filter_size, val_split):\n",
    "        self.activation = activation\n",
    "        self.initializer = initializer\n",
    "        self.regularizer = regularizer\n",
    "        self.x_train = x_train\n",
    "        self.y_train = y_train\n",
    "        self.epochs = epochs\n",
    "        self.batch_size = batch_size\n",
    "        self.input_shape = input_shape\n",
    "        self.filter = filter_size\n",
    "        self.val_split = val_split\n",
    "        \n",
    "        pass \n",
    "    \n",
    "    def create_model(self):\n",
    "        model = keras.Sequential([\n",
    "            tf.keras.layers.Conv3D(32,\n",
    "                             kernel_size =  self.filter,\n",
    "                             activation = self.activation,\n",
    "                             input_shape = input_shape,   \n",
    "                             padding = \"same\",\n",
    "                             kernel_regularizer = self.regularizer),\n",
    "            tf.keras.layers.MaxPooling3D(pool_size = (2,2,2)),\n",
    "            tf.keras.layers.Conv3D(64, \n",
    "                             kernel_size =  self.filter, \n",
    "                             activation = self.activation,\n",
    "                             padding = \"same\",\n",
    "                             kernel_regularizer = self.regularizer),\n",
    "            tf.keras.layers.MaxPooling3D(pool_size = (2,2,2)),\n",
    "            tf.keras.layers.Conv3D(64, \n",
    "                             kernel_size =  self.filter, \n",
    "                             activation = self.activation,\n",
    "                             padding = \"same\",\n",
    "                             kernel_regularizer = self.regularizer),\n",
    "            tf.keras.layers.MaxPooling3D(pool_size = (1,1,1)),\n",
    "            tf.keras.layers.Flatten(),\n",
    "            tf.keras.layers.Dense(128, \n",
    "                             activation = self.activation, \n",
    "                             kernel_regularizer = self.regularizer, \n",
    "                             kernel_initializer = self.initializer),\n",
    "            tf.keras.layers.Dropout(0.2),\n",
    "            tf.keras.layers.Dense(1)\n",
    "        ])\n",
    "        \n",
    "        return model\n",
    "    \n",
    "    def callbacks(self):\n",
    "        early_stopping = tf.keras.callbacks.EarlyStopping(monitor = 'val_loss',\n",
    "                                               min_delta = 0.001,\n",
    "                                               patience = 0,\n",
    "                                               verbose = 0)\n",
    "        \n",
    "        return early_stopping\n",
    "    \n",
    "    def run_model(self):\n",
    "        model = self.create_model()\n",
    "        model.compile(optimizer = tf.train.AdamOptimizer(), \n",
    "              loss = \"mse\")\n",
    "              #metrics = ['mse'])\n",
    "        \n",
    "        history = model.fit(self.x_train, self.y_train, \n",
    "                    epochs = self.epochs, \n",
    "                    validation_split = self.val_split, \n",
    "                    batch_size =  self.batch_size,\n",
    "                    verbose = 0)\n",
    "                    #callbacks = [self.callbacks()])\n",
    "        \n",
    "        return history, model"
   ]
  },
  {
   "cell_type": "markdown",
   "metadata": {},
   "source": [
    "###  Compare input with TKE and without TKE"
   ]
  },
  {
   "cell_type": "code",
   "execution_count": 19,
   "metadata": {},
   "outputs": [
    {
     "name": "stdout",
     "output_type": "stream",
     "text": [
      "R^2: 0.6097\n",
      "\n",
      "Correlation: 0.7918\n",
      "\n",
      "R^2: 0.4979\n",
      "\n",
      "Correlation: 0.7723\n",
      "\n"
     ]
    },
    {
     "data": {
      "image/png": "[encoded data removed]",
      "text/plain": [
       "<Figure size 1440x432 with 2 Axes>"
      ]
     },
     "metadata": {
      "needs_background": "light"
     },
     "output_type": "display_data"
    }
   ],
   "source": [
    "activation = tf.nn.relu\n",
    "initializer = \"glorot_uniform_initializer\"\n",
    "regularizer = None\n",
    "epochs = 50\n",
    "batch_size = 10000\n",
    "filter_size = (3,3,3)\n",
    "val_split = 0.2\n",
    "\n",
    "datasets = [(x_train_1, x_test_1), (x_train_2, x_test_2)]\n",
    "fig = plt.figure(figsize = (20, 6))\n",
    "\n",
    "i = 1\n",
    "for (x_train, x_test) in datasets:\n",
    "    input_shape = (x_train.shape[1], x_train.shape[2], x_train.shape[3], x_train.shape[4])\n",
    "    model = RNN(activation, initializer, regularizer, x_train, y_train_tau_11, epochs, batch_size, input_shape, filter_size, val_split)\n",
    "    history, model = model.run_model()\n",
    "    fig.add_subplot(1, len(datasets), i)\n",
    "    plt.plot(history.epoch, np.array(history.history['loss']), label = 'Train Loss')\n",
    "    plt.plot(history.epoch, np.array(history.history['val_loss']), label = 'Val loss')\n",
    "    plt.xlabel('Epoch')\n",
    "    plt.ylabel('Mean Square Error')\n",
    "    plt.legend()\n",
    "    \n",
    "    y_pred = model.predict(x_test).flatten()\n",
    "    y_true = y_test_tau_11\n",
    "    print(\"R^2: %.4f\" % r2_score(y_true, y_pred))\n",
    "    print(\"Correlation: %.4f\\n\" % np.corrcoef(y_pred, y_true)[0, 1])\n",
    "    i += 1\n",
    "\n",
    "plt.show()"
   ]
  },
  {
   "cell_type": "markdown",
   "metadata": {},
   "source": [
    "### Model all 6 Tau's"
   ]
  },
  {
   "cell_type": "code",
   "execution_count": null,
   "metadata": {},
   "outputs": [],
   "source": [
    "activation = tf.nn.relu\n",
    "initializer = \"glorot_uniform_initializer\"\n",
    "regularizer = None\n",
    "epochs = 50\n",
    "batch_size = 10000\n",
    "input_shape = (x.shape[1], x.shape[2], x.shape[3], x.shape[4])\n",
    "filter_size = (3,3,3)\n",
    "val_split = 0.2\n",
    "\n",
    "taus = [(y_train_tau_11, y_test_tau_11), \n",
    "            (y_train_tau_12, y_test_tau_12),\n",
    "            (y_train_tau_13, y_test_tau_13),\n",
    "            (y_train_tau_22, y_test_tau_22 ),\n",
    "            (y_train_tau_23, y_test_tau_23 ),\n",
    "            (y_train_tau_33, y_test_tau_33)]\n",
    "fig = plt.figure(figsize = (20, 6))\n",
    "\n",
    "i = 1\n",
    "for (y_train, y_test) in taus:\n",
    "    model = RNN(activation, initializer, regularizer, x_train_1, y_train, epochs, batch_size, input_shape, filter_size, val_split)\n",
    "    history, model = model.run_model()\n",
    "    fig.add_subplot(1, len(taus), i)\n",
    "    plt.plot(history.epoch, np.array(history.history['loss']), label = 'Train Loss')\n",
    "    plt.plot(history.epoch, np.array(history.history['val_loss']), label = 'Val loss')\n",
    "    plt.xlabel('Epoch')\n",
    "    plt.ylabel('Mean Square Error')\n",
    "    plt.legend()\n",
    "    \n",
    "    y_pred = model.predict(x_test).flatten()\n",
    "    y_true = y_test\n",
    "    print(\"R^2: %.4f\\n\" % r2_score(y_true, y_pred))\n",
    "    print(\"Correlation: %.4f\\n\" % np.corrcoef(y_pred, y_true)[0, 1])\n",
    "    i += 1\n",
    "\n",
    "plt.show()"
   ]
  }
 ],
 "metadata": {
  "kernelspec": {
   "display_name": "Python 3",
   "language": "python",
   "name": "python3"
  },
  "language_info": {
   "codemirror_mode": {
    "name": "ipython",
    "version": 3
   },
   "file_extension": ".py",
   "mimetype": "text/x-python",
   "name": "python",
   "nbconvert_exporter": "python",
   "pygments_lexer": "ipython3",
   "version": "3.6.6"
  }
 },
 "nbformat": 4,
 "nbformat_minor": 2
}
